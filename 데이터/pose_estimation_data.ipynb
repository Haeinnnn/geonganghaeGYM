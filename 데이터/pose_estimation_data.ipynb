{
  "nbformat": 4,
  "nbformat_minor": 0,
  "metadata": {
    "colab": {
      "name": "pose_estimation_data.ipynb",
      "provenance": []
    },
    "kernelspec": {
      "name": "python3",
      "display_name": "Python 3"
    },
    "language_info": {
      "name": "python"
    }
  },
  "cells": [
    {
      "cell_type": "markdown",
      "source": [
        "#데이터 구성\n"
      ],
      "metadata": {
        "id": "Ygfk5zF9lFBB"
      }
    },
    {
      "cell_type": "markdown",
      "source": [
        "\n",
        "SIT 데이터는 다음과 같이 구성됨\n",
        "\n",
        "```\n",
        "SIT/\n",
        "    train/\n",
        "        GOOD/\n",
        "            file1.jpg\n",
        "            file2.jpg\n",
        "             ...\n",
        "        BAD1/ \n",
        "            file21.jpg\n",
        "            file22.jpg\n",
        "             ...    \n",
        "        BAD2/\n",
        "            file31.jpg\n",
        "            file32.jpg\n",
        "             ...\n",
        "        BAD3/\n",
        "            file41.jpg\n",
        "            file42.jpg\n",
        "             ...\n",
        "\n",
        "\n",
        "        ...\n",
        "    test/\n",
        "        GOOD/\n",
        "            file1.jpg\n",
        "            file2.jpg\n",
        "             ...\n",
        "        BAD1/ \n",
        "            file21.jpg\n",
        "            file22.jpg\n",
        "             ...    \n",
        "        BAD2/\n",
        "            file31.jpg\n",
        "            file32.jpg\n",
        "             ...\n",
        "        BAD3/\n",
        "            file41.jpg\n",
        "            file42.jpg\n",
        "             ...\n",
        "\n",
        "        ...\n",
        "```\n",
        "\n"
      ],
      "metadata": {
        "id": "6PrADiFvjxyQ"
      }
    },
    {
      "cell_type": "markdown",
      "source": [
        "STAND 데이터는 다음과 같이 구성됨\n",
        "\n",
        "```\n",
        "\n",
        "\n",
        "STAND/\n",
        "    TRAIN/\n",
        "        GOOD/\n",
        "            file1.jpg\n",
        "            file2.jpg\n",
        "             ...\n",
        "        BAD1/ \n",
        "            file21.jpg\n",
        "            file22.jpg\n",
        "             ...    \n",
        "        BAD2/\n",
        "            file31.jpg\n",
        "            file32.jpg\n",
        "             ...\n",
        "        BAD3/\n",
        "            file41.jpg\n",
        "            file42.jpg\n",
        "             ...\n",
        "        BAD4/\n",
        "            file51.jpg\n",
        "            file52.jpg\n",
        "             ...\n",
        "\n",
        "        ...\n",
        "    TEST/\n",
        "        GOOD/\n",
        "            file1.jpg\n",
        "            file2.jpg\n",
        "             ...\n",
        "        BAD1/ \n",
        "            file21.jpg\n",
        "            file22.jpg\n",
        "             ...    \n",
        "        BAD2/\n",
        "            file31.jpg\n",
        "            file32.jpg\n",
        "             ...\n",
        "        BAD3/\n",
        "            file41.jpg\n",
        "            file42.jpg\n",
        "             ...\n",
        "        BAD4/\n",
        "            file51.jpg\n",
        "            file52.jpg\n",
        "             ...     \n",
        "        ...\n",
        "\n",
        "\n",
        "```\n",
        "\n"
      ],
      "metadata": {
        "id": "al8hD5Iwk5Sg"
      }
    }
  ]
}
