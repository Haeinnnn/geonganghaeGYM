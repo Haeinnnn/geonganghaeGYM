{
  "nbformat": 4,
  "nbformat_minor": 0,
  "metadata": {
    "colab": {
      "name": "0826_GYM_v2_5[except_open_pose].ipynb",
      "provenance": [],
      "collapsed_sections": []
    },
    "kernelspec": {
      "name": "python3",
      "display_name": "Python 3"
    },
    "language_info": {
      "name": "python"
    },
    "accelerator": "GPU",
    "gpuClass": "standard"
  },
  "cells": [
    {
      "cell_type": "markdown",
      "source": [
        "#YOLO를 인식"
      ],
      "metadata": {
        "id": "rU-2SbZjRXzF"
      }
    },
    {
      "cell_type": "code",
      "source": [
        "!git clone https://github.com/dhrim/darkeras-yolov4"
      ],
      "metadata": {
        "id": "8Qrk3AQqRkUl",
        "colab": {
          "base_uri": "https://localhost:8080/"
        },
        "outputId": "61d0bd3e-79bf-44f4-8abd-5c93400d0e55"
      },
      "execution_count": 9,
      "outputs": [
        {
          "output_type": "stream",
          "name": "stdout",
          "text": [
            "Cloning into 'darkeras-yolov4'...\n",
            "remote: Enumerating objects: 175, done.\u001b[K\n",
            "remote: Counting objects: 100% (36/36), done.\u001b[K\n",
            "remote: Compressing objects: 100% (13/13), done.\u001b[K\n",
            "remote: Total 175 (delta 27), reused 25 (delta 23), pack-reused 139\u001b[K\n",
            "Receiving objects: 100% (175/175), 8.08 MiB | 15.28 MiB/s, done.\n",
            "Resolving deltas: 100% (82/82), done.\n"
          ]
        }
      ]
    },
    {
      "cell_type": "code",
      "source": [
        "%cd darkeras-yolov4"
      ],
      "metadata": {
        "id": "BtSP683BWABO",
        "colab": {
          "base_uri": "https://localhost:8080/"
        },
        "outputId": "15c5ae44-09ff-4ab8-d5c1-4c91007121e6"
      },
      "execution_count": 10,
      "outputs": [
        {
          "output_type": "stream",
          "name": "stdout",
          "text": [
            "/content/darkeras-yolov4/darkeras-yolov4\n"
          ]
        }
      ]
    },
    {
      "cell_type": "code",
      "source": [
        "!wget -O weights/yolov3.weights https://pjreddie.com/media/files/yolov3.weights"
      ],
      "metadata": {
        "id": "vs1-TPGtSCpX",
        "colab": {
          "base_uri": "https://localhost:8080/"
        },
        "outputId": "a9634097-2485-4302-a129-900e2f89a2a3"
      },
      "execution_count": 11,
      "outputs": [
        {
          "output_type": "stream",
          "name": "stdout",
          "text": [
            "--2022-08-26 19:29:28--  https://pjreddie.com/media/files/yolov3.weights\n",
            "Resolving pjreddie.com (pjreddie.com)... 128.208.4.108\n",
            "Connecting to pjreddie.com (pjreddie.com)|128.208.4.108|:443... connected.\n",
            "HTTP request sent, awaiting response... 200 OK\n",
            "Length: 248007048 (237M) [application/octet-stream]\n",
            "Saving to: ‘weights/yolov3.weights’\n",
            "\n",
            "weights/yolov3.weig 100%[===================>] 236.52M  87.8MB/s    in 2.7s    \n",
            "\n",
            "2022-08-26 19:29:31 (87.8 MB/s) - ‘weights/yolov3.weights’ saved [248007048/248007048]\n",
            "\n"
          ]
        }
      ]
    },
    {
      "cell_type": "markdown",
      "source": [
        "##모델 로딩"
      ],
      "metadata": {
        "id": "cpPC8WVIR0JB"
      }
    },
    {
      "cell_type": "code",
      "source": [
        "import yolov3_wrapper\n",
        "model = yolov3_wrapper.YoloV3Wrapper(\"weights/yolov3.weights\")"
      ],
      "metadata": {
        "id": "q2V7OXyeR7Mk"
      },
      "execution_count": 12,
      "outputs": []
    },
    {
      "cell_type": "code",
      "source": [
        "model.save(\"yolov3.h5\")#"
      ],
      "metadata": {
        "id": "zzaMufllgEUd",
        "colab": {
          "base_uri": "https://localhost:8080/"
        },
        "outputId": "17daf369-795c-4a02-91c4-f75ba926ce12"
      },
      "execution_count": 13,
      "outputs": [
        {
          "output_type": "stream",
          "name": "stderr",
          "text": [
            "WARNING:tensorflow:Compiled the loaded model, but the compiled metrics have yet to be built. `model.compile_metrics` will be empty until you train or evaluate the model.\n"
          ]
        }
      ]
    },
    {
      "cell_type": "markdown",
      "source": [
        "#구글 드라이브 마운트"
      ],
      "metadata": {
        "id": "juErSJooOdmB"
      }
    },
    {
      "cell_type": "code",
      "source": [
        "from google.colab import drive\n",
        "drive.mount('/gdrive')"
      ],
      "metadata": {
        "colab": {
          "base_uri": "https://localhost:8080/"
        },
        "id": "Evz4FpSqOfsP",
        "outputId": "2f824358-87e4-4d5c-ed58-c1696300ba3f"
      },
      "execution_count": 14,
      "outputs": [
        {
          "output_type": "stream",
          "name": "stdout",
          "text": [
            "Drive already mounted at /gdrive; to attempt to forcibly remount, call drive.mount(\"/gdrive\", force_remount=True).\n"
          ]
        }
      ]
    },
    {
      "cell_type": "markdown",
      "source": [
        "##이미지 로딩"
      ],
      "metadata": {
        "id": "fL5CF0VZicIy"
      }
    },
    {
      "cell_type": "code",
      "source": [
        "#폴더의 모든 사진을 불러옴 - 확인용 코드(안돌려도 됨)\n",
        "import glob\n",
        "\n",
        "for filename in glob.glob('/gdrive/MyDrive/DATA/5/good/2/*.jpg'):\n",
        "  print(filename)\n",
        "  name_list = filename.split(\"/\")\n",
        "  print(name_list)"
      ],
      "metadata": {
        "id": "wj4Vg_bLQWj6"
      },
      "execution_count": 23,
      "outputs": []
    },
    {
      "cell_type": "markdown",
      "source": [
        "#필요 함수 정의"
      ],
      "metadata": {
        "id": "XHIfjMuxRM3l"
      }
    },
    {
      "cell_type": "code",
      "source": [
        "import core\n",
        "import colorsys\n",
        "import random\n",
        "\n",
        "def draw_bbox(file_name1, bboxes, show_label=True):\n",
        "    \"\"\"\n",
        "    bboxes: [x_min, y_min, x_max, y_max, probability, cls_id] format coordinates.\n",
        "    \"\"\"\n",
        "    Msc=[0]\n",
        "    #classes : 딕셔너리 가능 항목 가져옴 num:str\n",
        "    try:\n",
        "        classes = class_names\n",
        "    except NameError:\n",
        "        classes = core.utils.read_class_names(\"./data/classes/coco.names\")\n",
        "    num_classes = len(classes)\n",
        "    image_h, image_w, _ = file_name1.shape#이미지 크기\n",
        "\n",
        "    hsv_tuples = [(1.0 * x / num_classes, 1., 1.) for x in range(num_classes)]\n",
        "    colors = list(map(lambda x: colorsys.hsv_to_rgb(*x), hsv_tuples))\n",
        "    colors = list(map(lambda x: (int(x[0] * 255), int(x[1] * 255), int(x[2] * 255)), colors))\n",
        "\n",
        "    random.seed(0)\n",
        "    random.shuffle(colors)\n",
        "    random.seed(None)\n",
        "\n",
        "    for i, bbox in enumerate(bboxes):#indexing(count, list v)\n",
        "        coor = np.array(bbox[:4], dtype=np.int32)\n",
        "        \n",
        "        fontScale = 0.5\n",
        "        score = bbox[4]\n",
        "        Msc=np.append(Msc,score)\n",
        "        class_ind = int(bbox[5])\n",
        "     \n",
        "        print(\"BOL\",classes[class_ind])\n",
        "        if classes[class_ind] in \"person\" :\n",
        "          if score>=np.max(Msc):\n",
        "            bbox_color = colors[class_ind]\n",
        "            bbox_thick = int(0.6 * (image_h + image_w) / 600)\n",
        "            c1, c2 = (coor[0], coor[1]), (coor[2], coor[3]) \n",
        "            cv2.rectangle(file_name1, c1, c2, bbox_color, bbox_thick)\n",
        "            score=np.max(Msc)\n",
        "            print('%s'%classes[class_ind],\"SC\",score)\n",
        "            bbox_mess = '%s: %.2f' % (classes[class_ind], score)#출력되는 text\n",
        "            t_size = cv2.getTextSize(bbox_mess, 0, fontScale, thickness=bbox_thick//2)[0]\n",
        "            cv2.rectangle(file_name1, c1, (c1[0] + t_size[0], c1[1] - t_size[1] - 3), bbox_color, -1)  # filled#labeling2\n",
        "            #이미지 파일,시작점(x,y),종료점(x,y)\n",
        "\n",
        "            c1_1= (c1[0] + t_size[0], c1[1] - t_size[1] - 3)\n",
        "            #이미지 추출은 y:y+h, x:x+w로 주어준다.\n",
        "\n",
        "            ####PP=file_name1[c1[1]:c1_1[1],c1[0]:c1_1[0]]#+x값>,-y값(위 아래)<#y맞음\n",
        "            #print(\"x/y\",c1_1[1]-c1[1],\"/\",c1[0]-c1_1[0])#높이, 너비 -\n",
        "            PP=file_name1[c1[1]:c2[1],c1[0]:c2[0]]\n",
        "\n",
        "            PP = cv2.cvtColor(PP, cv2.COLOR_RGB2BGR) # 색상 변경\n",
        "            cv2.imwrite(\"/gdrive/MyDrive/tmp/good/\" + name_list[len(name_list) - 1], PP)# 사람 부분만 이미지 추출 #자기의 tmp 폴더에 good 폴더 미리 생성\n",
        "            ####print(c1[0],c1_1[0],\"//\",c1[1],c1_1[1])#376 476 // 0 -13\n",
        "            \n",
        "            cv2.putText(file_name1, bbox_mess, (c1[0], c1[1]-2), cv2.FONT_HERSHEY_SIMPLEX,fontScale, (0, 0, 0), bbox_thick//2, lineType=cv2.LINE_AA)#labeling2\n",
        "    #print(\"Msc\",Msc,\"//\",max(Msc)) #Msc [0.98066556 0.9436748  0.41189495 0.26212615] // 0.9806655645370483\n",
        "\n",
        "    return file_name1"
      ],
      "metadata": {
        "id": "EcH5yOdVROGj"
      },
      "execution_count": 16,
      "outputs": []
    },
    {
      "cell_type": "code",
      "source": [
        "import cv2\n",
        "import numpy as np\n",
        "import matplotlib.pyplot as plt\n",
        "\n",
        "import glob\n",
        "import os\n",
        "\n",
        "import core\n",
        "import colorsys\n",
        "import random\n",
        "\n",
        "for filename in glob.glob('/gdrive/MyDrive/DATA/5/good/2/*.jpg'):  # \"DATA/5/good/2/\"의 모든 사진들을 불러옴\n",
        "  print(filename)\n",
        "  name_list = filename.split(\"/\")\n",
        "  new_filename = \"/gdrive/MyDrive/DATA/5/good/2/\" + name_list[len(name_list) - 1] # 사진 파일 이름을 new_filename에 저장\n",
        "  INPUT_SIZE = 800\n",
        "\n",
        "  image_path = filename\n",
        "  file_name = cv2.imread(image_path)#이미지 파일 경로\n",
        "  file_name = cv2.cvtColor(file_name, cv2.COLOR_BGR2RGB)#입력 이미지,색상 변환 코드\n",
        "\n",
        "  plt.figure(figsize=(12,20))\n",
        "  plt.imshow(file_name)\n",
        "  plt.show()\n",
        "\n",
        "  #2\n",
        "  bboxes = model.predict(file_name)#keras코드에서 boundary box로 bounding 됨\n",
        "\n",
        "  #3\n",
        "  dummy = np.copy(file_name)\n",
        "\n",
        "  for box in bboxes:\n",
        "    x1, y1, x2, y2 = int(box[0]), int(box[1]), int(box[2]), int(box[3])\n",
        "    conf = box[4]\n",
        "    cls_id = int(box[5])\n",
        "    dummy = cv2.rectangle(dummy, (x1,y1), (x2,y2), (255,0,0), 2)#빨간색, 선의 두께는 2\n",
        "\n",
        "  plt.figure(figsize=(12,20))#(그래프 가로, 세로)\n",
        "  plt.gca().set_title(\"yolov3\") # get current figure 현재의 figure를 확인하기 위한 방법 /입력한 제목 추가 \n",
        "  #Axes반환한다(실제 이미지데이터의 역할)\n",
        "  plt.imshow(dummy)#원하는 사이즈의 픽셀을 원하는 색으로 채워서 만든 그림 \n",
        "  plt.show()\n",
        "\n",
        "\n",
        "  #4\n",
        "  file_name = draw_bbox(file_name, bboxes)\n",
        "  #plt.figure(figsize=(12,20))#(x축의 길이,y축의길이)\n",
        "  #plt.imshow(file_name)\n",
        "  #plt.show()\n",
        "\n",
        "  #cv2.imwrite('/gdrive/MyDrive/tmp/new/' + name_list[len(name_list) - 1], file_name)\n",
        "  #사람만 인식된 상태로 저장 (해당 부분만 크롭은 안된 상태 - 이는 함수내에서 실행됨)"
      ],
      "metadata": {
        "id": "7EP86kZaWEEQ"
      },
      "execution_count": 22,
      "outputs": []
    },
    {
      "cell_type": "code",
      "source": [
        "#코드 셀 실행 결과 삭제 코드\n",
        "from google.colab import output\n",
        "\n",
        "output.clear()"
      ],
      "metadata": {
        "colab": {
          "base_uri": "https://localhost:8080/"
        },
        "id": "l5vaWkqEm0BH",
        "outputId": "24b6614b-84ed-4d0c-efcb-0cbed8bab160"
      },
      "execution_count": 21,
      "outputs": [
        {
          "output_type": "execute_result",
          "data": {
            "text/plain": [
              "0"
            ]
          },
          "metadata": {},
          "execution_count": 21
        }
      ]
    }
  ]
}