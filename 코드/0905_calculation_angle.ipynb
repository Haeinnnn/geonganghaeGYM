{
  "cells": [
    {
      "cell_type": "markdown",
      "metadata": {
        "id": "rU-2SbZjRXzF"
      },
      "source": [
        "#YOLO를 인식"
      ]
    },
    {
      "cell_type": "code",
      "execution_count": null,
      "metadata": {
        "colab": {
          "base_uri": "https://localhost:8080/"
        },
        "id": "8Qrk3AQqRkUl",
        "outputId": "4561a6a3-e534-47da-ac2a-0c84a631b3f0"
      },
      "outputs": [
        {
          "output_type": "stream",
          "name": "stdout",
          "text": [
            "Cloning into 'darkeras-yolov4'...\n",
            "remote: Enumerating objects: 175, done.\u001b[K\n",
            "remote: Counting objects: 100% (36/36), done.\u001b[K\n",
            "remote: Compressing objects: 100% (13/13), done.\u001b[K\n",
            "remote: Total 175 (delta 27), reused 25 (delta 23), pack-reused 139\u001b[K\n",
            "Receiving objects: 100% (175/175), 8.08 MiB | 25.21 MiB/s, done.\n",
            "Resolving deltas: 100% (82/82), done.\n"
          ]
        }
      ],
      "source": [
        "!git clone https://github.com/dhrim/darkeras-yolov4"
      ]
    },
    {
      "cell_type": "code",
      "execution_count": null,
      "metadata": {
        "colab": {
          "base_uri": "https://localhost:8080/"
        },
        "id": "BtSP683BWABO",
        "outputId": "5588d5e3-6da7-446e-9e92-81ec85da2e13"
      },
      "outputs": [
        {
          "output_type": "stream",
          "name": "stdout",
          "text": [
            "/content/darkeras-yolov4/Open-Pose-Keras/darkeras-yolov4\n"
          ]
        }
      ],
      "source": [
        "%cd darkeras-yolov4"
      ]
    },
    {
      "cell_type": "code",
      "execution_count": null,
      "metadata": {
        "colab": {
          "base_uri": "https://localhost:8080/"
        },
        "id": "vs1-TPGtSCpX",
        "outputId": "d4f58d4b-0291-490a-c4f4-f1d3e1697842"
      },
      "outputs": [
        {
          "output_type": "stream",
          "name": "stdout",
          "text": [
            "--2022-09-05 09:06:51--  https://pjreddie.com/media/files/yolov3.weights\n",
            "Resolving pjreddie.com (pjreddie.com)... 128.208.4.108\n",
            "Connecting to pjreddie.com (pjreddie.com)|128.208.4.108|:443... connected.\n",
            "HTTP request sent, awaiting response... 200 OK\n",
            "Length: 248007048 (237M) [application/octet-stream]\n",
            "Saving to: ‘weights/yolov3.weights’\n",
            "\n",
            "weights/yolov3.weig 100%[===================>] 236.52M  89.8MB/s    in 2.6s    \n",
            "\n",
            "2022-09-05 09:06:54 (89.8 MB/s) - ‘weights/yolov3.weights’ saved [248007048/248007048]\n",
            "\n"
          ]
        }
      ],
      "source": [
        "!wget -O weights/yolov3.weights https://pjreddie.com/media/files/yolov3.weights"
      ]
    },
    {
      "cell_type": "markdown",
      "metadata": {
        "id": "cpPC8WVIR0JB"
      },
      "source": [
        "##모델 로딩"
      ]
    },
    {
      "cell_type": "code",
      "execution_count": null,
      "metadata": {
        "id": "q2V7OXyeR7Mk"
      },
      "outputs": [],
      "source": [
        "import yolov3_wrapper\n",
        "model = yolov3_wrapper.YoloV3Wrapper(\"weights/yolov3.weights\")"
      ]
    },
    {
      "cell_type": "code",
      "execution_count": null,
      "metadata": {
        "colab": {
          "base_uri": "https://localhost:8080/"
        },
        "id": "zzaMufllgEUd",
        "outputId": "c8a146b2-523a-473e-f60f-16c650f2bd7c"
      },
      "outputs": [
        {
          "output_type": "stream",
          "name": "stderr",
          "text": [
            "WARNING:tensorflow:Compiled the loaded model, but the compiled metrics have yet to be built. `model.compile_metrics` will be empty until you train or evaluate the model.\n"
          ]
        }
      ],
      "source": [
        "model.save(\"yolov3.h5\")#"
      ]
    },
    {
      "cell_type": "markdown",
      "metadata": {
        "id": "juErSJooOdmB"
      },
      "source": [
        "#구글 드라이브 마운트"
      ]
    },
    {
      "cell_type": "code",
      "execution_count": null,
      "metadata": {
        "colab": {
          "base_uri": "https://localhost:8080/"
        },
        "id": "Evz4FpSqOfsP",
        "outputId": "d834b847-7f3d-435b-b04f-bc954a7d67fd"
      },
      "outputs": [
        {
          "output_type": "stream",
          "name": "stdout",
          "text": [
            "Drive already mounted at /gdrive; to attempt to forcibly remount, call drive.mount(\"/gdrive\", force_remount=True).\n"
          ]
        }
      ],
      "source": [
        "from google.colab import drive\n",
        "drive.mount('/gdrive')"
      ]
    },
    {
      "cell_type": "markdown",
      "metadata": {
        "id": "fL5CF0VZicIy"
      },
      "source": [
        "##이미지 로딩"
      ]
    },
    {
      "cell_type": "code",
      "execution_count": null,
      "metadata": {
        "id": "wj4Vg_bLQWj6"
      },
      "outputs": [],
      "source": [
        "#폴더의 모든 사진을 불러옴 - 확인용 코드(안돌려도 됨)\n",
        "import glob\n",
        "\n",
        "for filename in glob.glob('/gdrive/MyDrive/DATA/SIT1500/TRAIN/*/*.jpg'):\n",
        "  #print(filename)\n",
        "  name_list = filename.split(\"/\")\n",
        "  #print(name_list)"
      ]
    },
    {
      "cell_type": "markdown",
      "metadata": {
        "id": "k8G6iksoutlx"
      },
      "source": [
        "# Open Pose 사용 코드 템플릿\n",
        "\n",
        "https://github.com/ForgottenOneNyx/Open-Pose-Keras 의 코드를 사용하여 포즈를 추출한다.\n",
        "\n",
        "프로젝트 내의 demo.ipynb를 기반으로 하였다."
      ]
    },
    {
      "cell_type": "markdown",
      "metadata": {
        "id": "z7goEMaMvCOy"
      },
      "source": [
        "# 프로젝트 다운로드"
      ]
    },
    {
      "cell_type": "code",
      "execution_count": null,
      "metadata": {
        "colab": {
          "base_uri": "https://localhost:8080/"
        },
        "id": "pmEyIi2CrVxK",
        "outputId": "83daac3e-48df-440b-e606-bfaf0104a6a9"
      },
      "outputs": [
        {
          "output_type": "stream",
          "name": "stdout",
          "text": [
            "Cloning into 'Open-Pose-Keras'...\n",
            "remote: Enumerating objects: 418, done.\u001b[K\n",
            "remote: Counting objects: 100% (21/21), done.\u001b[K\n",
            "remote: Compressing objects: 100% (10/10), done.\u001b[K\n",
            "remote: Total 418 (delta 11), reused 21 (delta 11), pack-reused 397\u001b[K\n",
            "Receiving objects: 100% (418/418), 29.70 MiB | 21.92 MiB/s, done.\n",
            "Resolving deltas: 100% (236/236), done.\n"
          ]
        }
      ],
      "source": [
        "!git clone https://github.com/dhrim/Open-Pose-Keras"
      ]
    },
    {
      "cell_type": "code",
      "execution_count": null,
      "metadata": {
        "colab": {
          "base_uri": "https://localhost:8080/"
        },
        "id": "CI1n8CZurYgR",
        "outputId": "b33fb9be-6643-41cf-ac7b-6e9e3e10d0bf"
      },
      "outputs": [
        {
          "output_type": "stream",
          "name": "stdout",
          "text": [
            "/content/darkeras-yolov4/Open-Pose-Keras/darkeras-yolov4/Open-Pose-Keras\n"
          ]
        }
      ],
      "source": [
        "%cd Open-Pose-Keras"
      ]
    },
    {
      "cell_type": "markdown",
      "metadata": {
        "id": "QKqcb95xvJJC"
      },
      "source": [
        "# 필요한 라이브러리 설치"
      ]
    },
    {
      "cell_type": "code",
      "execution_count": null,
      "metadata": {
        "colab": {
          "base_uri": "https://localhost:8080/"
        },
        "id": "_0q3KcAqrhQp",
        "outputId": "79d98ecb-69f6-4a0a-8486-43e275b42d9d"
      },
      "outputs": [
        {
          "output_type": "stream",
          "name": "stdout",
          "text": [
            "Looking in indexes: https://pypi.org/simple, https://us-python.pkg.dev/colab-wheels/public/simple/\n",
            "Requirement already satisfied: configobj in /usr/local/lib/python3.7/dist-packages (5.0.6)\n",
            "Requirement already satisfied: six in /usr/local/lib/python3.7/dist-packages (from configobj) (1.15.0)\n"
          ]
        }
      ],
      "source": [
        "!pip install configobj"
      ]
    },
    {
      "cell_type": "markdown",
      "metadata": {
        "id": "yG-nT63k-Hgl"
      },
      "source": [
        "# 모델 로딩"
      ]
    },
    {
      "cell_type": "code",
      "execution_count": null,
      "metadata": {
        "colab": {
          "base_uri": "https://localhost:8080/"
        },
        "id": "CiN9XIptCHqy",
        "outputId": "228a7d60-463f-4b7e-990b-4291385f9e84"
      },
      "outputs": [
        {
          "output_type": "stream",
          "name": "stderr",
          "text": [
            "Downloading...\n",
            "From: https://drive.google.com/uc?id=1d9HGnnLhq6IhC5ZSVpBf7bSrpjNj5kPB\n",
            "To: /content/darkeras-yolov4/Open-Pose-Keras/darkeras-yolov4/Open-Pose-Keras/open_pose_model.h5\n",
            "100%|██████████| 210M/210M [00:02<00:00, 84.6MB/s]\n"
          ]
        }
      ],
      "source": [
        "from open_pose_wrapper import OpenPoseWrapper\n",
        "model = OpenPoseWrapper()"
      ]
    },
    {
      "cell_type": "markdown",
      "metadata": {
        "id": "ju-QnRi5Bxkl"
      },
      "source": [
        "# 포즈 추출 실행"
      ]
    },
    {
      "cell_type": "code",
      "execution_count": 2,
      "metadata": {
        "id": "18VwqNBDDTNi"
      },
      "outputs": [],
      "source": [
        "#기존 예시 코드\n",
        "file_name = \"yuna.jpg\"\n",
        "all_peaks, subset, candidate = model.extract(file_name)\n",
        "model.draw_result(file_name, all_peaks, subset, candidate, draw_dot=True, draw_line=True)"
      ]
    },
    {
      "cell_type": "code",
      "source": [
        "import glob\n",
        "import config_reader\n",
        "import math\n",
        "from IPython.display import Image, display\n",
        "from google.colab import output\n",
        "\n",
        "for filename in glob.glob('/gdrive/MyDrive/DATA0829/SIT1500/TRAIN/*/*.jpg'): #원하는 디렉토리 경로로 변경\n",
        "  all_peaks, subset, candidate = model.extract(file_name)\n",
        "  model.draw_result(file_name, all_peaks, subset, candidate, draw_dot=True, draw_line=True)\n",
        "\n",
        "  #2\n",
        "  model.extract_and_draw(file_name)\n",
        "\n",
        "  #3\n",
        "  #part_str = [nose, neck, Rsho, Relb, Rwri, Lsho, Lelb, Lwri, Rhip, Rkne, Rank, Lhip, Lkne, Lank, Leye, Reye, Lear, Rear, pt19]\n",
        "  _, model_params = config_reader.config_reader()\n",
        "  part_str = model_params['part_str']\n",
        "  #print(len(all_peaks))\n",
        "\n",
        "  #4\n",
        "  #Relb가 없으면 왼쪽을 바라 본 사진임으로 Relb 유무로 사진의 좌우를 판별\n",
        "  if not all_peaks[3]: #Relb가 없는 경우 - 왼쪽을 바라본 사진\n",
        "    if not all_peaks[-2]:\n",
        "      all_peaks[-2] = all_peaks[-1]\n",
        "\n",
        "    neck_angle = math.degrees(math.atan2(all_peaks[5][0][1] - all_peaks[-2][0][1], all_peaks[5][0][0] - all_peaks[-2][0][0]))\n",
        "  else:\n",
        "    if not all_peaks[-1]:\n",
        "      all_peaks[-1] = all_peaks[-2]\n",
        "\n",
        "    neck_angle = abs(math.degrees(math.atan2(all_peaks[-1][0][1] - all_peaks[2][0][1], all_peaks[-1][0][0] - all_peaks[2][0][0])))\n",
        "\n",
        "  #Spine angle\n",
        "  \n",
        "  print(neck_angle)"
      ],
      "metadata": {
        "id": "fv1XuyGtAH0X"
      },
      "execution_count": null,
      "outputs": []
    },
    {
      "cell_type": "code",
      "execution_count": null,
      "metadata": {
        "colab": {
          "base_uri": "https://localhost:8080/"
        },
        "id": "hvzXprCdCck5",
        "outputId": "c038df29-3f75-49b8-d3cd-49a2d3f9142f"
      },
      "outputs": [
        {
          "output_type": "stream",
          "name": "stdout",
          "text": [
            "[nose :  [(199, 140, 0.8250698447227478, 0)]\n",
            "neck :  [(93, 207, 0.46103984862565994, 1)]\n",
            "Rsho :  [(104, 202, 0.7186872512102127, 2)]\n",
            "Relb :  [(161, 403, 0.8281127512454987, 3)]\n",
            "Rwri :  [(287, 553, 0.8631612658500671, 4)]\n",
            "Lsho :  [(74, 207, 0.40224743634462357, 5)]\n",
            "Lelb :  []\n",
            "Lwri :  []\n",
            "Rhip :  [(195, 584, 0.41460360772907734, 6)]\n",
            "Rkne :  [(278, 859, 0.5201169475913048, 7)]\n",
            "Rank :  [(161, 1168, 0.501873318105936, 8)]\n",
            "Lhip :  [(158, 592, 0.27146467939019203, 9)]\n",
            "Lkne :  [(246, 862, 0.4358299486339092, 10)]\n",
            "Lank :  [(146, 1126, 0.3751713903620839, 11)]\n",
            "Leye :  [(189, 106, 0.8505733162164688, 12)]\n",
            "Reye :  []\n",
            "Lear :  [(125, 93, 0.9018864631652832, 13)]\n",
            "Rear :  [(125, 93, 0.9018864631652832, 13)]\n"
          ]
        }
      ],
      "source": [
        "import config_reader\n",
        "\n",
        "_, model_params = config_reader.config_reader()\n",
        "part_str = model_params['part_str']\n",
        "for i in range(18):\n",
        "  print(part_str[i], \": \", all_peaks[i])"
      ]
    },
    {
      "cell_type": "code",
      "execution_count": null,
      "metadata": {
        "id": "5pQwsbfj9v8H"
      },
      "outputs": [],
      "source": [
        "#기존 예시 코드 - 실행 x\n",
        "model.extract_and_draw(file_name)"
      ]
    },
    {
      "cell_type": "markdown",
      "metadata": {
        "id": "83h_k2cz_05K"
      },
      "source": [
        "# 추출 결과 해석\n",
        "\n",
        "all_peak와 subset에 그 결과가 담긴다.\n",
        "\n",
        "- all_peaks : 추출된 모든 포인트의 정보\n",
        "- subset : 사람 별로 추출된 포인트의 정보"
      ]
    },
    {
      "cell_type": "markdown",
      "metadata": {
        "id": "t4YAR-vWATZ7"
      },
      "source": [
        "18개 부위를 추출한다.\n",
        "\n",
        "각 부위의 이름은 config.py에 정의되어 있다.\n",
        "\n",
        "```\n",
        "part_str = [nose, neck, Rsho, Relb, Rwri, Lsho, Lelb, Lwri, Rhip, Rkne, Rank, Lhip, Lkne, Lank, Leye, Reye, Lear, Rear, pt19]\n",
        "```"
      ]
    },
    {
      "cell_type": "markdown",
      "metadata": {
        "id": "UCSyTDs5AbUM"
      },
      "source": [
        "## all_peaks"
      ]
    },
    {
      "cell_type": "markdown",
      "metadata": {
        "id": "ZWlYmH-P309t"
      },
      "source": [
        "추출된 점이 담긴 all_peaks는 18개의 요소가 있는 리스트이다."
      ]
    },
    {
      "cell_type": "code",
      "execution_count": null,
      "metadata": {
        "colab": {
          "base_uri": "https://localhost:8080/"
        },
        "id": "wQiZs8kU30LE",
        "outputId": "d384f696-fa28-43de-b040-16f2902fdba9"
      },
      "outputs": [
        {
          "name": "stdout",
          "output_type": "stream",
          "text": [
            "18\n"
          ]
        }
      ],
      "source": [
        "print(len(all_peaks))"
      ]
    },
    {
      "cell_type": "code",
      "execution_count": null,
      "metadata": {
        "colab": {
          "base_uri": "https://localhost:8080/"
        },
        "id": "dy3JpFA24IaP",
        "outputId": "b4b712bc-0840-4a28-d5f3-807dbd1f2801"
      },
      "outputs": [
        {
          "name": "stdout",
          "output_type": "stream",
          "text": [
            "[nose :  [(173, 142, 0.819156289100647, 0)]\n",
            "neck :  [(280, 207, 0.5145394876599312, 1)]\n",
            "Rsho :  [(299, 206, 0.4223237559199333, 2)]\n",
            "Relb :  []\n",
            "Rwri :  []\n",
            "Lsho :  [(265, 203, 0.7113600820302963, 3)]\n",
            "Lelb :  [(211, 399, 0.7804270535707474, 4)]\n",
            "Lwri :  [(0, 546, 0.12895453772580368, 5), (83, 551, 0.8212695866823196, 6)]\n",
            "Rhip :  [(217, 597, 0.29040105687454343, 7)]\n",
            "Rkne :  [(131, 864, 0.49773184210062027, 8)]\n",
            "Rank :  [(222, 1120, 0.3536911830306053, 9)]\n",
            "Lhip :  [(176, 590, 0.39355132915079594, 10)]\n",
            "Lkne :  [(85, 862, 0.5990166775882244, 11)]\n",
            "Lank :  [(211, 1166, 0.5562114380300045, 12)]\n",
            "Leye :  []\n",
            "Reye :  [(182, 107, 0.8318829238414764, 13)]\n",
            "Lear :  []\n",
            "Rear :  [(250, 0, 0.10412385161424709, 14), (244, 94, 0.9024261087179184, 15)]\n"
          ]
        }
      ],
      "source": [
        "import config_reader\n",
        "\n",
        "_, model_params = config_reader.config_reader()\n",
        "part_str = model_params['part_str']\n",
        "for i in range(18):\n",
        "  print(part_str[i], \": \", all_peaks[i])"
      ]
    },
    {
      "cell_type": "markdown",
      "metadata": {
        "id": "-SYE-c7U34gS"
      },
      "source": [
        "all_peaks[0]은 추출된 nose의 포인트가 담겨 있다."
      ]
    },
    {
      "cell_type": "code",
      "execution_count": null,
      "metadata": {
        "colab": {
          "base_uri": "https://localhost:8080/"
        },
        "id": "n4oUaQag45U0",
        "outputId": "fb4be6b9-de7c-497e-c107-3b79c36b85d7"
      },
      "outputs": [
        {
          "name": "stdout",
          "output_type": "stream",
          "text": [
            "(199, 140, 0.8250698447227478, 0)\n"
          ]
        }
      ],
      "source": [
        "for i in range(len(all_peaks[0])):\n",
        "  print(all_peaks[0][i])"
      ]
    },
    {
      "cell_type": "markdown",
      "metadata": {
        "id": "-3oBPFr77FXc"
      },
      "source": [
        "\n",
        "1개의 point는 다음과 같이 구성된다.\n",
        "```\n",
        "(484, 130, 0.7376982569694519, 1)\n",
        "  x    y   score               point_id\n",
        "```"
      ]
    },
    {
      "cell_type": "markdown",
      "metadata": {
        "id": "aIf4sZxsAe9M"
      },
      "source": [
        "## subset"
      ]
    },
    {
      "cell_type": "markdown",
      "metadata": {
        "id": "WBkRxBnT9xRG"
      },
      "source": [
        "subset 각 요소는 사람 1명에 대한 추출 결과이다."
      ]
    },
    {
      "cell_type": "code",
      "execution_count": null,
      "metadata": {
        "colab": {
          "base_uri": "https://localhost:8080/"
        },
        "id": "VgTwfLnV9v8D",
        "outputId": "31be894c-eb80-4acb-acbc-9d28f4aa67f5"
      },
      "outputs": [
        {
          "name": "stdout",
          "output_type": "stream",
          "text": [
            "1\n"
          ]
        }
      ],
      "source": [
        "print(len(subset))"
      ]
    },
    {
      "cell_type": "markdown",
      "metadata": {
        "id": "Rom-xZsx-oLw"
      },
      "source": [
        "1개의 subset 요소는 1사람에 대한 19개 포인트 id로 구성되어 있다."
      ]
    },
    {
      "cell_type": "code",
      "execution_count": null,
      "metadata": {
        "colab": {
          "base_uri": "https://localhost:8080/"
        },
        "id": "SRkN1Uga-B6R",
        "outputId": "10fbae61-297a-47c8-ac9f-7884dfe90871"
      },
      "outputs": [
        {
          "name": "stdout",
          "output_type": "stream",
          "text": [
            "[ 0.          1.          2.          3.          4.          5.\n",
            " -1.         -1.          6.          7.          8.          9.\n",
            " 10.         11.         12.         -1.         13.         -1.\n",
            " 16.95400061 14.        ]\n"
          ]
        }
      ],
      "source": [
        "print(subset[0])"
      ]
    },
    {
      "cell_type": "markdown",
      "metadata": {
        "id": "j6MWkyAn-GfC"
      },
      "source": [
        "\n",
        "point_id는 all_peaks에 명시되어 있다.\n",
        "```\n",
        "all_peaks의 내용\n",
        "\n",
        "(177, 6, 0.11634597013471648, 0)\n",
        "(484, 130, 0.7376982569694519, 1)\n",
        "(287, 154, 0.9168482273817062, 2)\n",
        "(410, 221, 0.9359188675880432, 3)\n",
        "\n",
        "각 줄의 마지막 숫가가 point_id이다.\n",
        "\n",
        "```"
      ]
    },
    {
      "cell_type": "markdown",
      "metadata": {
        "id": "8uQjEo95-rOn"
      },
      "source": [
        "각 포인트별 연결 가능 여부는 limSeq에 담겨 있다."
      ]
    },
    {
      "cell_type": "code",
      "execution_count": null,
      "metadata": {
        "colab": {
          "base_uri": "https://localhost:8080/"
        },
        "id": "IvLPDBEp1NQM",
        "outputId": "90b0a2d2-8ad3-47ae-b0c4-c066f381742d"
      },
      "outputs": [
        {
          "name": "stdout",
          "output_type": "stream",
          "text": [
            "19\n",
            "[[2, 3], [2, 6], [3, 4], [4, 5], [6, 7], [7, 8], [2, 9], [9, 10], [10, 11], [2, 12], [12, 13], [13, 14], [2, 1], [1, 15], [15, 17], [1, 16], [16, 18], [3, 17], [6, 18]]\n"
          ]
        }
      ],
      "source": [
        "from open_pose_wrapper import limbSeq\n",
        "\n",
        "print(len(limbSeq))\n",
        "print(limbSeq)"
      ]
    },
    {
      "cell_type": "markdown",
      "metadata": {
        "id": "fF3tbZ0N-yRY"
      },
      "source": [
        "[2, 3] 은 neck과 Rsho(righst shoulder)가 연결되어 있음을 의미하고, \n",
        "\n",
        "[3,4]는 Rsho(righst shoulder)와 Relb(right elbow)가 이어져 있다는 것을 의미한다.\n",
        "\n",
        "```\n",
        "1: nose\n",
        "2: neck\n",
        "3: Rsho\n",
        "4: Relb\n",
        "5: Rwri\n",
        "...\n",
        "```\n"
      ]
    },
    {
      "cell_type": "code",
      "execution_count": null,
      "metadata": {
        "id": "SDKocRE_N5mE"
      },
      "outputs": [],
      "source": []
    }
  ],
  "metadata": {
    "accelerator": "GPU",
    "colab": {
      "collapsed_sections": [],
      "provenance": []
    },
    "gpuClass": "standard",
    "kernelspec": {
      "display_name": "Python 3",
      "name": "python3"
    },
    "language_info": {
      "name": "python"
    }
  },
  "nbformat": 4,
  "nbformat_minor": 0
}