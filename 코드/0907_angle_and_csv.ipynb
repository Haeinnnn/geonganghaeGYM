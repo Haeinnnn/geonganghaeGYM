{
  "cells": [
    {
      "cell_type": "markdown",
      "metadata": {
        "id": "rU-2SbZjRXzF"
      },
      "source": [
        "#YOLO를 인식"
      ]
    },
    {
      "cell_type": "code",
      "execution_count": 1,
      "metadata": {
        "colab": {
          "base_uri": "https://localhost:8080/"
        },
        "id": "8Qrk3AQqRkUl",
        "outputId": "5b6bff27-ddc0-480b-fdc4-1ba718137c72"
      },
      "outputs": [
        {
          "output_type": "stream",
          "name": "stdout",
          "text": [
            "Cloning into 'darkeras-yolov4'...\n",
            "remote: Enumerating objects: 175, done.\u001b[K\n",
            "remote: Counting objects: 100% (36/36), done.\u001b[K\n",
            "remote: Compressing objects: 100% (13/13), done.\u001b[K\n",
            "remote: Total 175 (delta 27), reused 25 (delta 23), pack-reused 139\u001b[K\n",
            "Receiving objects: 100% (175/175), 8.08 MiB | 3.66 MiB/s, done.\n",
            "Resolving deltas: 100% (82/82), done.\n"
          ]
        }
      ],
      "source": [
        "!git clone https://github.com/dhrim/darkeras-yolov4"
      ]
    },
    {
      "cell_type": "code",
      "execution_count": 2,
      "metadata": {
        "colab": {
          "base_uri": "https://localhost:8080/"
        },
        "id": "BtSP683BWABO",
        "outputId": "ca0140ea-cad9-4c62-80b6-8b11c101311c"
      },
      "outputs": [
        {
          "output_type": "stream",
          "name": "stdout",
          "text": [
            "/content/darkeras-yolov4\n"
          ]
        }
      ],
      "source": [
        "%cd darkeras-yolov4"
      ]
    },
    {
      "cell_type": "code",
      "execution_count": 3,
      "metadata": {
        "colab": {
          "base_uri": "https://localhost:8080/"
        },
        "id": "vs1-TPGtSCpX",
        "outputId": "328fb9ca-ace8-4b47-bde1-67f86d5b10f7"
      },
      "outputs": [
        {
          "output_type": "stream",
          "name": "stdout",
          "text": [
            "--2022-09-07 09:24:46--  https://pjreddie.com/media/files/yolov3.weights\n",
            "Resolving pjreddie.com (pjreddie.com)... 128.208.4.108\n",
            "Connecting to pjreddie.com (pjreddie.com)|128.208.4.108|:443... connected.\n",
            "HTTP request sent, awaiting response... 200 OK\n",
            "Length: 248007048 (237M) [application/octet-stream]\n",
            "Saving to: ‘weights/yolov3.weights’\n",
            "\n",
            "weights/yolov3.weig 100%[===================>] 236.52M  17.1MB/s    in 15s     \n",
            "\n",
            "2022-09-07 09:25:02 (15.8 MB/s) - ‘weights/yolov3.weights’ saved [248007048/248007048]\n",
            "\n"
          ]
        }
      ],
      "source": [
        "!wget -O weights/yolov3.weights https://pjreddie.com/media/files/yolov3.weights"
      ]
    },
    {
      "cell_type": "markdown",
      "metadata": {
        "id": "cpPC8WVIR0JB"
      },
      "source": [
        "##모델 로딩"
      ]
    },
    {
      "cell_type": "code",
      "execution_count": 4,
      "metadata": {
        "id": "q2V7OXyeR7Mk"
      },
      "outputs": [],
      "source": [
        "import yolov3_wrapper\n",
        "model = yolov3_wrapper.YoloV3Wrapper(\"weights/yolov3.weights\")"
      ]
    },
    {
      "cell_type": "code",
      "execution_count": 5,
      "metadata": {
        "colab": {
          "base_uri": "https://localhost:8080/"
        },
        "id": "zzaMufllgEUd",
        "outputId": "c558524e-69fd-4689-c88b-f83e07beafeb"
      },
      "outputs": [
        {
          "output_type": "stream",
          "name": "stderr",
          "text": [
            "WARNING:tensorflow:Compiled the loaded model, but the compiled metrics have yet to be built. `model.compile_metrics` will be empty until you train or evaluate the model.\n"
          ]
        }
      ],
      "source": [
        "model.save(\"yolov3.h5\")#"
      ]
    },
    {
      "cell_type": "markdown",
      "metadata": {
        "id": "juErSJooOdmB"
      },
      "source": [
        "#구글 드라이브 마운트"
      ]
    },
    {
      "cell_type": "code",
      "execution_count": 6,
      "metadata": {
        "colab": {
          "base_uri": "https://localhost:8080/"
        },
        "id": "Evz4FpSqOfsP",
        "outputId": "4203e2bf-5940-4dcc-d7c5-5c7c163ba2fc"
      },
      "outputs": [
        {
          "output_type": "stream",
          "name": "stdout",
          "text": [
            "Mounted at /gdrive\n"
          ]
        }
      ],
      "source": [
        "from google.colab import drive\n",
        "drive.mount('/gdrive')"
      ]
    },
    {
      "cell_type": "markdown",
      "metadata": {
        "id": "fL5CF0VZicIy"
      },
      "source": [
        "##이미지 로딩"
      ]
    },
    {
      "cell_type": "code",
      "execution_count": 7,
      "metadata": {
        "id": "wj4Vg_bLQWj6"
      },
      "outputs": [],
      "source": [
        "#폴더의 모든 사진을 불러옴 - 확인용 코드(안돌려도 됨)\n",
        "import glob\n",
        "\n",
        "for filename in glob.glob('/gdrive/MyDrive/DATA/SIT1500/TRAIN/*/*.jpg'):\n",
        "  #print(filename)\n",
        "  name_list = filename.split(\"/\")\n",
        "  #print(name_list)"
      ]
    },
    {
      "cell_type": "markdown",
      "metadata": {
        "id": "k8G6iksoutlx"
      },
      "source": [
        "# Open Pose 사용 코드 템플릿\n",
        "\n",
        "https://github.com/ForgottenOneNyx/Open-Pose-Keras 의 코드를 사용하여 포즈를 추출한다.\n",
        "\n",
        "프로젝트 내의 demo.ipynb를 기반으로 하였다."
      ]
    },
    {
      "cell_type": "markdown",
      "metadata": {
        "id": "z7goEMaMvCOy"
      },
      "source": [
        "# 프로젝트 다운로드"
      ]
    },
    {
      "cell_type": "code",
      "execution_count": 8,
      "metadata": {
        "colab": {
          "base_uri": "https://localhost:8080/"
        },
        "id": "pmEyIi2CrVxK",
        "outputId": "aedd9aac-68b2-4cbb-e8af-0f5360cc3a90"
      },
      "outputs": [
        {
          "output_type": "stream",
          "name": "stdout",
          "text": [
            "Cloning into 'Open-Pose-Keras'...\n",
            "remote: Enumerating objects: 418, done.\u001b[K\n",
            "remote: Counting objects: 100% (21/21), done.\u001b[K\n",
            "remote: Compressing objects: 100% (10/10), done.\u001b[K\n",
            "remote: Total 418 (delta 11), reused 21 (delta 11), pack-reused 397\u001b[K\n",
            "Receiving objects: 100% (418/418), 29.70 MiB | 18.14 MiB/s, done.\n",
            "Resolving deltas: 100% (236/236), done.\n"
          ]
        }
      ],
      "source": [
        "!git clone https://github.com/dhrim/Open-Pose-Keras"
      ]
    },
    {
      "cell_type": "code",
      "execution_count": 9,
      "metadata": {
        "colab": {
          "base_uri": "https://localhost:8080/"
        },
        "id": "CI1n8CZurYgR",
        "outputId": "e202f74d-59d4-4dd6-bf9e-f0da61d0ec2f"
      },
      "outputs": [
        {
          "output_type": "stream",
          "name": "stdout",
          "text": [
            "/content/darkeras-yolov4/Open-Pose-Keras\n"
          ]
        }
      ],
      "source": [
        "%cd Open-Pose-Keras"
      ]
    },
    {
      "cell_type": "markdown",
      "metadata": {
        "id": "QKqcb95xvJJC"
      },
      "source": [
        "# 필요한 라이브러리 설치"
      ]
    },
    {
      "cell_type": "code",
      "execution_count": 10,
      "metadata": {
        "colab": {
          "base_uri": "https://localhost:8080/"
        },
        "id": "_0q3KcAqrhQp",
        "outputId": "ea894958-e952-4542-c6d5-e04e31224e53"
      },
      "outputs": [
        {
          "output_type": "stream",
          "name": "stdout",
          "text": [
            "Looking in indexes: https://pypi.org/simple, https://us-python.pkg.dev/colab-wheels/public/simple/\n",
            "Collecting configobj\n",
            "  Downloading configobj-5.0.6.tar.gz (33 kB)\n",
            "Requirement already satisfied: six in /usr/local/lib/python3.7/dist-packages (from configobj) (1.15.0)\n",
            "Building wheels for collected packages: configobj\n",
            "  Building wheel for configobj (setup.py) ... \u001b[?25l\u001b[?25hdone\n",
            "  Created wheel for configobj: filename=configobj-5.0.6-py3-none-any.whl size=34547 sha256=a0ff2128f405c25eb7512125e6eb502353aa75c6b8b7443c34e68e03c77ba55d\n",
            "  Stored in directory: /root/.cache/pip/wheels/0d/c4/19/13d74440f2a571841db6b6e0a273694327498884dafb9cf978\n",
            "Successfully built configobj\n",
            "Installing collected packages: configobj\n",
            "Successfully installed configobj-5.0.6\n"
          ]
        }
      ],
      "source": [
        "!pip install configobj"
      ]
    },
    {
      "cell_type": "markdown",
      "metadata": {
        "id": "yG-nT63k-Hgl"
      },
      "source": [
        "# 모델 로딩"
      ]
    },
    {
      "cell_type": "code",
      "execution_count": 11,
      "metadata": {
        "colab": {
          "base_uri": "https://localhost:8080/"
        },
        "id": "CiN9XIptCHqy",
        "outputId": "ba78e55d-c7e5-4340-a8bb-864e400cf4f9"
      },
      "outputs": [
        {
          "output_type": "stream",
          "name": "stderr",
          "text": [
            "Downloading...\n",
            "From: https://drive.google.com/uc?id=1d9HGnnLhq6IhC5ZSVpBf7bSrpjNj5kPB\n",
            "To: /content/darkeras-yolov4/Open-Pose-Keras/open_pose_model.h5\n",
            "100%|██████████| 210M/210M [00:07<00:00, 29.9MB/s]\n"
          ]
        }
      ],
      "source": [
        "from open_pose_wrapper import OpenPoseWrapper\n",
        "model = OpenPoseWrapper()"
      ]
    },
    {
      "cell_type": "markdown",
      "metadata": {
        "id": "ju-QnRi5Bxkl"
      },
      "source": [
        "# 포즈 추출 실행"
      ]
    },
    {
      "cell_type": "code",
      "execution_count": null,
      "metadata": {
        "id": "18VwqNBDDTNi"
      },
      "outputs": [],
      "source": [
        "#기존 예시 코드 - 실행 X\n",
        "file_name = \"yuna.jpg\"\n",
        "all_peaks, subset, candidate = model.extract(file_name)\n",
        "model.draw_result(file_name, all_peaks, subset, candidate, draw_dot=True, draw_line=True)"
      ]
    },
    {
      "cell_type": "code",
      "source": [
        "pwd"
      ],
      "metadata": {
        "colab": {
          "base_uri": "https://localhost:8080/",
          "height": 38
        },
        "id": "_WZVGoAouuXU",
        "outputId": "c7d0c3dc-c672-4749-ccde-6fbad54f7be3"
      },
      "execution_count": null,
      "outputs": [
        {
          "output_type": "execute_result",
          "data": {
            "text/plain": [
              "'/content/darkeras-yolov4/Open-Pose-Keras'"
            ],
            "application/vnd.google.colaboratory.intrinsic+json": {
              "type": "string"
            }
          },
          "metadata": {},
          "execution_count": 15
        }
      ]
    },
    {
      "cell_type": "code",
      "source": [
        "import glob\n",
        "import config_reader\n",
        "import math\n",
        "import pandas as pd\n",
        "from IPython.display import Image, display\n",
        "from google.colab import output\n",
        "\n",
        "index_list = []\n",
        "neck_list = []\n",
        "spine_list = []\n",
        "outcome_list = []\n",
        "arr = {}\n",
        "\n",
        "#for file_name in glob.glob('/gdrive/MyDrive/DATA0829/STAND1500/TRAIN/GOOD/IMG_0643.jpg'):\n",
        "for file_name in glob.glob('/gdrive/MyDrive/DATA0829/STAND1500/TRAIN/BAD4/IMG_9988.jpg'):\n",
        "#for file_name in glob.glob('/gdrive/MyDrive/DATA0829/SIT1500/TEST/BAD1/20220817_190933_039.jpg'): #연습용 사진\n",
        "#for file_name in glob.glob('/gdrive/MyDrive/DATA0829/SIT1500/TRAIN/*/*.jpg'): #원하는 디렉토리 경로로 변경\n",
        "  all_peaks, subset, candidate = model.extract(file_name)\n",
        "  model.draw_result(file_name, all_peaks, subset, candidate, draw_dot=True, draw_line=True)\n",
        "\n",
        "  #2\n",
        "  model.extract_and_draw(file_name)\n",
        "\n",
        "  #3\n",
        "  #part_str = [nose, neck, Rsho, Relb, Rwri, Lsho, Lelb, Lwri, Rhip, Rkne, Rank, Lhip, Lkne, Lank, Leye, Reye, Lear, Rear, pt19]\n",
        "  _, model_params = config_reader.config_reader()\n",
        "  part_str = model_params['part_str']\n",
        "  #print(len(all_peaks))\n",
        "\n",
        "  #4\n",
        "  #Relb가 없으면 왼쪽을 바라 본 사진임으로 Relb 유무로 사진의 좌우를 판별\n",
        "  if not all_peaks[4]: #Relb가 없는 경우 - 왼쪽을 바라본 사진\n",
        "    if not all_peaks[-2]:\n",
        "      all_peaks[-2] = all_peaks[-1]\n",
        "\n",
        "    neck_angle = math.degrees(math.atan2(all_peaks[5][0][1] - all_peaks[-2][0][1], all_peaks[5][0][0] - all_peaks[-2][0][0])) #어깨 - 귀\n",
        "    spine_angle = math.degrees(math.atan2(all_peaks[12][0][1] - all_peaks[11][0][1], all_peaks[12][0][0] - all_peaks[11][0][0])) #무릎 - 엉덩이\n",
        "  else:\n",
        "    if not all_peaks[-1]:\n",
        "      all_peaks[-1] = all_peaks[-2]\n",
        "\n",
        "    neck_angle = abs(math.degrees(math.atan2(all_peaks[-1][0][1] - all_peaks[2][0][1], all_peaks[-1][0][0] - all_peaks[2][0][0]))) #귀 - 어깨\n",
        "    spine_angle = math.degrees(math.atan2(all_peaks[9][0][1] - all_peaks[8][0][1], all_peaks[9][0][0] - all_peaks[8][0][0]))\n",
        "\n",
        "  #사진 출력\n",
        "  display(Image(file_name))\n",
        "\n",
        "  print(f\"angle: neck_angle = {neck_angle}, spine_angle = {spine_angle}\")\n",
        "\n",
        "  #5\n",
        "  #10을 빼고 반올림\n",
        "  neck_angle = round(neck_angle / 10)\n",
        "  spine_angle = round(spine_angle / 10)\n",
        "\n",
        "  print(f\"label: neck_angle = {neck_angle}, spine_angle = {spine_angle}\")\n",
        "\n",
        "  #index_list.append(file_name)\n",
        "  index_list.append(file_name.split(\"/\")[-1])\n",
        "  neck_list.append(neck_angle)\n",
        "  spine_list.append(spine_angle)\n",
        "\n",
        "  outcome = file_name.split(\"/\")[-2]\n",
        "  #outcome = ''.join([i for i in file_name.split(\"/\")[-2] if not i.isdigit()]) #폴더명에서 숫자 제거 - 이진분류용\n",
        "  outcome_list.append(outcome)\n",
        "\n",
        "arr.setdefault('file_name', index_list)\n",
        "arr.setdefault('neck', neck_list)\n",
        "arr.setdefault('spine', spine_list)\n",
        "arr.setdefault('outcome', outcome_list)\n",
        "\n",
        "#df = pd.DataFrame(arr, index = index_list)\n",
        "df = pd.DataFrame(arr)\n",
        "\n",
        "df.to_csv(\"/gdrive/MyDrive/tmp/df.csv\") #\n",
        "\n",
        "#sit - 오른쪽을 바라본 사진 각도 측정 오류남"
      ],
      "metadata": {
        "id": "fv1XuyGtAH0X"
      },
      "execution_count": null,
      "outputs": []
    },
    {
      "cell_type": "code",
      "source": [
        "df2 = pd.read_csv(\"/gdrive/MyDrive/tmp/df.csv\", index_col=0)\n",
        "#df2 = pd.read_csv(\"/gdrive/MyDrive/tmp/df.csv\")\n",
        "\n",
        "# Unnamed: 0 컬럼을 drop하여 제거\n",
        "#df2.drop(['Unnamed: 0'], axis = 1, inplace = True)"
      ],
      "metadata": {
        "id": "gBGKPss3vQE6"
      },
      "execution_count": 18,
      "outputs": []
    },
    {
      "cell_type": "code",
      "source": [
        "df2"
      ],
      "metadata": {
        "colab": {
          "base_uri": "https://localhost:8080/",
          "height": 81
        },
        "id": "MmgkvvaHvjgC",
        "outputId": "929301c8-6f90-4962-ea47-2bc7d5905090"
      },
      "execution_count": 19,
      "outputs": [
        {
          "output_type": "execute_result",
          "data": {
            "text/plain": [
              "      file_name  neck  spine outcome\n",
              "0  IMG_9988.jpg     7      8    BAD4"
            ],
            "text/html": [
              "\n",
              "  <div id=\"df-8df5ec6d-8fa4-4f17-9a01-0dbc4fa7aa34\">\n",
              "    <div class=\"colab-df-container\">\n",
              "      <div>\n",
              "<style scoped>\n",
              "    .dataframe tbody tr th:only-of-type {\n",
              "        vertical-align: middle;\n",
              "    }\n",
              "\n",
              "    .dataframe tbody tr th {\n",
              "        vertical-align: top;\n",
              "    }\n",
              "\n",
              "    .dataframe thead th {\n",
              "        text-align: right;\n",
              "    }\n",
              "</style>\n",
              "<table border=\"1\" class=\"dataframe\">\n",
              "  <thead>\n",
              "    <tr style=\"text-align: right;\">\n",
              "      <th></th>\n",
              "      <th>file_name</th>\n",
              "      <th>neck</th>\n",
              "      <th>spine</th>\n",
              "      <th>outcome</th>\n",
              "    </tr>\n",
              "  </thead>\n",
              "  <tbody>\n",
              "    <tr>\n",
              "      <th>0</th>\n",
              "      <td>IMG_9988.jpg</td>\n",
              "      <td>7</td>\n",
              "      <td>8</td>\n",
              "      <td>BAD4</td>\n",
              "    </tr>\n",
              "  </tbody>\n",
              "</table>\n",
              "</div>\n",
              "      <button class=\"colab-df-convert\" onclick=\"convertToInteractive('df-8df5ec6d-8fa4-4f17-9a01-0dbc4fa7aa34')\"\n",
              "              title=\"Convert this dataframe to an interactive table.\"\n",
              "              style=\"display:none;\">\n",
              "        \n",
              "  <svg xmlns=\"http://www.w3.org/2000/svg\" height=\"24px\"viewBox=\"0 0 24 24\"\n",
              "       width=\"24px\">\n",
              "    <path d=\"M0 0h24v24H0V0z\" fill=\"none\"/>\n",
              "    <path d=\"M18.56 5.44l.94 2.06.94-2.06 2.06-.94-2.06-.94-.94-2.06-.94 2.06-2.06.94zm-11 1L8.5 8.5l.94-2.06 2.06-.94-2.06-.94L8.5 2.5l-.94 2.06-2.06.94zm10 10l.94 2.06.94-2.06 2.06-.94-2.06-.94-.94-2.06-.94 2.06-2.06.94z\"/><path d=\"M17.41 7.96l-1.37-1.37c-.4-.4-.92-.59-1.43-.59-.52 0-1.04.2-1.43.59L10.3 9.45l-7.72 7.72c-.78.78-.78 2.05 0 2.83L4 21.41c.39.39.9.59 1.41.59.51 0 1.02-.2 1.41-.59l7.78-7.78 2.81-2.81c.8-.78.8-2.07 0-2.86zM5.41 20L4 18.59l7.72-7.72 1.47 1.35L5.41 20z\"/>\n",
              "  </svg>\n",
              "      </button>\n",
              "      \n",
              "  <style>\n",
              "    .colab-df-container {\n",
              "      display:flex;\n",
              "      flex-wrap:wrap;\n",
              "      gap: 12px;\n",
              "    }\n",
              "\n",
              "    .colab-df-convert {\n",
              "      background-color: #E8F0FE;\n",
              "      border: none;\n",
              "      border-radius: 50%;\n",
              "      cursor: pointer;\n",
              "      display: none;\n",
              "      fill: #1967D2;\n",
              "      height: 32px;\n",
              "      padding: 0 0 0 0;\n",
              "      width: 32px;\n",
              "    }\n",
              "\n",
              "    .colab-df-convert:hover {\n",
              "      background-color: #E2EBFA;\n",
              "      box-shadow: 0px 1px 2px rgba(60, 64, 67, 0.3), 0px 1px 3px 1px rgba(60, 64, 67, 0.15);\n",
              "      fill: #174EA6;\n",
              "    }\n",
              "\n",
              "    [theme=dark] .colab-df-convert {\n",
              "      background-color: #3B4455;\n",
              "      fill: #D2E3FC;\n",
              "    }\n",
              "\n",
              "    [theme=dark] .colab-df-convert:hover {\n",
              "      background-color: #434B5C;\n",
              "      box-shadow: 0px 1px 3px 1px rgba(0, 0, 0, 0.15);\n",
              "      filter: drop-shadow(0px 1px 2px rgba(0, 0, 0, 0.3));\n",
              "      fill: #FFFFFF;\n",
              "    }\n",
              "  </style>\n",
              "\n",
              "      <script>\n",
              "        const buttonEl =\n",
              "          document.querySelector('#df-8df5ec6d-8fa4-4f17-9a01-0dbc4fa7aa34 button.colab-df-convert');\n",
              "        buttonEl.style.display =\n",
              "          google.colab.kernel.accessAllowed ? 'block' : 'none';\n",
              "\n",
              "        async function convertToInteractive(key) {\n",
              "          const element = document.querySelector('#df-8df5ec6d-8fa4-4f17-9a01-0dbc4fa7aa34');\n",
              "          const dataTable =\n",
              "            await google.colab.kernel.invokeFunction('convertToInteractive',\n",
              "                                                     [key], {});\n",
              "          if (!dataTable) return;\n",
              "\n",
              "          const docLinkHtml = 'Like what you see? Visit the ' +\n",
              "            '<a target=\"_blank\" href=https://colab.research.google.com/notebooks/data_table.ipynb>data table notebook</a>'\n",
              "            + ' to learn more about interactive tables.';\n",
              "          element.innerHTML = '';\n",
              "          dataTable['output_type'] = 'display_data';\n",
              "          await google.colab.output.renderOutput(dataTable, element);\n",
              "          const docLink = document.createElement('div');\n",
              "          docLink.innerHTML = docLinkHtml;\n",
              "          element.appendChild(docLink);\n",
              "        }\n",
              "      </script>\n",
              "    </div>\n",
              "  </div>\n",
              "  "
            ]
          },
          "metadata": {},
          "execution_count": 19
        }
      ]
    },
    {
      "cell_type": "code",
      "execution_count": null,
      "metadata": {
        "colab": {
          "base_uri": "https://localhost:8080/"
        },
        "id": "hvzXprCdCck5",
        "outputId": "a92ab411-f619-460e-ac19-ababfef815be"
      },
      "outputs": [
        {
          "output_type": "stream",
          "name": "stdout",
          "text": [
            "[nose :  [(187, 161, 0.8330780863761902, 0)]\n",
            "neck :  [(83, 240, 0.4976825714111328, 1), (0, 248, 0.12161698249656183, 2)]\n",
            "Rsho :  [(71, 232, 0.7044049203395844, 3), (0, 245, 0.20391559280687943, 4)]\n",
            "Relb :  [(0, 429, 0.12581959866747638, 5), (85, 431, 0.8134691268205643, 6)]\n",
            "Rwri :  [(153, 627, 0.8231886774301529, 7)]\n",
            "Lsho :  [(99, 240, 0.3881467208266258, 8)]\n",
            "Lelb :  []\n",
            "Lwri :  []\n",
            "Rhip :  [(196, 631, 0.4165091924369335, 9)]\n",
            "Rkne :  [(252, 903, 0.47416801238432527, 10)]\n",
            "Rank :  [(134, 1229, 0.40713371615856886, 11)]\n",
            "Lhip :  [(247, 621, 0.35170265659689903, 12)]\n",
            "Lkne :  [(231, 902, 0.25908781826728955, 13)]\n",
            "Lank :  [(148, 1163, 0.2999628409743309, 14)]\n",
            "Leye :  [(173, 128, 0.8670471757650375, 15)]\n",
            "Reye :  []\n",
            "Lear :  [(106, 121, 0.9196580201387405, 16)]\n",
            "Rear :  [(106, 121, 0.9196580201387405, 16)]\n"
          ]
        }
      ],
      "source": [
        "import config_reader\n",
        "\n",
        "_, model_params = config_reader.config_reader()\n",
        "part_str = model_params['part_str']\n",
        "for i in range(18):\n",
        "  print(part_str[i], \": \", all_peaks[i])"
      ]
    },
    {
      "cell_type": "code",
      "execution_count": null,
      "metadata": {
        "id": "5pQwsbfj9v8H"
      },
      "outputs": [],
      "source": [
        "#기존 예시 코드 - 실행 x\n",
        "model.extract_and_draw(file_name)"
      ]
    },
    {
      "cell_type": "markdown",
      "metadata": {
        "id": "83h_k2cz_05K"
      },
      "source": [
        "# 추출 결과 해석\n",
        "\n",
        "all_peak와 subset에 그 결과가 담긴다.\n",
        "\n",
        "- all_peaks : 추출된 모든 포인트의 정보\n",
        "- subset : 사람 별로 추출된 포인트의 정보"
      ]
    },
    {
      "cell_type": "markdown",
      "metadata": {
        "id": "t4YAR-vWATZ7"
      },
      "source": [
        "18개 부위를 추출한다.\n",
        "\n",
        "각 부위의 이름은 config.py에 정의되어 있다.\n",
        "\n",
        "```\n",
        "part_str = [nose, neck, Rsho, Relb, Rwri, Lsho, Lelb, Lwri, Rhip, Rkne, Rank, Lhip, Lkne, Lank, Leye, Reye, Lear, Rear, pt19]\n",
        "```"
      ]
    },
    {
      "cell_type": "markdown",
      "metadata": {
        "id": "UCSyTDs5AbUM"
      },
      "source": [
        "## all_peaks"
      ]
    },
    {
      "cell_type": "markdown",
      "metadata": {
        "id": "ZWlYmH-P309t"
      },
      "source": [
        "추출된 점이 담긴 all_peaks는 18개의 요소가 있는 리스트이다."
      ]
    },
    {
      "cell_type": "code",
      "execution_count": null,
      "metadata": {
        "colab": {
          "base_uri": "https://localhost:8080/"
        },
        "id": "wQiZs8kU30LE",
        "outputId": "d384f696-fa28-43de-b040-16f2902fdba9"
      },
      "outputs": [
        {
          "name": "stdout",
          "output_type": "stream",
          "text": [
            "18\n"
          ]
        }
      ],
      "source": [
        "print(len(all_peaks))"
      ]
    },
    {
      "cell_type": "code",
      "execution_count": null,
      "metadata": {
        "colab": {
          "base_uri": "https://localhost:8080/"
        },
        "id": "dy3JpFA24IaP",
        "outputId": "b4b712bc-0840-4a28-d5f3-807dbd1f2801"
      },
      "outputs": [
        {
          "name": "stdout",
          "output_type": "stream",
          "text": [
            "[nose :  [(173, 142, 0.819156289100647, 0)]\n",
            "neck :  [(280, 207, 0.5145394876599312, 1)]\n",
            "Rsho :  [(299, 206, 0.4223237559199333, 2)]\n",
            "Relb :  []\n",
            "Rwri :  []\n",
            "Lsho :  [(265, 203, 0.7113600820302963, 3)]\n",
            "Lelb :  [(211, 399, 0.7804270535707474, 4)]\n",
            "Lwri :  [(0, 546, 0.12895453772580368, 5), (83, 551, 0.8212695866823196, 6)]\n",
            "Rhip :  [(217, 597, 0.29040105687454343, 7)]\n",
            "Rkne :  [(131, 864, 0.49773184210062027, 8)]\n",
            "Rank :  [(222, 1120, 0.3536911830306053, 9)]\n",
            "Lhip :  [(176, 590, 0.39355132915079594, 10)]\n",
            "Lkne :  [(85, 862, 0.5990166775882244, 11)]\n",
            "Lank :  [(211, 1166, 0.5562114380300045, 12)]\n",
            "Leye :  []\n",
            "Reye :  [(182, 107, 0.8318829238414764, 13)]\n",
            "Lear :  []\n",
            "Rear :  [(250, 0, 0.10412385161424709, 14), (244, 94, 0.9024261087179184, 15)]\n"
          ]
        }
      ],
      "source": [
        "import config_reader\n",
        "\n",
        "_, model_params = config_reader.config_reader()\n",
        "part_str = model_params['part_str']\n",
        "for i in range(18):\n",
        "  print(part_str[i], \": \", all_peaks[i])"
      ]
    },
    {
      "cell_type": "markdown",
      "metadata": {
        "id": "-SYE-c7U34gS"
      },
      "source": [
        "all_peaks[0]은 추출된 nose의 포인트가 담겨 있다."
      ]
    },
    {
      "cell_type": "code",
      "execution_count": null,
      "metadata": {
        "colab": {
          "base_uri": "https://localhost:8080/"
        },
        "id": "n4oUaQag45U0",
        "outputId": "fb4be6b9-de7c-497e-c107-3b79c36b85d7"
      },
      "outputs": [
        {
          "name": "stdout",
          "output_type": "stream",
          "text": [
            "(199, 140, 0.8250698447227478, 0)\n"
          ]
        }
      ],
      "source": [
        "for i in range(len(all_peaks[0])):\n",
        "  print(all_peaks[0][i])"
      ]
    },
    {
      "cell_type": "markdown",
      "metadata": {
        "id": "-3oBPFr77FXc"
      },
      "source": [
        "\n",
        "1개의 point는 다음과 같이 구성된다.\n",
        "```\n",
        "(484, 130, 0.7376982569694519, 1)\n",
        "  x    y   score               point_id\n",
        "```"
      ]
    },
    {
      "cell_type": "markdown",
      "metadata": {
        "id": "aIf4sZxsAe9M"
      },
      "source": [
        "## subset"
      ]
    },
    {
      "cell_type": "markdown",
      "metadata": {
        "id": "WBkRxBnT9xRG"
      },
      "source": [
        "subset 각 요소는 사람 1명에 대한 추출 결과이다."
      ]
    },
    {
      "cell_type": "code",
      "execution_count": null,
      "metadata": {
        "colab": {
          "base_uri": "https://localhost:8080/"
        },
        "id": "VgTwfLnV9v8D",
        "outputId": "31be894c-eb80-4acb-acbc-9d28f4aa67f5"
      },
      "outputs": [
        {
          "name": "stdout",
          "output_type": "stream",
          "text": [
            "1\n"
          ]
        }
      ],
      "source": [
        "print(len(subset))"
      ]
    },
    {
      "cell_type": "markdown",
      "metadata": {
        "id": "Rom-xZsx-oLw"
      },
      "source": [
        "1개의 subset 요소는 1사람에 대한 19개 포인트 id로 구성되어 있다."
      ]
    },
    {
      "cell_type": "code",
      "execution_count": null,
      "metadata": {
        "colab": {
          "base_uri": "https://localhost:8080/"
        },
        "id": "SRkN1Uga-B6R",
        "outputId": "10fbae61-297a-47c8-ac9f-7884dfe90871"
      },
      "outputs": [
        {
          "name": "stdout",
          "output_type": "stream",
          "text": [
            "[ 0.          1.          2.          3.          4.          5.\n",
            " -1.         -1.          6.          7.          8.          9.\n",
            " 10.         11.         12.         -1.         13.         -1.\n",
            " 16.95400061 14.        ]\n"
          ]
        }
      ],
      "source": [
        "print(subset[0])"
      ]
    },
    {
      "cell_type": "markdown",
      "metadata": {
        "id": "j6MWkyAn-GfC"
      },
      "source": [
        "\n",
        "point_id는 all_peaks에 명시되어 있다.\n",
        "```\n",
        "all_peaks의 내용\n",
        "\n",
        "(177, 6, 0.11634597013471648, 0)\n",
        "(484, 130, 0.7376982569694519, 1)\n",
        "(287, 154, 0.9168482273817062, 2)\n",
        "(410, 221, 0.9359188675880432, 3)\n",
        "\n",
        "각 줄의 마지막 숫가가 point_id이다.\n",
        "\n",
        "```"
      ]
    },
    {
      "cell_type": "markdown",
      "metadata": {
        "id": "8uQjEo95-rOn"
      },
      "source": [
        "각 포인트별 연결 가능 여부는 limSeq에 담겨 있다."
      ]
    },
    {
      "cell_type": "code",
      "execution_count": null,
      "metadata": {
        "colab": {
          "base_uri": "https://localhost:8080/"
        },
        "id": "IvLPDBEp1NQM",
        "outputId": "90b0a2d2-8ad3-47ae-b0c4-c066f381742d"
      },
      "outputs": [
        {
          "name": "stdout",
          "output_type": "stream",
          "text": [
            "19\n",
            "[[2, 3], [2, 6], [3, 4], [4, 5], [6, 7], [7, 8], [2, 9], [9, 10], [10, 11], [2, 12], [12, 13], [13, 14], [2, 1], [1, 15], [15, 17], [1, 16], [16, 18], [3, 17], [6, 18]]\n"
          ]
        }
      ],
      "source": [
        "from open_pose_wrapper import limbSeq\n",
        "\n",
        "print(len(limbSeq))\n",
        "print(limbSeq)"
      ]
    },
    {
      "cell_type": "markdown",
      "metadata": {
        "id": "fF3tbZ0N-yRY"
      },
      "source": [
        "[2, 3] 은 neck과 Rsho(righst shoulder)가 연결되어 있음을 의미하고, \n",
        "\n",
        "[3,4]는 Rsho(righst shoulder)와 Relb(right elbow)가 이어져 있다는 것을 의미한다.\n",
        "\n",
        "```\n",
        "1: nose\n",
        "2: neck\n",
        "3: Rsho\n",
        "4: Relb\n",
        "5: Rwri\n",
        "...\n",
        "```\n"
      ]
    },
    {
      "cell_type": "code",
      "execution_count": null,
      "metadata": {
        "id": "SDKocRE_N5mE"
      },
      "outputs": [],
      "source": []
    }
  ],
  "metadata": {
    "accelerator": "GPU",
    "colab": {
      "collapsed_sections": [],
      "provenance": []
    },
    "gpuClass": "standard",
    "kernelspec": {
      "display_name": "Python 3",
      "name": "python3"
    },
    "language_info": {
      "name": "python"
    }
  },
  "nbformat": 4,
  "nbformat_minor": 0
}