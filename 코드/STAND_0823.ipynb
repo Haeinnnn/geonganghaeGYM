{
  "nbformat": 4,
  "nbformat_minor": 0,
  "metadata": {
    "colab": {
      "name": "STAND_0823.ipynb",
      "provenance": [],
      "collapsed_sections": []
    },
    "kernelspec": {
      "name": "python3",
      "display_name": "Python 3"
    },
    "language_info": {
      "name": "python"
    },
    "accelerator": "GPU",
    "gpuClass": "standard"
  },
  "cells": [
    {
      "cell_type": "markdown",
      "source": [
        "#파일 다운로드 및 압축해제"
      ],
      "metadata": {
        "id": "VZEw4XqL4VuD"
      }
    },
    {
      "cell_type": "markdown",
      "source": [
        "\n",
        "\n",
        "\n",
        "```\n",
        "#\n",
        "1. 파일 링크로 부터 다운로드 받기\n",
        "!rm -rf dogs_prepared.tar.gz\n",
        "!wget https://github.com/dhrim/2022_WISET/raw/main/material/deep_learning/dogs_prepared.tar.gz\n",
        "!ls -al  \n",
        "\n",
        "2. 구글 드라이브로 부터 다운로드 받기\n",
        "from google.colab import drive\n",
        "drive.mount(\"구글 드라이브 경로\")\n",
        "%cd 압축 풀 경로\n",
        "!unzip '압축파일 경로'\n",
        "이후에 len(file명) = 압축잘 풀렸나 확인해보기\n",
        "\n",
        "ex) \n",
        "from google.colab import drive\n",
        "drive.mount('/gdrive')\n",
        "\n",
        "\n",
        "3.파일 직접 업로드\n",
        "cd 업로드할 디렉토리명\n",
        "!mkdir 만들 디렉토리명\n",
        "pwd 현재 있는 디렉토리 위치\n",
        "\n",
        "파일 업로드\n",
        "from google.colab import files\n",
        "file_uploaded = files.upload()\n",
        "\n",
        "파일 선택후 업로드 해주면 됨\n",
        "\n",
        "'''\n",
        "\n",
        "\n",
        "\n"
      ],
      "metadata": {
        "id": "VectNIumykfn"
      }
    },
    {
      "cell_type": "code",
      "source": [
        "from google.colab import drive\n",
        "drive.mount('/gdrive')\n"
      ],
      "metadata": {
        "colab": {
          "base_uri": "https://localhost:8080/"
        },
        "id": "eS2Xp_QB03PO",
        "outputId": "67b33caa-76db-45b0-f901-94166cd30041"
      },
      "execution_count": 1,
      "outputs": [
        {
          "output_type": "stream",
          "name": "stdout",
          "text": [
            "Mounted at /gdrive\n"
          ]
        }
      ]
    },
    {
      "cell_type": "code",
      "source": [
        "pwd"
      ],
      "metadata": {
        "colab": {
          "base_uri": "https://localhost:8080/",
          "height": 36
        },
        "id": "8D5koXuem69l",
        "outputId": "a72d8828-9547-4263-dfd3-baa3058733ae"
      },
      "execution_count": 3,
      "outputs": [
        {
          "output_type": "execute_result",
          "data": {
            "text/plain": [
              "'/content'"
            ],
            "application/vnd.google.colaboratory.intrinsic+json": {
              "type": "string"
            }
          },
          "metadata": {},
          "execution_count": 3
        }
      ]
    },
    {
      "cell_type": "code",
      "source": [
        "cd drive"
      ],
      "metadata": {
        "colab": {
          "base_uri": "https://localhost:8080/"
        },
        "id": "OU5GsI9i1Lpy",
        "outputId": "861ad6d3-e31c-4d97-d6c7-7525147ff1e8"
      },
      "execution_count": 4,
      "outputs": [
        {
          "output_type": "stream",
          "name": "stdout",
          "text": [
            "/content/drive\n"
          ]
        }
      ]
    },
    {
      "cell_type": "code",
      "source": [
        "cd MyDrive"
      ],
      "metadata": {
        "colab": {
          "base_uri": "https://localhost:8080/"
        },
        "id": "-xyVNO06nBo8",
        "outputId": "84572f10-03b3-42d6-a407-66796f630131"
      },
      "execution_count": 6,
      "outputs": [
        {
          "output_type": "stream",
          "name": "stdout",
          "text": [
            "/content/drive/MyDrive\n"
          ]
        }
      ]
    },
    {
      "cell_type": "code",
      "source": [
        "cd DATA"
      ],
      "metadata": {
        "colab": {
          "base_uri": "https://localhost:8080/"
        },
        "id": "HYRqYuOcm_Xl",
        "outputId": "fcf9bc1a-bb9b-4adb-ed09-051fb359678b"
      },
      "execution_count": 7,
      "outputs": [
        {
          "output_type": "stream",
          "name": "stdout",
          "text": [
            "/content/drive/.shortcut-targets-by-id/1zaWNDIbEB7mz9mfiWjgvZ9_Vanr9-sSZ/DATA\n"
          ]
        }
      ]
    },
    {
      "cell_type": "code",
      "source": [
        "!ls -al"
      ],
      "metadata": {
        "colab": {
          "base_uri": "https://localhost:8080/"
        },
        "id": "uDEKCHOzjdZe",
        "outputId": "fc3ce1fa-ebf5-47aa-adb7-bba95f0c205e"
      },
      "execution_count": 11,
      "outputs": [
        {
          "output_type": "stream",
          "name": "stdout",
          "text": [
            "total 10464780\n",
            "drwx------ 2 root root       4096 Aug 17 10:19 1\n",
            "drwx------ 2 root root       4096 Aug 17 10:19 2\n",
            "drwx------ 2 root root       4096 Aug 18 07:12 3\n",
            "drwx------ 2 root root       4096 Aug 18 07:12 4\n",
            "drwx------ 2 root root       4096 Aug 18 07:20 5\n",
            "drwx------ 2 root root       4096 Aug 18 08:11 code\n",
            "-rw------- 1 root root 4539326035 Aug 22 18:25 SIT.zip\n",
            "-rw------- 1 root root 6176582802 Aug 22 19:18 STAND.zip\n"
          ]
        }
      ]
    },
    {
      "cell_type": "markdown",
      "source": [
        "appropriate binary mode and that you have compiled unzip properly  error(용량큰zip파일 unzip)\n",
        "\n",
        "zip -FF my_zip --out my_zip_ver2.zip\n",
        "unzip my_zip_ver2.zip"
      ],
      "metadata": {
        "id": "JGqyKJY5sZbm"
      }
    },
    {
      "cell_type": "code",
      "source": [
        "!zip -FF STAND --out STAND_ver2.zip\n",
        "\n",
        " \n",
        "\n",
        "!unzip STAND_ver2.zip"
      ],
      "metadata": {
        "id": "u0uRa4sx2Bas"
      },
      "execution_count": null,
      "outputs": []
    },
    {
      "cell_type": "code",
      "source": [
        "cd STAND"
      ],
      "metadata": {
        "colab": {
          "base_uri": "https://localhost:8080/"
        },
        "id": "ymwPZmqtkwWd",
        "outputId": "50cb73fe-a383-40ba-ea65-079c73f8c5eb"
      },
      "execution_count": 25,
      "outputs": [
        {
          "output_type": "stream",
          "name": "stdout",
          "text": [
            "/content/drive/.shortcut-targets-by-id/1zaWNDIbEB7mz9mfiWjgvZ9_Vanr9-sSZ/DATA/STAND\n"
          ]
        }
      ]
    },
    {
      "cell_type": "code",
      "source": [
        "cd TRAIN"
      ],
      "metadata": {
        "colab": {
          "base_uri": "https://localhost:8080/"
        },
        "id": "Bbuy1SpHkyxx",
        "outputId": "3ab7a07b-5ce5-4b58-bc32-8ac9b1c84b23"
      },
      "execution_count": 26,
      "outputs": [
        {
          "output_type": "stream",
          "name": "stdout",
          "text": [
            "/content/drive/.shortcut-targets-by-id/1zaWNDIbEB7mz9mfiWjgvZ9_Vanr9-sSZ/DATA/STAND/TRAIN\n"
          ]
        }
      ]
    },
    {
      "cell_type": "markdown",
      "source": [
        "#Train - Test 데이터 나눠주기\n",
        "\n",
        "\n",
        "\n",
        "```\n",
        "1. split folder ratio 사용\n",
        "!pip install split-folders\n",
        "import splitfolders\n",
        "\n",
        "#splitfolders.ratio('인풋경로',output='output경로' ,seed=77, ratio= (0.8,0.1,0.1)) \n",
        "#처음폴더를 output foloder(없다면 생성해준후 실행)로 train-valid-test 데이터를 0.8,0.1,0.1의 비율로 나눠줘\n",
        "\n",
        "# splitfolders.ratio('/content/drive/MyDrive/tmp/pose_estimiation/bad',)\n",
        "\n",
        "2. 뒷자리 9 0 을 옮겨줌(대략 8:2로 나눠줌)\n",
        "```\n",
        "\n"
      ],
      "metadata": {
        "id": "e2_S78dA208M"
      }
    },
    {
      "cell_type": "markdown",
      "source": [
        "##Linux 파일이동 mv\n",
        "* 여러개 파일 한꺼번에 이동시키기 \n",
        "\n",
        "mv [이동 대상1] [이동 대상2] [이동 대상3] ..... [이동 할 경로]\n",
        "\n",
        "ex) mv test1.txt test2.txt test3.txt /user/.\n",
        "\n",
        "현재 위치의 모든 파일 이동\n",
        "\n",
        "mv * [이동 할 경로]\n",
        "\n",
        "ex) : mv -r * /user/.\n",
        "\n",
        "* rename\n",
        "mv 기존 파일명 새로운 파일명 (같은 폴더로의 이동이라 이름만 변경된다)"
      ],
      "metadata": {
        "id": "u-e8N8cyBqUu"
      }
    },
    {
      "cell_type": "code",
      "source": [
        "cd GOOD"
      ],
      "metadata": {
        "colab": {
          "base_uri": "https://localhost:8080/"
        },
        "id": "b_GRG2ywtbVj",
        "outputId": "88888216-4328-486f-8b76-862365719725"
      },
      "execution_count": 27,
      "outputs": [
        {
          "output_type": "stream",
          "name": "stdout",
          "text": [
            "/content/drive/.shortcut-targets-by-id/1zaWNDIbEB7mz9mfiWjgvZ9_Vanr9-sSZ/DATA/STAND/TRAIN/GOOD\n"
          ]
        }
      ]
    },
    {
      "cell_type": "code",
      "source": [
        "mv *9.jpg  /content/drive/MyDrive/DATA/STAND/TEST/GOOD"
      ],
      "metadata": {
        "id": "GPPHhiMYkc9H"
      },
      "execution_count": 28,
      "outputs": []
    },
    {
      "cell_type": "code",
      "source": [
        "mv *0.jpg  /content/drive/MyDrive/DATA/STAND/TEST/GOOD"
      ],
      "metadata": {
        "id": "-CoeJYxYlbye"
      },
      "execution_count": 31,
      "outputs": []
    },
    {
      "cell_type": "code",
      "source": [
        "cd .."
      ],
      "metadata": {
        "colab": {
          "base_uri": "https://localhost:8080/"
        },
        "id": "gwGoM5cWlhfp",
        "outputId": "7250cf9f-bb55-4324-977d-e9fb560e024a"
      },
      "execution_count": 32,
      "outputs": [
        {
          "output_type": "stream",
          "name": "stdout",
          "text": [
            "/content/drive/.shortcut-targets-by-id/1zaWNDIbEB7mz9mfiWjgvZ9_Vanr9-sSZ/DATA/STAND/TRAIN\n"
          ]
        }
      ]
    },
    {
      "cell_type": "code",
      "source": [
        "cd BAD1"
      ],
      "metadata": {
        "colab": {
          "base_uri": "https://localhost:8080/"
        },
        "id": "CifoF0ADlkmg",
        "outputId": "af847d44-ad67-4dfa-f057-d34fed5bf53f"
      },
      "execution_count": 33,
      "outputs": [
        {
          "output_type": "stream",
          "name": "stdout",
          "text": [
            "/content/drive/.shortcut-targets-by-id/1zaWNDIbEB7mz9mfiWjgvZ9_Vanr9-sSZ/DATA/STAND/TRAIN/BAD1\n"
          ]
        }
      ]
    },
    {
      "cell_type": "code",
      "source": [
        "mv *9.jpg  /content/drive/MyDrive/DATA/STAND/TEST/BAD1"
      ],
      "metadata": {
        "id": "4o4hbLkqln3D"
      },
      "execution_count": 34,
      "outputs": []
    },
    {
      "cell_type": "code",
      "source": [
        "mv *0.jpg  /content/drive/MyDrive/DATA/STAND/TEST/BAD1"
      ],
      "metadata": {
        "id": "SmnwgGjVlqki"
      },
      "execution_count": 35,
      "outputs": []
    },
    {
      "cell_type": "code",
      "source": [
        "cd .."
      ],
      "metadata": {
        "colab": {
          "base_uri": "https://localhost:8080/"
        },
        "id": "6keUeJXus3vT",
        "outputId": "b7ebb09d-dd18-4009-d9b1-3c520b691e28"
      },
      "execution_count": 36,
      "outputs": [
        {
          "output_type": "stream",
          "name": "stdout",
          "text": [
            "/content/drive/.shortcut-targets-by-id/1zaWNDIbEB7mz9mfiWjgvZ9_Vanr9-sSZ/DATA/STAND/TRAIN\n"
          ]
        }
      ]
    },
    {
      "cell_type": "code",
      "source": [
        "cd BAD2"
      ],
      "metadata": {
        "colab": {
          "base_uri": "https://localhost:8080/"
        },
        "id": "0fjKvY7BtvxF",
        "outputId": "8ea7b908-3068-45a3-8b1f-94c583339099"
      },
      "execution_count": 37,
      "outputs": [
        {
          "output_type": "stream",
          "name": "stdout",
          "text": [
            "/content/drive/.shortcut-targets-by-id/1zaWNDIbEB7mz9mfiWjgvZ9_Vanr9-sSZ/DATA/STAND/TRAIN/BAD2\n"
          ]
        }
      ]
    },
    {
      "cell_type": "code",
      "source": [
        "mv *9.jpg  /content/drive/MyDrive/DATA/STAND/TEST/BAD2"
      ],
      "metadata": {
        "id": "rRvPzvPctyJW"
      },
      "execution_count": 38,
      "outputs": []
    },
    {
      "cell_type": "code",
      "source": [
        "mv *0.jpg  /content/drive/MyDrive/DATA/STAND/TEST/BAD2"
      ],
      "metadata": {
        "colab": {
          "base_uri": "https://localhost:8080/"
        },
        "id": "fdt3GRqYtz0u",
        "outputId": "22fda5f3-c1da-4545-ad54-6e36e9377732"
      },
      "execution_count": 40,
      "outputs": [
        {
          "output_type": "stream",
          "name": "stdout",
          "text": [
            "mv: cannot stat '*0.jpg': No such file or directory\n"
          ]
        }
      ]
    },
    {
      "cell_type": "code",
      "source": [
        "cd .."
      ],
      "metadata": {
        "colab": {
          "base_uri": "https://localhost:8080/"
        },
        "id": "Cy_zSZo1ud0a",
        "outputId": "a4712a20-0ca0-4d1a-ee93-d5e5186f2c2e"
      },
      "execution_count": 41,
      "outputs": [
        {
          "output_type": "stream",
          "name": "stdout",
          "text": [
            "/content/drive/.shortcut-targets-by-id/1zaWNDIbEB7mz9mfiWjgvZ9_Vanr9-sSZ/DATA/STAND/TRAIN\n"
          ]
        }
      ]
    },
    {
      "cell_type": "code",
      "source": [
        "cd BAD3"
      ],
      "metadata": {
        "colab": {
          "base_uri": "https://localhost:8080/"
        },
        "id": "g5P05QJdugsL",
        "outputId": "80d68266-eb4c-4e0a-c920-4eb6f05b01b1"
      },
      "execution_count": 42,
      "outputs": [
        {
          "output_type": "stream",
          "name": "stdout",
          "text": [
            "/content/drive/.shortcut-targets-by-id/1zaWNDIbEB7mz9mfiWjgvZ9_Vanr9-sSZ/DATA/STAND/TRAIN/BAD3\n"
          ]
        }
      ]
    },
    {
      "cell_type": "code",
      "source": [
        "mv *9.jpg  /content/drive/MyDrive/DATA/STAND/TEST/BAD3"
      ],
      "metadata": {
        "id": "s8BqCEequiPF"
      },
      "execution_count": 43,
      "outputs": []
    },
    {
      "cell_type": "code",
      "source": [
        "mv *0.jpg  /content/drive/MyDrive/DATA/STAND/TEST/BAD3"
      ],
      "metadata": {
        "id": "LowArBkTukYC"
      },
      "execution_count": 44,
      "outputs": []
    },
    {
      "cell_type": "code",
      "source": [
        "cd .."
      ],
      "metadata": {
        "colab": {
          "base_uri": "https://localhost:8080/"
        },
        "id": "jYvbiw0Xumyf",
        "outputId": "f3ea098c-abc0-4d82-ce8f-0e3e68945393"
      },
      "execution_count": 45,
      "outputs": [
        {
          "output_type": "stream",
          "name": "stdout",
          "text": [
            "/content/drive/.shortcut-targets-by-id/1zaWNDIbEB7mz9mfiWjgvZ9_Vanr9-sSZ/DATA/STAND/TRAIN\n"
          ]
        }
      ]
    },
    {
      "cell_type": "code",
      "source": [
        "cd BAD4"
      ],
      "metadata": {
        "colab": {
          "base_uri": "https://localhost:8080/"
        },
        "id": "s2F_DGeouomo",
        "outputId": "1875fb57-32ef-49c4-e18f-8c34c92f6a6b"
      },
      "execution_count": 46,
      "outputs": [
        {
          "output_type": "stream",
          "name": "stdout",
          "text": [
            "/content/drive/.shortcut-targets-by-id/1zaWNDIbEB7mz9mfiWjgvZ9_Vanr9-sSZ/DATA/STAND/TRAIN/BAD4\n"
          ]
        }
      ]
    },
    {
      "cell_type": "code",
      "source": [
        "mv *9.jpg  /content/drive/MyDrive/DATA/STAND/TEST/BAD4"
      ],
      "metadata": {
        "id": "CPdgnFLqup69"
      },
      "execution_count": 47,
      "outputs": []
    },
    {
      "cell_type": "code",
      "source": [
        "mv *0.jpg  /content/drive/MyDrive/DATA/STAND/TEST/BAD4"
      ],
      "metadata": {
        "id": "CHLfSn78us-m"
      },
      "execution_count": 48,
      "outputs": []
    },
    {
      "cell_type": "markdown",
      "source": [
        "#Vanilla CNN Template\n"
      ],
      "metadata": {
        "id": "icPgphWcyd2u"
      }
    },
    {
      "cell_type": "code",
      "source": [
        "import os\n",
        "import pandas as pd\n",
        "import matplotlib.pyplot as plt\n",
        "import numpy as np\n",
        "\n",
        "from tensorflow import keras\n",
        "from tensorflow.keras import optimizers\n",
        "from tensorflow.keras import models\n",
        "from tensorflow.keras import layers\n",
        "from tensorflow.keras import optimizers\n",
        "from tensorflow.keras import Sequential\n",
        "from tensorflow.keras.layers import Dropout, Flatten, Dense, BatchNormalization, Conv2D, MaxPooling2D, Input\n",
        "from tensorflow.keras import Model\n",
        "from tensorflow.keras.preprocessing.image import ImageDataGenerator\n",
        "from tensorflow.keras.preprocessing.image import load_img\n",
        "from tensorflow.keras.preprocessing.image import img_to_array\n",
        "from tensorflow.keras.callbacks import Callback\n",
        "\n",
        "import time\n",
        "\n",
        "\n",
        "from tensorflow.keras.applications import efficientnet\n",
        "from tensorflow.keras.applications import EfficientNetB2\n",
        "import tensorflow as tf\n",
        "\n",
        "\n",
        "model = keras.Sequential()\n",
        "model.add(Input((224,224,3)))\n",
        "model.add(Conv2D(64, (3,3), padding='same'))\n",
        "model.add(Conv2D(64, (3,3), padding='same'))\n",
        "model.add(MaxPooling2D())\n",
        "model.add(Conv2D(128, (3,3), padding='same'))\n",
        "model.add(Conv2D(128, (3,3), padding='same'))\n",
        "model.add(MaxPooling2D())\n",
        "model.add(Conv2D(256, (3,3), padding='same'))\n",
        "model.add(Conv2D(256, (3,3), padding='same'))\n",
        "model.add(Conv2D(256, (3,3), padding='same'))\n",
        "model.add(MaxPooling2D())\n",
        "model.add(Conv2D(512, (3,3), padding='same'))\n",
        "model.add(Conv2D(512, (3,3), padding='same'))\n",
        "model.add(Conv2D(512, (3,3), padding='same'))\n",
        "model.add(MaxPooling2D())\n",
        "model.add(Conv2D(512, (3,3), padding='same'))\n",
        "model.add(Conv2D(512, (3,3), padding='same'))\n",
        "model.add(Conv2D(512, (3,3), padding='same'))\n",
        "model.add(MaxPooling2D())\n",
        "model.add(Flatten())\n",
        "model.add(Dense(64, activation='relu'))\n",
        "model.add(BatchNormalization())\n",
        "model.add(Dense(5, activation='softmax'))\n",
        "\n"
      ],
      "metadata": {
        "id": "7PjQAtOCyco0"
      },
      "execution_count": 50,
      "outputs": []
    },
    {
      "cell_type": "code",
      "source": [
        "#다중분류\n",
        "model.compile(loss='sparse_categorical_crossentropy', optimizer=\"RMSprop\", metrics=['acc'])\n",
        "#good,bad만 분류하면되니까 2진분류\n",
        "# model.compile(loss='binary_crossentropy', optimizer=\"RMSprop\", metrics=['acc'])\n",
        "model.summary()\n",
        "\n",
        "def normalize(image):\n",
        "  return image/255.0\n",
        "\n",
        "preprocessor = normalize\n",
        "# BATCH_SIZE = 32\n",
        "BATCH_SIZE = 128\n",
        "\n",
        "train_data_generator = ImageDataGenerator(\n",
        "      # rotation_range=10,\n",
        "      rotation_range=5, #bad1~4,good 5개\n",
        "      width_shift_range=0.1,\n",
        "      height_shift_range=0.1,\n",
        "      horizontal_flip=True,\n",
        "      vertical_flip=False,\n",
        "      preprocessing_function=preprocessor\n",
        ").flow_from_directory(\n",
        "      \"/content/drive/MyDrive/DATA/STAND/TRAIN\",#학습시킬 경로\n",
        "      target_size=(224,224),\n",
        "      batch_size=BATCH_SIZE,\n",
        "      class_mode='sparse'\n",
        ")\n",
        "\n",
        "test_data_generator = ImageDataGenerator(\n",
        "      preprocessing_function=preprocessor\n",
        ").flow_from_directory(\n",
        "      \"/content/drive/MyDrive/DATA/STAND/TEST\", #test경로\n",
        "      target_size=(224,224),\n",
        "      batch_size=BATCH_SIZE,\n",
        "      class_mode='sparse'\n",
        ")\n",
        "\n"
      ],
      "metadata": {
        "colab": {
          "base_uri": "https://localhost:8080/"
        },
        "id": "Fq3wSN5LwWth",
        "outputId": "40c68a27-a2be-422e-d338-ebd4050b82c9"
      },
      "execution_count": 54,
      "outputs": [
        {
          "output_type": "stream",
          "name": "stdout",
          "text": [
            "Model: \"sequential_1\"\n",
            "_________________________________________________________________\n",
            " Layer (type)                Output Shape              Param #   \n",
            "=================================================================\n",
            " conv2d_13 (Conv2D)          (None, 224, 224, 64)      1792      \n",
            "                                                                 \n",
            " conv2d_14 (Conv2D)          (None, 224, 224, 64)      36928     \n",
            "                                                                 \n",
            " max_pooling2d_5 (MaxPooling  (None, 112, 112, 64)     0         \n",
            " 2D)                                                             \n",
            "                                                                 \n",
            " conv2d_15 (Conv2D)          (None, 112, 112, 128)     73856     \n",
            "                                                                 \n",
            " conv2d_16 (Conv2D)          (None, 112, 112, 128)     147584    \n",
            "                                                                 \n",
            " max_pooling2d_6 (MaxPooling  (None, 56, 56, 128)      0         \n",
            " 2D)                                                             \n",
            "                                                                 \n",
            " conv2d_17 (Conv2D)          (None, 56, 56, 256)       295168    \n",
            "                                                                 \n",
            " conv2d_18 (Conv2D)          (None, 56, 56, 256)       590080    \n",
            "                                                                 \n",
            " conv2d_19 (Conv2D)          (None, 56, 56, 256)       590080    \n",
            "                                                                 \n",
            " max_pooling2d_7 (MaxPooling  (None, 28, 28, 256)      0         \n",
            " 2D)                                                             \n",
            "                                                                 \n",
            " conv2d_20 (Conv2D)          (None, 28, 28, 512)       1180160   \n",
            "                                                                 \n",
            " conv2d_21 (Conv2D)          (None, 28, 28, 512)       2359808   \n",
            "                                                                 \n",
            " conv2d_22 (Conv2D)          (None, 28, 28, 512)       2359808   \n",
            "                                                                 \n",
            " max_pooling2d_8 (MaxPooling  (None, 14, 14, 512)      0         \n",
            " 2D)                                                             \n",
            "                                                                 \n",
            " conv2d_23 (Conv2D)          (None, 14, 14, 512)       2359808   \n",
            "                                                                 \n",
            " conv2d_24 (Conv2D)          (None, 14, 14, 512)       2359808   \n",
            "                                                                 \n",
            " conv2d_25 (Conv2D)          (None, 14, 14, 512)       2359808   \n",
            "                                                                 \n",
            " max_pooling2d_9 (MaxPooling  (None, 7, 7, 512)        0         \n",
            " 2D)                                                             \n",
            "                                                                 \n",
            " flatten_1 (Flatten)         (None, 25088)             0         \n",
            "                                                                 \n",
            " dense_2 (Dense)             (None, 64)                1605696   \n",
            "                                                                 \n",
            " batch_normalization_1 (Batc  (None, 64)               256       \n",
            " hNormalization)                                                 \n",
            "                                                                 \n",
            " dense_3 (Dense)             (None, 5)                 325       \n",
            "                                                                 \n",
            "=================================================================\n",
            "Total params: 16,320,965\n",
            "Trainable params: 16,320,837\n",
            "Non-trainable params: 128\n",
            "_________________________________________________________________\n",
            "Found 2639 images belonging to 5 classes.\n",
            "Found 354 images belonging to 5 classes.\n"
          ]
        }
      ]
    },
    {
      "cell_type": "code",
      "source": [
        "from tensorflow.keras.callbacks import ModelCheckpoint\n",
        "model_check_point = ModelCheckpoint(\n",
        "    'pose_best_model.h5', \n",
        "    monitor='val_loss', \n",
        "    verbose=1, \n",
        "    save_best_only=True)\n",
        "#모델체크포인트\n",
        "\n",
        "\n"
      ],
      "metadata": {
        "id": "KHDruxJ7wwwC"
      },
      "execution_count": 56,
      "outputs": []
    },
    {
      "cell_type": "code",
      "source": [
        "history = model.fit(\n",
        "      train_data_generator,\n",
        "      validation_data=test_data_generator,\n",
        "      steps_per_epoch=train_data_generator.samples/BATCH_SIZE,\n",
        "      validation_steps=test_data_generator.samples/BATCH_SIZE,      \n",
        "      epochs=5, callbacks=[model_check_point]\n",
        ")\n",
        "\n",
        "\n",
        "plt.plot(history.history['loss'])\n",
        "plt.plot(history.history['val_loss'])\n",
        "plt.show()\n",
        "\n",
        "\n",
        "loss, acc = model.evaluate(\n",
        "      test_data_generator,\n",
        "      steps=test_data_generator.samples/BATCH_SIZE\n",
        ")\n",
        "print(\"loss=\", loss)\n",
        "print(\"acc=\", acc)\n",
        "\n",
        "\n",
        "\n",
        "test_x, test_y = next(iter(test_data_generator))\n",
        "y_ = model.predict(test_x)\n",
        "predicted = np.argmax(y_, axis=-1)\n",
        "\n",
        "plt.plot(test_y[:100], \"o\")\n",
        "plt.plot(predicted[:100], '.')\n",
        "plt.show()\n"
      ],
      "metadata": {
        "colab": {
          "base_uri": "https://localhost:8080/"
        },
        "id": "9TIWmkkG27Vz",
        "outputId": "76df3f01-2725-494f-e980-06a425c5113b"
      },
      "execution_count": null,
      "outputs": [
        {
          "output_type": "stream",
          "name": "stdout",
          "text": [
            "Epoch 1/5\n",
            "21/20 [==============================] - ETA: -7s - loss: 1.3167 - acc: 0.4941\n",
            "Epoch 1: val_loss improved from inf to 5.75302, saving model to pose_best_model.h5\n",
            "20/20 [==============================] - 472s 23s/step - loss: 1.3167 - acc: 0.4941 - val_loss: 5.7530 - val_acc: 0.3446\n",
            "Epoch 2/5\n",
            "21/20 [==============================] - ETA: -7s - loss: 1.2710 - acc: 0.5222\n",
            "Epoch 2: val_loss did not improve from 5.75302\n",
            "20/20 [==============================] - 469s 23s/step - loss: 1.2710 - acc: 0.5222 - val_loss: 40.5256 - val_acc: 0.2373\n",
            "Epoch 3/5\n",
            "21/20 [==============================] - ETA: -7s - loss: 1.2428 - acc: 0.5263\n",
            "Epoch 3: val_loss improved from 5.75302 to 5.42796, saving model to pose_best_model.h5\n",
            "20/20 [==============================] - 470s 23s/step - loss: 1.2428 - acc: 0.5263 - val_loss: 5.4280 - val_acc: 0.2938\n",
            "Epoch 4/5\n",
            "21/20 [==============================] - ETA: -7s - loss: 1.0762 - acc: 0.5930\n",
            "Epoch 4: val_loss improved from 5.42796 to 1.24013, saving model to pose_best_model.h5\n",
            "20/20 [==============================] - 471s 23s/step - loss: 1.0762 - acc: 0.5930 - val_loss: 1.2401 - val_acc: 0.5424\n",
            "Epoch 5/5\n",
            " 6/20 [=======>......................] - ETA: 4:48 - loss: 0.9703 - acc: 0.6245"
          ]
        }
      ]
    },
    {
      "cell_type": "code",
      "source": [
        "# from keras.models import load_model\n",
        "# model.save('pose_model.h5')"
      ],
      "metadata": {
        "id": "8sT5Z1bDxX_Y"
      },
      "execution_count": null,
      "outputs": []
    },
    {
      "cell_type": "markdown",
      "source": [
        "https://colab.research.google.com/github/tensorflow/docs-l10n/blob/master/site/ko/tutorials/keras/save_and_load.ipynb?hl=ko\n",
        "\n",
        "참고 사이트"
      ],
      "metadata": {
        "id": "R7d9neMj38kA"
      }
    },
    {
      "cell_type": "markdown",
      "source": [
        "#오류\n"
      ],
      "metadata": {
        "id": "rFsXYPl64Oer"
      }
    },
    {
      "cell_type": "markdown",
      "source": [
        "\n",
        "\n",
        "```\n",
        "\n",
        "\n",
        "1. logits and labels must have same size\n",
        "  - 분류문제네요. 네트워크를 고치는 게 아니라, 입력의 타겟 y 를 one-hot 형태로 바꾸어야 할 겁니다. 0부터 6까지 7가지 클래스가 있으니까 네트워크 말단도 7개의 아웃풋이 되어야 하고요.(다른사람 질문 답변)\n",
        "\n",
        "2. Cannot convert 0.96875 to EagerTensor of dtype int64\n",
        "\n",
        "encoded_vec = tf.Variable([pos/tf.pow(10000, 2*i/d_model) for pos in range(length) for i in range(d_model)],\n",
        "                             dtype=tf.float32)\n",
        "\n",
        "  - 다른분 질문이라 length등.. 이걸 어떻게 처리해얄지 모르겠다..\n",
        "\n",
        "갯수안많으니 normalize를 빼볼까했는데 이것도 의미없음..\n",
        "\n",
        "int(round(train_it.samples/train_it.batch_size)) ROUND처리..\n",
        "\n",
        "!pip uninstall tensorflow \n",
        "!pip install tensorflow==2.2.0\n",
        "tensorflow버전변경'\n",
        "\n",
        "  -batch_size 32로 변경하고 드디어 학습된다.\n",
        "\n",
        "\n",
        "  3. val_loss nan나옴.. (원인)\n",
        "- learningrate가 너무 높다\n",
        "- input data에 nan이 껴있다.\n",
        "- output size와 데이터가 불일치한다.\n",
        "- log(0)이 어디선가 수행되고 있다.\n",
        "\n",
        "\n",
        "\n",
        "```\n",
        "\n"
      ],
      "metadata": {
        "id": "atqvFJbezLa7"
      }
    },
    {
      "cell_type": "code",
      "source": [
        ""
      ],
      "metadata": {
        "id": "G5VDb4G_8Kf8"
      },
      "execution_count": null,
      "outputs": []
    }
  ]
}