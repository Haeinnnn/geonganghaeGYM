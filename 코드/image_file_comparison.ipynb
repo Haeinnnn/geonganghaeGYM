{
  "nbformat": 4,
  "nbformat_minor": 0,
  "metadata": {
    "colab": {
      "name": "image_file_comparison.ipynb",
      "provenance": [],
      "collapsed_sections": []
    },
    "kernelspec": {
      "name": "python3",
      "display_name": "Python 3"
    },
    "language_info": {
      "name": "python"
    }
  },
  "cells": [
    {
      "cell_type": "code",
      "execution_count": null,
      "metadata": {
        "id": "KYUWEnGO67tY"
      },
      "outputs": [],
      "source": [
        "#폴더의 모든 사진을 불러옴 - 확인용 코드(안돌려도 됨)\n",
        "import glob\n",
        "\n",
        "file_list = []\n",
        "for filename in glob.glob('/gdrive/MyDrive/DATA0829/STAND1500/TEST/GOOD/*.jpg'): #크롭 후 사진들을 불러와 file_list에 저장\n",
        "  name_list = filename.split(\"/\")[-1]\n",
        "  #print(name_list)\n",
        "  file_list.append(name_list)"
      ]
    },
    {
      "cell_type": "code",
      "source": [
        "flag = 0\n",
        "for filename in glob.glob('/gdrive/MyDrive/DATA/STAND1500/TEST/GOOD/*.jpg'): #원본 사진들을 for문으로 돌려 해당 파일이 file_list에 없으면 출력\n",
        "  name_list = filename.split(\"/\")[-1]\n",
        "  if name_list not in file_list:\n",
        "    print(name_list)"
      ],
      "metadata": {
        "id": "30MKToMZ69K8"
      },
      "execution_count": null,
      "outputs": []
    }
  ]
}