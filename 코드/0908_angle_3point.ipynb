{
  "nbformat": 4,
  "nbformat_minor": 0,
  "metadata": {
    "colab": {
      "provenance": []
    },
    "kernelspec": {
      "name": "python3",
      "display_name": "Python 3"
    },
    "language_info": {
      "name": "python"
    }
  },
  "cells": [
    {
      "cell_type": "markdown",
      "source": [
        "#세 점 사이의 각도 구하기\n",
        "\n",
        "* 점 1과 점 2, 점 3이 있을때\n",
        "![image.png](data:image/png;base64,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)"
      ],
      "metadata": {
        "id": "vb4bR6jQNsQe"
      }
    },
    {
      "cell_type": "markdown",
      "source": [
        "double o1 = Math.atan((p1.y-p2.y)/(p1.x-p2.x));\n",
        "\n",
        "double o2 = Math.atan((p3.y-p2.y)/(p3.x-p2.x));\n",
        "\n",
        "Math.abs( (o1-o2) * 180/Math.PI );"
      ],
      "metadata": {
        "id": "NzkHGhNDOat4"
      }
    },
    {
      "cell_type": "code",
      "execution_count": null,
      "metadata": {
        "id": "Xx32PSQHNa1d"
      },
      "outputs": [],
      "source": [
        "#Rsho :  [(161, 118, 0.5368027538061142, 2)] p1\n",
        "#Rhip :  [(60, 303, 0.24337897305667866, 5)] p3\n",
        "#Rkne :  [(252, 304, 0.565594395622611, 6)] p2"
      ]
    },
    {
      "cell_type": "code",
      "source": [
        "import math.\n",
        "\n",
        "angle = math.degrees(math.atan2(118*60-161*303,161*60+118*303))"
      ],
      "metadata": {
        "id": "yijdTe4FiuwL"
      },
      "execution_count": 2,
      "outputs": []
    },
    {
      "cell_type": "code",
      "source": [
        "angle "
      ],
      "metadata": {
        "colab": {
          "base_uri": "https://localhost:8080/"
        },
        "id": "-ovyXgfTjFmA",
        "outputId": "f66f8321-5581-48d0-b680-3a4166dd8490"
      },
      "execution_count": 3,
      "outputs": [
        {
          "output_type": "execute_result",
          "data": {
            "text/plain": [
              "-42.56079560263409"
            ]
          },
          "metadata": {},
          "execution_count": 3
        }
      ]
    },
    {
      "cell_type": "code",
      "source": [
        "o1 = math.atan((118-304)/(161-252)) \n",
        "\n",
        "o2 = math.atan((303-304)/(60-252)) \n",
        "\n",
        "math.fabs( (o1-o2) * 180/math.pi )"
      ],
      "metadata": {
        "colab": {
          "base_uri": "https://localhost:8080/"
        },
        "id": "E4mpC8u-jJzU",
        "outputId": "38fd85b5-cd2e-4c56-ab64-ae75424fa733"
      },
      "execution_count": 11,
      "outputs": [
        {
          "output_type": "execute_result",
          "data": {
            "text/plain": [
              "63.63151962368445"
            ]
          },
          "metadata": {},
          "execution_count": 11
        }
      ]
    },
    {
      "cell_type": "code",
      "source": [],
      "metadata": {
        "id": "KSZRKbAFkPX1"
      },
      "execution_count": null,
      "outputs": []
    }
  ]
}