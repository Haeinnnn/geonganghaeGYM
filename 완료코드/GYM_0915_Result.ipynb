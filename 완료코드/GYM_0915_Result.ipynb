{
  "nbformat": 4,
  "nbformat_minor": 0,
  "metadata": {
    "colab": {
      "provenance": [],
      "collapsed_sections": []
    },
    "kernelspec": {
      "name": "python3",
      "display_name": "Python 3"
    },
    "language_info": {
      "name": "python"
    },
    "accelerator": "GPU"
  },
  "cells": [
    {
      "cell_type": "markdown",
      "source": [
        "# Image import \n",
        "- 방법은 총 두가지로 1) gdrive에서 제공해주는 방식(링크제공) 2)실 자료를 주는 방식 ..으로 보아야 한다."
      ],
      "metadata": {
        "id": "K5Sa_6IpftYw"
      }
    },
    {
      "cell_type": "code",
      "execution_count": 1,
      "metadata": {
        "id": "RErKmh-IfWSt",
        "colab": {
          "base_uri": "https://localhost:8080/"
        },
        "outputId": "213d1235-e266-4ebc-c03a-9f9920d8f4f3"
      },
      "outputs": [
        {
          "output_type": "stream",
          "name": "stdout",
          "text": [
            "Mounted at /content/gdrive\n"
          ]
        }
      ],
      "source": [
        "from google.colab import drive,files\n",
        "drive.mount('/content/gdrive')#드라이브 마운트"
      ]
    },
    {
      "cell_type": "code",
      "source": [
        "import matplotlib.pyplot as plt\n",
        "import os\n",
        "import pathlib#파일시스템 경로를 객체화\n",
        "import PIL#pillow모듈/ 이미지프로세싱 라이브러리\n",
        "from keras.preprocessing import image#이미지 전처리를 위해서\n",
        "\n",
        "file_path=\"/content/stand_right_289.jpg\"#원하는 이미지 입력( stand이미지 )\n",
        "p = pathlib.Path(file_path)"
      ],
      "metadata": {
        "id": "sdEmu2XQ1qvz"
      },
      "execution_count": 16,
      "outputs": []
    },
    {
      "cell_type": "code",
      "source": [
        "from tensorflow import keras\n",
        "import tensorflow as tf\n",
        "  #Img size 244*244\n",
        "#print(p)#rs - /content/stand_right_289.jpg\n",
        "img=keras.preprocessing.image.load_img(file_path)\n",
        "img_array = keras.preprocessing.image.img_to_array(img)#PIL 형식의 이미지를 Numpy배열로 변환\n",
        "img_array = tf.expand_dims(img_array, 0) # Create a batch() == 차원 추가"
      ],
      "metadata": {
        "colab": {
          "base_uri": "https://localhost:8080/"
        },
        "id": "_V41CnkW2EK5",
        "outputId": "bc3e22b2-b3df-4fef-ad4f-57e06c28f30b"
      },
      "execution_count": 4,
      "outputs": [
        {
          "output_type": "stream",
          "name": "stdout",
          "text": [
            "/content/stand_right_289.jpg\n"
          ]
        }
      ]
    },
    {
      "cell_type": "code",
      "source": [
        "from tensorflow.keras.preprocessing.image import ImageDataGenerator\n",
        "import numpy as np\n",
        "\n",
        "BATCH_SIZE = 128\n",
        "img = image.load_img(p, target_size=(224, 224))#이미지 크기 조절(244*244)\n",
        "my_image = np.array(img)#1차원 배열로 변환\n",
        "my_image = np.expand_dims(my_image , axis=0)#1열 추가\n",
        "test_ds = tf.keras.preprocessing.image_dataset_from_directory(#자세 종류 분류를 위해 사용됨(class종류와 size조정)\n",
        "    \"/content/gdrive/MyDrive/PROJECT/DATA0829/STAND1500/TEST\", #test경로\n",
        "    image_size=(224,224),\n",
        "    batch_size=128 )"
      ],
      "metadata": {
        "colab": {
          "base_uri": "https://localhost:8080/"
        },
        "id": "3KiYJkLTQfj7",
        "outputId": "282226e1-e4f2-4704-c426-28126e8b7853"
      },
      "execution_count": 10,
      "outputs": [
        {
          "output_type": "stream",
          "name": "stdout",
          "text": [
            "Found 513 files belonging to 4 classes.\n"
          ]
        }
      ]
    },
    {
      "cell_type": "code",
      "source": [
        "#print(len(my_image))#244\n",
        "#print(my_image)"
      ],
      "metadata": {
        "id": "BdBTQeKulMLU"
      },
      "execution_count": null,
      "outputs": []
    },
    {
      "cell_type": "code",
      "source": [
        "class_name=test_ds.class_names\n",
        "class_num=len(class_name)\n",
        "print(\"class name\",class_name)\n",
        "print(class_num)#확인용 코드(class 이름과 종류)\n",
        "\n",
        "for image_batch, labels_batch in test_ds:\n",
        "  print(image_batch.shape)#tensor의 형태\n",
        "  print(labels_batch.shape)#이미지 묶음 출력\n",
        "  #확인용 코드\n",
        "  #위 둘은 .numpy()를 호출하여 이를 numpy.ndarray로 변환할 수 있음\n",
        "  break"
      ],
      "metadata": {
        "colab": {
          "base_uri": "https://localhost:8080/"
        },
        "id": "cKQPcVj6Wo4S",
        "outputId": "1d2eb79e-0ba2-4081-f8bf-10cb874e552c"
      },
      "execution_count": 11,
      "outputs": [
        {
          "output_type": "stream",
          "name": "stdout",
          "text": [
            "class name ['BAD1', 'BAD2', 'BAD3', 'GOOD']\n",
            "4\n",
            "(128, 224, 224, 3)\n",
            "(128,)\n"
          ]
        }
      ]
    },
    {
      "cell_type": "code",
      "source": [
        "# from tensorflow.keras import layers\n",
        "# normalization_layer = layers.experimental.preprocessing.Rescaling(1./255)\n",
        "# normalized_ds = test_ds.map(lambda x, y: (normalization_layer(x), y))\n",
        "# image_batch, labels_batch = next(iter(normalized_ds))"
      ],
      "metadata": {
        "id": "MpTelSvrZGl6"
      },
      "execution_count": null,
      "outputs": []
    },
    {
      "cell_type": "markdown",
      "source": [
        "#import model\n",
        "- pose_best_model2가 이번에하면서 best모델 저장\n",
        "- stand model은 전체저장(about good~bad's)"
      ],
      "metadata": {
        "id": "wv3rXMIXTGOD"
      }
    },
    {
      "cell_type": "code",
      "source": [
        "import os\n",
        "import pandas as pd\n",
        "\n",
        "from tensorflow import keras\n",
        "from tensorflow.keras import optimizers\n",
        "from tensorflow.keras import models\n",
        "from tensorflow.keras import layers\n",
        "from tensorflow.keras import optimizers\n",
        "from tensorflow.keras import Sequential\n",
        "from tensorflow.keras.layers import GaussianNoise\n",
        "from tensorflow.keras.layers import Dropout, Flatten, Dense, BatchNormalization, Conv2D, MaxPooling2D, Input\n",
        "from tensorflow.keras import Model\n",
        "from tensorflow.keras.preprocessing.image import ImageDataGenerator\n",
        "from tensorflow.keras.preprocessing.image import load_img\n",
        "from tensorflow.keras.preprocessing.image import img_to_array\n",
        "from tensorflow.keras.callbacks import Callback\n",
        "from tensorflow.keras.regularizers import l1, l2, L1L2\n",
        "from keras.models import Sequential\n",
        "import time\n",
        "\n",
        "from tensorflow.keras.applications import efficientnet\n",
        "from tensorflow.keras.applications import EfficientNetB2\n",
        "\n",
        "from tensorflow.python.keras.models import load_model"
      ],
      "metadata": {
        "id": "SNL-mDmKAoia"
      },
      "execution_count": 12,
      "outputs": []
    },
    {
      "cell_type": "code",
      "source": [
        "import os\n",
        "import tensorflow as tf\n",
        "\n",
        "from tensorflow .keras. optimizers import Adam\n",
        "optimizer = Adam(learning_rate= 0.001*0.1, decay = 0.01 ) #lr\n",
        "\n",
        "model=load_model(\"/content/gdrive/MyDrive/PROJECT/DATA0829/tmp_data/pose_stand_model2.h5\",custom_objects={\"BatchNormalization\":BatchNormalization})\n",
        "#모델 전체를 불러옴\n",
        "#model.summary()"
      ],
      "metadata": {
        "id": "nzO8Y3jyTJmS"
      },
      "execution_count": 17,
      "outputs": []
    },
    {
      "cell_type": "markdown",
      "source": [
        "# IN model.. image detecting"
      ],
      "metadata": {
        "id": "NuhPrIh4gP_C"
      }
    },
    {
      "cell_type": "code",
      "source": [
        "predictions = model.predict(my_image)#이미지를 입력으로 함 / 모델로 예측을 수행\n",
        "\n",
        "score = tf.nn.softmax(predictions[0])#다양한 class의 결과에 대한 확률을 output으로 받음\n",
        "print(\n",
        "    \"This image most likely belongs to {} with a {:.2f} percent confidence.\"\n",
        "    .format(class_name[np.argmax(score)], 100 * np.max(score))\n",
        "    #배열에서 가장 높은 값을 가진 값의 인덱스를 반환 후 class_name의 값 반환 / 가장 높은 확률을 보여줌\n",
        ")"
      ],
      "metadata": {
        "colab": {
          "base_uri": "https://localhost:8080/"
        },
        "id": "hSKj4QIn9Paq",
        "outputId": "4b4a2857-baff-44f0-ab71-cc5af3a4c980"
      },
      "execution_count": 19,
      "outputs": [
        {
          "output_type": "stream",
          "name": "stdout",
          "text": [
            "predictions\n",
            "\n",
            "[[0. 0. 0. 1.]]\n",
            "This image most likely belongs to GOOD with a 47.54 percent confidence.\n"
          ]
        }
      ]
    }
  ]
}