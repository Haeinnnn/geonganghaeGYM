{
  "nbformat": 4,
  "nbformat_minor": 0,
  "metadata": {
    "colab": {
      "provenance": [],
      "collapsed_sections": []
    },
    "kernelspec": {
      "name": "python3",
      "display_name": "Python 3"
    },
    "language_info": {
      "name": "python"
    }
  },
  "cells": [
    {
      "cell_type": "markdown",
      "source": [
        "#Image Import\n",
        "\n",
        "- sit 1500 : https://drive.google.com/drive/folders/1QXV9qTLfOMZc-g7ilgqntI18SC40_zF_?usp=sharing\n",
        "![image.png](data:image/png;base64,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)\n",
        "- 드라이브에 바로가기 추가 -> 내 드라이브 -> 폴더생성(DATA) -> 생성된 폴더 안에 바로가기추가"
      ],
      "metadata": {
        "id": "q0R7FUfnLDbr"
      }
    },
    {
      "cell_type": "code",
      "execution_count": 1,
      "metadata": {
        "colab": {
          "base_uri": "https://localhost:8080/"
        },
        "id": "EYYlz51GK8jc",
        "outputId": "66a2f8e2-41d2-4e2e-c3c0-c155179ee002"
      },
      "outputs": [
        {
          "output_type": "stream",
          "name": "stdout",
          "text": [
            "Mounted at /content/gdrive\n"
          ]
        }
      ],
      "source": [
        "from google.colab import drive\n",
        "drive.mount('/content/gdrive') # 드라이브 마운트"
      ]
    },
    {
      "cell_type": "code",
      "source": [
        "%cd /content/gdrive/MyDrive/DATA/SIT1500/TRAIN\n",
        "import os\n",
        "dr= os.getcwd() #현재 위치 주소\n",
        "drD=\"\"\n",
        "drD=dr+\"/*/*.jpg\""
      ],
      "metadata": {
        "colab": {
          "base_uri": "https://localhost:8080/"
        },
        "id": "xGBMc8MAN8OR",
        "outputId": "17c5f4f5-5a8a-4fb0-d623-990a85513c98"
      },
      "execution_count": 2,
      "outputs": [
        {
          "output_type": "stream",
          "name": "stdout",
          "text": [
            "/content/gdrive/.shortcut-targets-by-id/1QXV9qTLfOMZc-g7ilgqntI18SC40_zF_/SIT1500/TRAIN\n"
          ]
        }
      ]
    },
    {
      "cell_type": "code",
      "source": [
        "pwd # 현위치 확인"
      ],
      "metadata": {
        "colab": {
          "base_uri": "https://localhost:8080/",
          "height": 36
        },
        "id": "UBKjuwXhOsDr",
        "outputId": "59d1445c-2ddb-4fab-9620-a5445242103f"
      },
      "execution_count": 3,
      "outputs": [
        {
          "output_type": "execute_result",
          "data": {
            "text/plain": [
              "'/content/gdrive/.shortcut-targets-by-id/1QXV9qTLfOMZc-g7ilgqntI18SC40_zF_/SIT1500/TRAIN'"
            ],
            "application/vnd.google.colaboratory.intrinsic+json": {
              "type": "string"
            }
          },
          "metadata": {},
          "execution_count": 3
        }
      ]
    },
    {
      "cell_type": "markdown",
      "source": [
        "##Loading library\n",
        "\n",
        "- YOLO 모델 : 영역을 표시하고 뿐만 아니라 인식된 사물이 어떤것인지 까지 알려주는 모델"
      ],
      "metadata": {
        "id": "wpmywO-oPmXe"
      }
    },
    {
      "cell_type": "code",
      "source": [
        "%cd /content/\n",
        "!git clone https://github.com/dhrim/darkeras-yolov4\n",
        "%cd darkeras-yolov4\n",
        "!wget -O weights/yolov3.weights https://pjreddie.com/media/files/yolov3.weights"
      ],
      "metadata": {
        "id": "Tko9t4L5PlH6",
        "colab": {
          "base_uri": "https://localhost:8080/"
        },
        "outputId": "75ee44ca-b890-4c72-a5da-48c58280a76d"
      },
      "execution_count": 4,
      "outputs": [
        {
          "output_type": "stream",
          "name": "stdout",
          "text": [
            "/content\n",
            "Cloning into 'darkeras-yolov4'...\n",
            "remote: Enumerating objects: 175, done.\u001b[K\n",
            "remote: Counting objects: 100% (36/36), done.\u001b[K\n",
            "remote: Compressing objects: 100% (13/13), done.\u001b[K\n",
            "remote: Total 175 (delta 27), reused 25 (delta 23), pack-reused 139\u001b[K\n",
            "Receiving objects: 100% (175/175), 8.08 MiB | 23.83 MiB/s, done.\n",
            "Resolving deltas: 100% (82/82), done.\n",
            "/content/darkeras-yolov4\n",
            "--2022-09-15 11:29:34--  https://pjreddie.com/media/files/yolov3.weights\n",
            "Resolving pjreddie.com (pjreddie.com)... 128.208.4.108\n",
            "Connecting to pjreddie.com (pjreddie.com)|128.208.4.108|:443... connected.\n",
            "HTTP request sent, awaiting response... 200 OK\n",
            "Length: 248007048 (237M) [application/octet-stream]\n",
            "Saving to: ‘weights/yolov3.weights’\n",
            "\n",
            "weights/yolov3.weig 100%[===================>] 236.52M  60.1MB/s    in 4.2s    \n",
            "\n",
            "2022-09-15 11:29:38 (56.6 MB/s) - ‘weights/yolov3.weights’ saved [248007048/248007048]\n",
            "\n"
          ]
        }
      ]
    },
    {
      "cell_type": "markdown",
      "source": [
        "##Model loading"
      ],
      "metadata": {
        "id": "OY8wYSGNQ_c9"
      }
    },
    {
      "cell_type": "code",
      "source": [
        "import yolov3_wrapper\n",
        "model = yolov3_wrapper.YoloV3Wrapper(\"weights/yolov3.weights\")\n",
        "model.save(\"yolov3.h5\")"
      ],
      "metadata": {
        "id": "quh50ZUMQ9BB",
        "colab": {
          "base_uri": "https://localhost:8080/"
        },
        "outputId": "0a2b948c-8ced-4b57-8a91-7435da9212d0"
      },
      "execution_count": 5,
      "outputs": [
        {
          "output_type": "stream",
          "name": "stderr",
          "text": [
            "WARNING:tensorflow:Compiled the loaded model, but the compiled metrics have yet to be built. `model.compile_metrics` will be empty until you train or evaluate the model.\n"
          ]
        }
      ]
    },
    {
      "cell_type": "markdown",
      "source": [
        "#Image Crop + Save crop data\n",
        "- 학습 속도가 더욱 빨라지도록 사람을 인식하고 해당되는 영역만 자름\n",
        "- 자른 데이터가 저장되도록 드라이브의 첫화면에 DATA0829/SIT1500/TRAIN/GOOD, BAD1, BAD2, BAD3 를 생성해줌"
      ],
      "metadata": {
        "id": "b0DD-OOfNYgT"
      }
    },
    {
      "cell_type": "code",
      "source": [
        "print(dr) # 현위치 확인"
      ],
      "metadata": {
        "colab": {
          "base_uri": "https://localhost:8080/"
        },
        "id": "krALWrsTUHcc",
        "outputId": "21048d0e-865a-4bc5-d6a6-a7b5e02096aa"
      },
      "execution_count": 6,
      "outputs": [
        {
          "output_type": "stream",
          "name": "stdout",
          "text": [
            "/content/gdrive/.shortcut-targets-by-id/1QXV9qTLfOMZc-g7ilgqntI18SC40_zF_/SIT1500/TRAIN\n"
          ]
        }
      ]
    },
    {
      "cell_type": "code",
      "source": [
        "import glob #glob 모듈의 glob 함수는 사용자가 제시한 조건에 맞는 파일명을 리스트 형식으로 반환한다.\n",
        "\n",
        "for filename in glob.glob(dr):\n",
        "  print(filename)\n",
        "  name_list = filename.split(\"/\")\n",
        "  print(name_list)"
      ],
      "metadata": {
        "colab": {
          "base_uri": "https://localhost:8080/"
        },
        "id": "isb8JHumVA5M",
        "outputId": "ab5d0abf-2576-4adc-baa1-fc65ee271edf"
      },
      "execution_count": 7,
      "outputs": [
        {
          "output_type": "stream",
          "name": "stdout",
          "text": [
            "/content/gdrive/.shortcut-targets-by-id/1QXV9qTLfOMZc-g7ilgqntI18SC40_zF_/SIT1500/TRAIN\n",
            "['', 'content', 'gdrive', '.shortcut-targets-by-id', '1QXV9qTLfOMZc-g7ilgqntI18SC40_zF_', 'SIT1500', 'TRAIN']\n"
          ]
        }
      ]
    },
    {
      "cell_type": "code",
      "source": [
        "print(name_list[len(name_list) - 1])\n",
        "print(drD)\n",
        "print(name_list)\n",
        "print(name_list[len(name_list) - 2])"
      ],
      "metadata": {
        "colab": {
          "base_uri": "https://localhost:8080/"
        },
        "id": "MQiq45y9YhsB",
        "outputId": "bd02c86d-7198-467e-81f2-6d7a6a00b3b1"
      },
      "execution_count": 8,
      "outputs": [
        {
          "output_type": "stream",
          "name": "stdout",
          "text": [
            "TRAIN\n",
            "/content/gdrive/.shortcut-targets-by-id/1QXV9qTLfOMZc-g7ilgqntI18SC40_zF_/SIT1500/TRAIN/*/*.jpg\n",
            "['', 'content', 'gdrive', '.shortcut-targets-by-id', '1QXV9qTLfOMZc-g7ilgqntI18SC40_zF_', 'SIT1500', 'TRAIN']\n",
            "SIT1500\n"
          ]
        }
      ]
    },
    {
      "cell_type": "code",
      "source": [
        "import cv2\n",
        "import numpy as np\n",
        "import matplotlib.pyplot as plt\n",
        "\n",
        "import glob\n",
        "import os\n",
        "\n",
        "import core\n",
        "import colorsys\n",
        "import random\n",
        "\n",
        "\n",
        "def draw_bbox(file_name1, bboxes, show_label=True):\n",
        "    Msc=[0]\n",
        "  \n",
        "    try:\n",
        "        classes = class_names #classes : 딕셔너리 가능 항목 가져옴 num:str\n",
        "    except NameError:\n",
        "        classes = core.utils.read_class_names(\"./data/classes/coco.names\")\n",
        "    num_classes = len(classes)\n",
        "    image_h, image_w, _ = file_name1.shape#이미지 크기\n",
        "\n",
        "    hsv_tuples = [(1.0 * x / num_classes, 1., 1.) for x in range(num_classes)]\n",
        "    colors = list(map(lambda x: colorsys.hsv_to_rgb(*x), hsv_tuples))\n",
        "    colors = list(map(lambda x: (int(x[0] * 255), int(x[1] * 255), int(x[2] * 255)), colors))\n",
        "\n",
        "    random.seed(0)\n",
        "    random.shuffle(colors)\n",
        "    random.seed(None)\n",
        "\n",
        "    for i, bbox in enumerate(bboxes):#indexing(count, list v)\n",
        "        coor = np.array(bbox[:4], dtype=np.int32)\n",
        "        \n",
        "        fontScale = 0.5\n",
        "        score = bbox[4]\n",
        "        Msc=np.append(Msc,score)\n",
        "        class_ind = int(bbox[5])\n",
        "\n",
        "        if classes[class_ind] in \"person\" :\n",
        "          if score>=np.max(Msc):\n",
        "            bbox_color = colors[class_ind]\n",
        "            bbox_thick = int(0.5 * (image_h + image_w) / 600)\n",
        "            c1, c2 = (coor[0], coor[1]), (coor[2], coor[3]) \n",
        "            print(c1,\"/\",c2)\n",
        "            cv2.rectangle(file_name1, c1, c2, bbox_color, bbox_thick)\n",
        "            score=np.max(Msc)\n",
        "            print('%s'%classes[class_ind],\"SC\",score)\n",
        "            bbox_mess = '%s: %.2f' % (classes[class_ind], score)#출력되는 text\n",
        "            t_size = cv2.getTextSize(bbox_mess, 0, fontScale, thickness=bbox_thick//2)[0]\n",
        "\n",
        "            c1_1= (c1[0] + t_size[0], c1[1] - t_size[1] - 3)\n",
        "            PP=file_name1[c1[1]:c2[1],c1[0]:c2[0]]\n",
        "\n",
        "            cv2.rectangle(file_name1,c1, (c1[0] + t_size[0], c1[1] - t_size[1] - 3-100), bbox_color,0)  # filled#labeling2\n",
        "            #이미지S 파일,시작점(x,y),종료점(x,y)\n",
        "            PP = cv2.cvtColor(PP, cv2.COLOR_RGB2BGR) # 색상 변경 # ▽ 저장할 임의의 폴더 생성 (train안에 good, bad가 있어야 함)\n",
        "            cv2.imwrite(\"/content/gdrive/MyDrive/DATA0829/SIT1500/TRAIN/\" +name_list[len(name_list) - 2]+\"/\"+ name_list[len(name_list) - 1], PP) # 사람 부분만 이미지 추출 #자기의 tmp 폴더에 good 폴더 미리 생성 \n",
        "    return file_name1"
      ],
      "metadata": {
        "id": "qrstlraGREVh"
      },
      "execution_count": 11,
      "outputs": []
    },
    {
      "cell_type": "code",
      "source": [
        "for file_name in glob.glob(drD):  # \"현 디렉터리\"의 모든 사진들을 불러옴\n",
        "  print(file_name)\n",
        "  name_list = file_name.split(\"/\")\n",
        "  new_filename = name_list[len(name_list) - 1] # 사진 파일 이름을 new_filename에 저장\n",
        "  INPUT_SIZE = 800\n",
        "\n",
        "  image_path = file_name\n",
        "  file_name = cv2.imread(image_path)#이미지 파일 경로\n",
        "  file_name = cv2.cvtColor(file_name, cv2.COLOR_BGR2RGB)#입력 이미지,색상 변환 코드\n",
        "\n",
        "  plt.figure(figsize=(12,20))\n",
        "  plt.imshow(file_name)\n",
        "  plt.show()\n",
        "\n",
        "  #2\n",
        "  bboxes = model.predict(file_name)#keras코드에서 boundary box로 bounding 됨\n",
        "\n",
        "  #3\n",
        "  dummy = np.copy(file_name)\n",
        "  print(bboxes)\n",
        "  for box in bboxes:\n",
        "    x1, y1, x2, y2 = int(box[0]), int(box[1]), int(box[2]), int(box[3])\n",
        "    conf = box[4]\n",
        "    cls_id = int(box[5])\n",
        "    dummy = cv2.rectangle(dummy, (x1,y1), (x2,y2), (255,0,0), 2)#빨간색, 선의 두께는 2\n",
        "\n",
        "  plt.figure(figsize=(12,20))#(그래프 가로, 세로)\n",
        "  file_name = draw_bbox(file_name, bboxes)\n",
        "print(\"\\nALL DONE\")\n",
        "  "
      ],
      "metadata": {
        "id": "vQmvuKA7ZS1X"
      },
      "execution_count": null,
      "outputs": []
    },
    {
      "cell_type": "markdown",
      "source": [
        "#DEEP LEARNING(CNN)\n",
        "\n",
        "- vanilla cnn을 사용, 가장 기본적으로 사용되는 방식\n",
        "- 위에서 잘려서 저장된 sit 이미지 : https://drive.google.com/drive/folders/1mBl2qBTOg4e7XMVVynWwQDGAX18MgUDb?usp=sharing\n",
        "![image.png](data:image/png;base64,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)\n",
        "- 드라이브에 바로가기 추가 -> 내 드라이브 -> 폴더생성(DATA0829) -> 생성된 폴더 안에 바로가기추가"
      ],
      "metadata": {
        "id": "J169Mn5lwKQ7"
      }
    },
    {
      "cell_type": "markdown",
      "source": [
        "##Module importing"
      ],
      "metadata": {
        "id": "Aogk90XlJuye"
      }
    },
    {
      "cell_type": "code",
      "source": [
        "import os\n",
        "import pandas as pd\n",
        "import matplotlib.pyplot as plt\n",
        "import numpy as np\n",
        "\n",
        "from tensorflow import keras\n",
        "from tensorflow.keras import optimizers\n",
        "from tensorflow.keras import models\n",
        "from tensorflow.keras import layers\n",
        "from tensorflow.keras import optimizers\n",
        "from tensorflow.keras import Sequential\n",
        "from tensorflow.keras.layers import GaussianNoise\n",
        "from tensorflow.keras.layers import Dropout, Flatten, Dense, BatchNormalization, Conv2D, MaxPooling2D, Input\n",
        "from tensorflow.keras import Model\n",
        "from tensorflow.keras.preprocessing.image import ImageDataGenerator\n",
        "from tensorflow.keras.preprocessing.image import load_img\n",
        "from tensorflow.keras.preprocessing.image import img_to_array\n",
        "from tensorflow.keras.callbacks import Callback\n",
        "from tensorflow.keras.regularizers import l1, l2, L1L2\n",
        "import time\n",
        "\n",
        "\n",
        "from tensorflow.keras.applications import efficientnet\n",
        "from tensorflow.keras.applications import EfficientNetB2\n",
        "import tensorflow as tf\n",
        "\n",
        "\n",
        "\n"
      ],
      "metadata": {
        "id": "MYUpPu5jwJpY"
      },
      "execution_count": 13,
      "outputs": []
    },
    {
      "cell_type": "code",
      "source": [
        "\n",
        "model = keras.Sequential()\n",
        "model.add(Input((224,224,3)))\n",
        "model.add(Conv2D(64, (3,3), padding='same'))\n",
        "model.add(Conv2D(64, (3,3), padding='same'))\n",
        "model.add(BatchNormalization())\n",
        "model.add(MaxPooling2D())\n",
        "model.add(Conv2D(128, (3,3), padding='same'))\n",
        "model.add(Conv2D(128, (3,3), padding='same'))\n",
        "model.add(BatchNormalization())\n",
        "model.add(MaxPooling2D())\n",
        "model.add(Conv2D(256, (3,3), padding='same'))\n",
        "model.add(Conv2D(256, (3,3), padding='same'))\n",
        "model.add(BatchNormalization())\n",
        "model.add(MaxPooling2D())\n",
        "model.add(Conv2D(512, (3,3), padding='same'))\n",
        "model.add(Conv2D(512, (3,3), padding='same'))\n",
        "model.add(Conv2D(512, (3,3), padding='same'))\n",
        "model.add(BatchNormalization())\n",
        "model.add(MaxPooling2D())\n",
        "model.add(Conv2D(512, (3,3), padding='same'))\n",
        "model.add(Conv2D(512, (3,3), padding='same'))\n",
        "model.add(Conv2D(512, (3,3), padding='same'))\n",
        "model.add(BatchNormalization())\n",
        "model.add(MaxPooling2D())\n",
        "model.add(Flatten())\n",
        "model.add(Dense(64, activation='relu',kernel_regularizer=l2()))\n",
        "model.add(BatchNormalization())\n",
        "model.add(Dropout(0.2))\n",
        "model.add(Dense(64, activation='relu'))\n",
        "model.add(BatchNormalization())\n",
        "model.add(Dropout(0.2))\n",
        "model.add(Dense(1, activation='sigmoid'))"
      ],
      "metadata": {
        "id": "1g4MR_hMwocy"
      },
      "execution_count": 14,
      "outputs": []
    },
    {
      "cell_type": "code",
      "source": [
        "#실시간loss그래프\n",
        "from IPython.display import clear_output\n",
        "from tensorflow.keras.callbacks import Callback\n",
        "\n",
        "class PlotLosses(Callback):\n",
        "\n",
        "  def on_train_begin(self, logs={}):\n",
        "    self.epochs = []\n",
        "    self.losses = []\n",
        "    self.val_losses = []\n",
        "    self.logs = []\n",
        "    self.fig = plt.figure()\n",
        "\n",
        "\n",
        "  def on_epoch_end(self, epoch, logs={}):\n",
        "\n",
        "    self.epochs.append(epoch)\n",
        "    self.losses.append(logs.get('loss'))\n",
        "    self.val_losses.append(logs.get('val_loss'))\n",
        "\n",
        "    clear_output(wait=True)\n",
        "    plt.plot(self.epochs, self.losses, label=\"loss\")\n",
        "    plt.plot(self.epochs, self.val_losses, label=\"val_loss\")\n",
        "    plt.legend()\n",
        "    plt.show();\n",
        "    print(\"loss = \", self.losses[-1], \", val_loss = \", self.val_losses[-1])"
      ],
      "metadata": {
        "id": "JYYYKKMX7Qz4"
      },
      "execution_count": 15,
      "outputs": []
    },
    {
      "cell_type": "code",
      "source": [
        "plot_losses = PlotLosses()"
      ],
      "metadata": {
        "id": "8wLo5Ge5KErI"
      },
      "execution_count": 16,
      "outputs": []
    },
    {
      "cell_type": "markdown",
      "source": [
        "##Learning"
      ],
      "metadata": {
        "id": "fsYxgd4JKGxH"
      }
    },
    {
      "cell_type": "code",
      "source": [
        "#다중분류\n",
        "\n",
        "from tensorflow .keras. optimizers import Adam\n",
        "optimizer = Adam(learning_rate= 0.001*0.1, decay = 0.01 ) #lr\n",
        "model.compile(loss='sparse_categorical_crossentropy', optimizer=optimizer, metrics=['acc'])\n",
        "model.summary()\n",
        "\n",
        "def normalize(image):\n",
        "  return image/255.0\n",
        "\n",
        "preprocessor = normalize\n",
        "BATCH_SIZE = 128\n",
        "\n",
        "train_data_generator = ImageDataGenerator(\n",
        "      # rotation_range=10,\n",
        "      rotation_range=4, #bad1~3,good 4개\n",
        "      width_shift_range=0.1,\n",
        "      height_shift_range=0.1,\n",
        "      horizontal_flip=True,\n",
        "      vertical_flip=False,\n",
        "      preprocessing_function=preprocessor\n",
        ").flow_from_directory(\n",
        "      \"/content/gdrive/MyDrive/DATA0829/SIT1500/TRAIN\",#학습시킬 경로\n",
        "      target_size=(224,224),\n",
        "      batch_size=BATCH_SIZE,\n",
        "      class_mode='sparse'\n",
        ")\n",
        "\n",
        "test_data_generator = ImageDataGenerator(\n",
        "      preprocessing_function=preprocessor\n",
        ").flow_from_directory(\n",
        "      \"/content/gdrive/MyDrive/DATA0829/SIT1500/TEST\", #test경로\n",
        "      target_size=(224,224),\n",
        "      batch_size=BATCH_SIZE,\n",
        "      class_mode='sparse'\n",
        ")\n",
        "\n"
      ],
      "metadata": {
        "colab": {
          "base_uri": "https://localhost:8080/"
        },
        "id": "6ngbr7ChKHRW",
        "outputId": "0d829e66-aa79-4dfe-e19f-b51c46259c10"
      },
      "execution_count": 17,
      "outputs": [
        {
          "output_type": "stream",
          "name": "stdout",
          "text": [
            "Model: \"sequential\"\n",
            "_________________________________________________________________\n",
            " Layer (type)                Output Shape              Param #   \n",
            "=================================================================\n",
            " conv2d_75 (Conv2D)          (None, 224, 224, 64)      1792      \n",
            "                                                                 \n",
            " conv2d_76 (Conv2D)          (None, 224, 224, 64)      36928     \n",
            "                                                                 \n",
            " batch_normalization_72 (Bat  (None, 224, 224, 64)     256       \n",
            " chNormalization)                                                \n",
            "                                                                 \n",
            " max_pooling2d (MaxPooling2D  (None, 112, 112, 64)     0         \n",
            " )                                                               \n",
            "                                                                 \n",
            " conv2d_77 (Conv2D)          (None, 112, 112, 128)     73856     \n",
            "                                                                 \n",
            " conv2d_78 (Conv2D)          (None, 112, 112, 128)     147584    \n",
            "                                                                 \n",
            " batch_normalization_73 (Bat  (None, 112, 112, 128)    512       \n",
            " chNormalization)                                                \n",
            "                                                                 \n",
            " max_pooling2d_1 (MaxPooling  (None, 56, 56, 128)      0         \n",
            " 2D)                                                             \n",
            "                                                                 \n",
            " conv2d_79 (Conv2D)          (None, 56, 56, 256)       295168    \n",
            "                                                                 \n",
            " conv2d_80 (Conv2D)          (None, 56, 56, 256)       590080    \n",
            "                                                                 \n",
            " batch_normalization_74 (Bat  (None, 56, 56, 256)      1024      \n",
            " chNormalization)                                                \n",
            "                                                                 \n",
            " max_pooling2d_2 (MaxPooling  (None, 28, 28, 256)      0         \n",
            " 2D)                                                             \n",
            "                                                                 \n",
            " conv2d_81 (Conv2D)          (None, 28, 28, 512)       1180160   \n",
            "                                                                 \n",
            " conv2d_82 (Conv2D)          (None, 28, 28, 512)       2359808   \n",
            "                                                                 \n",
            " conv2d_83 (Conv2D)          (None, 28, 28, 512)       2359808   \n",
            "                                                                 \n",
            " batch_normalization_75 (Bat  (None, 28, 28, 512)      2048      \n",
            " chNormalization)                                                \n",
            "                                                                 \n",
            " max_pooling2d_3 (MaxPooling  (None, 14, 14, 512)      0         \n",
            " 2D)                                                             \n",
            "                                                                 \n",
            " conv2d_84 (Conv2D)          (None, 14, 14, 512)       2359808   \n",
            "                                                                 \n",
            " conv2d_85 (Conv2D)          (None, 14, 14, 512)       2359808   \n",
            "                                                                 \n",
            " conv2d_86 (Conv2D)          (None, 14, 14, 512)       2359808   \n",
            "                                                                 \n",
            " batch_normalization_76 (Bat  (None, 14, 14, 512)      2048      \n",
            " chNormalization)                                                \n",
            "                                                                 \n",
            " max_pooling2d_4 (MaxPooling  (None, 7, 7, 512)        0         \n",
            " 2D)                                                             \n",
            "                                                                 \n",
            " flatten (Flatten)           (None, 25088)             0         \n",
            "                                                                 \n",
            " dense (Dense)               (None, 64)                1605696   \n",
            "                                                                 \n",
            " batch_normalization_77 (Bat  (None, 64)               256       \n",
            " chNormalization)                                                \n",
            "                                                                 \n",
            " dropout (Dropout)           (None, 64)                0         \n",
            "                                                                 \n",
            " dense_1 (Dense)             (None, 64)                4160      \n",
            "                                                                 \n",
            " batch_normalization_78 (Bat  (None, 64)               256       \n",
            " chNormalization)                                                \n",
            "                                                                 \n",
            " dropout_1 (Dropout)         (None, 64)                0         \n",
            "                                                                 \n",
            " dense_2 (Dense)             (None, 1)                 65        \n",
            "                                                                 \n",
            "=================================================================\n",
            "Total params: 15,740,929\n",
            "Trainable params: 15,737,729\n",
            "Non-trainable params: 3,200\n",
            "_________________________________________________________________\n",
            "Found 1711 images belonging to 3 classes.\n",
            "Found 429 images belonging to 3 classes.\n"
          ]
        }
      ]
    },
    {
      "cell_type": "code",
      "source": [
        "from tensorflow.keras.callbacks import ModelCheckpoint\n",
        "model_check_point = ModelCheckpoint(\n",
        "    'pose_best_model.h5', \n",
        "    monitor='val_loss', \n",
        "    verbose=1, \n",
        "    save_best_only=True)\n",
        "#모델체크포인트\n",
        "\n",
        "'''\n",
        "tf.keras.callbacks.ModelCheckpoint(\n",
        "    filepath, monitor='val_loss', verbose=0, save_best_only=False,\n",
        "    save_weights_only=False, mode='auto', save_freq='epoch', options=None, **kwargs\n",
        ")\n",
        "'''\n",
        "\n"
      ],
      "metadata": {
        "colab": {
          "base_uri": "https://localhost:8080/",
          "height": 54
        },
        "id": "Mn9b1RXVKVn6",
        "outputId": "09b5c045-b5a4-4b7b-c953-60dcbcbb678a"
      },
      "execution_count": 18,
      "outputs": [
        {
          "output_type": "execute_result",
          "data": {
            "text/plain": [
              "\"\\ntf.keras.callbacks.ModelCheckpoint(\\n    filepath, monitor='val_loss', verbose=0, save_best_only=False,\\n    save_weights_only=False, mode='auto', save_freq='epoch', options=None, **kwargs\\n)\\n\""
            ],
            "application/vnd.google.colaboratory.intrinsic+json": {
              "type": "string"
            }
          },
          "metadata": {},
          "execution_count": 18
        }
      ]
    },
    {
      "cell_type": "code",
      "source": [
        "history = model.fit(\n",
        "      train_data_generator,\n",
        "      validation_data=test_data_generator,\n",
        "      steps_per_epoch=train_data_generator.samples/BATCH_SIZE,\n",
        "      validation_steps=test_data_generator.samples/BATCH_SIZE,      \n",
        "      epochs=100, callbacks=[model_check_point,plot_losses]\n",
        ")\n",
        "\n",
        "plt.plot(history.history['loss'], label='train_loss')\n",
        "plt.plot(history.history['val_loss'], label='val_loss')\n",
        "plt.legend()\n",
        "plt.show()\n",
        "\n",
        "test_x, test_y = next(iter(test_data_generator))\n",
        "y_ = model.predict(test_x)\n",
        "predicted = np.argmax(y_, axis=-1)\n",
        "\n",
        "plt.plot(test_y[:100], \"o\")\n",
        "plt.plot(predicted[:100], '.')\n",
        "plt.show()\n"
      ],
      "metadata": {
        "id": "ZNKwAXqZKY46"
      },
      "execution_count": null,
      "outputs": []
    }
  ]
}