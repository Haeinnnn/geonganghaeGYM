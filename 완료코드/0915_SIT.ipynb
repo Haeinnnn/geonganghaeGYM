{
  "nbformat": 4,
  "nbformat_minor": 0,
  "metadata": {
    "colab": {
      "provenance": [],
      "collapsed_sections": [],
      "toc_visible": true
    },
    "kernelspec": {
      "name": "python3",
      "display_name": "Python 3"
    },
    "language_info": {
      "name": "python"
    }
  },
  "cells": [
    {
      "cell_type": "markdown",
      "source": [
        "#Image Import\n",
        "\n",
        "- sit 1500 : https://drive.google.com/drive/folders/1QXV9qTLfOMZc-g7ilgqntI18SC40_zF_?usp=sharing\n",
        "- 파일을 누른 뒤 구글 드라이브에 바로가기 추가 -> 내 드라이브 -> 폴더생성(Data) -> 생성된 Data 폴더 안에 바로가기추가"
      ],
      "metadata": {
        "id": "q0R7FUfnLDbr"
      }
    },
    {
      "cell_type": "code",
      "execution_count": 1,
      "metadata": {
        "colab": {
          "base_uri": "https://localhost:8080/"
        },
        "id": "EYYlz51GK8jc",
        "outputId": "e7544830-5279-4700-9593-53cdcecccd80"
      },
      "outputs": [
        {
          "output_type": "stream",
          "name": "stdout",
          "text": [
            "Mounted at /content/gdrive\n"
          ]
        }
      ],
      "source": [
        "from google.colab import drive\n",
        "drive.mount('/content/gdrive') # 드라이브 마운트"
      ]
    },
    {
      "cell_type": "code",
      "source": [
        "%cd /content/gdrive/MyDrive/DATA/SIT1500/TRAIN\n",
        "import os\n",
        "dr= os.getcwd() #현재 위치 주소\n",
        "drD=\"\"\n",
        "drD=dr+\"/*/*.jpg\""
      ],
      "metadata": {
        "colab": {
          "base_uri": "https://localhost:8080/"
        },
        "id": "xGBMc8MAN8OR",
        "outputId": "62b7394a-dd0c-458f-cecc-0d10e8f39591"
      },
      "execution_count": 2,
      "outputs": [
        {
          "output_type": "stream",
          "name": "stdout",
          "text": [
            "/content/gdrive/.shortcut-targets-by-id/1zaWNDIbEB7mz9mfiWjgvZ9_Vanr9-sSZ/DATA/SIT1500/TRAIN\n"
          ]
        }
      ]
    },
    {
      "cell_type": "code",
      "source": [
        "pwd # 현위치 확인"
      ],
      "metadata": {
        "colab": {
          "base_uri": "https://localhost:8080/",
          "height": 36
        },
        "id": "UBKjuwXhOsDr",
        "outputId": "65b3937f-4766-4f06-90c0-c61eeb20e0d0"
      },
      "execution_count": 3,
      "outputs": [
        {
          "output_type": "execute_result",
          "data": {
            "text/plain": [
              "'/content/gdrive/.shortcut-targets-by-id/1zaWNDIbEB7mz9mfiWjgvZ9_Vanr9-sSZ/DATA/SIT1500/TRAIN'"
            ],
            "application/vnd.google.colaboratory.intrinsic+json": {
              "type": "string"
            }
          },
          "metadata": {},
          "execution_count": 3
        }
      ]
    },
    {
      "cell_type": "markdown",
      "source": [
        "##Loading library\n",
        "\n",
        "- YOLO 모델 : 영역을 표시하고 뿐만 아니라 인식된 사물이 어떤것인지 까지 알려주는 모델"
      ],
      "metadata": {
        "id": "wpmywO-oPmXe"
      }
    },
    {
      "cell_type": "code",
      "source": [
        "%cd /content/\n",
        "!git clone https://github.com/dhrim/darkeras-yolov4\n",
        "%cd darkeras-yolov4\n",
        "!wget -O weights/yolov3.weights https://pjreddie.com/media/files/yolov3.weights"
      ],
      "metadata": {
        "id": "Tko9t4L5PlH6",
        "colab": {
          "base_uri": "https://localhost:8080/"
        },
        "outputId": "a02be91d-b3f2-4a5d-c50a-007e35998ae6"
      },
      "execution_count": 4,
      "outputs": [
        {
          "output_type": "stream",
          "name": "stdout",
          "text": [
            "/content\n",
            "Cloning into 'darkeras-yolov4'...\n",
            "remote: Enumerating objects: 175, done.\u001b[K\n",
            "remote: Counting objects: 100% (36/36), done.\u001b[K\n",
            "remote: Compressing objects: 100% (13/13), done.\u001b[K\n",
            "remote: Total 175 (delta 27), reused 25 (delta 23), pack-reused 139\u001b[K\n",
            "Receiving objects: 100% (175/175), 8.08 MiB | 30.51 MiB/s, done.\n",
            "Resolving deltas: 100% (82/82), done.\n",
            "/content/darkeras-yolov4\n",
            "--2022-09-15 08:23:24--  https://pjreddie.com/media/files/yolov3.weights\n",
            "Resolving pjreddie.com (pjreddie.com)... 128.208.4.108\n",
            "Connecting to pjreddie.com (pjreddie.com)|128.208.4.108|:443... connected.\n",
            "HTTP request sent, awaiting response... 200 OK\n",
            "Length: 248007048 (237M) [application/octet-stream]\n",
            "Saving to: ‘weights/yolov3.weights’\n",
            "\n",
            "weights/yolov3.weig 100%[===================>] 236.52M   104MB/s    in 2.3s    \n",
            "\n",
            "2022-09-15 08:23:26 (104 MB/s) - ‘weights/yolov3.weights’ saved [248007048/248007048]\n",
            "\n"
          ]
        }
      ]
    },
    {
      "cell_type": "markdown",
      "source": [
        "##Model loading"
      ],
      "metadata": {
        "id": "OY8wYSGNQ_c9"
      }
    },
    {
      "cell_type": "code",
      "source": [
        "import yolov3_wrapper\n",
        "model = yolov3_wrapper.YoloV3Wrapper(\"weights/yolov3.weights\")\n",
        "model.save(\"yolov3.h5\")"
      ],
      "metadata": {
        "id": "quh50ZUMQ9BB",
        "colab": {
          "base_uri": "https://localhost:8080/"
        },
        "outputId": "923932ef-14ef-4a15-8a04-b2f340098413"
      },
      "execution_count": 5,
      "outputs": [
        {
          "output_type": "stream",
          "name": "stderr",
          "text": [
            "WARNING:tensorflow:Compiled the loaded model, but the compiled metrics have yet to be built. `model.compile_metrics` will be empty until you train or evaluate the model.\n"
          ]
        }
      ]
    },
    {
      "cell_type": "markdown",
      "source": [
        "#Image Crop + Save crop data\n",
        "- 학습 속도가 더욱 빨라지도록 사람을 인식하고 해당되는 영역만 자름"
      ],
      "metadata": {
        "id": "b0DD-OOfNYgT"
      }
    },
    {
      "cell_type": "code",
      "source": [
        "print(dr) # 현위치 확인"
      ],
      "metadata": {
        "colab": {
          "base_uri": "https://localhost:8080/"
        },
        "id": "krALWrsTUHcc",
        "outputId": "fc03eb8d-d927-4bc5-85f0-558d00815a07"
      },
      "execution_count": 6,
      "outputs": [
        {
          "output_type": "stream",
          "name": "stdout",
          "text": [
            "/content/gdrive/.shortcut-targets-by-id/1zaWNDIbEB7mz9mfiWjgvZ9_Vanr9-sSZ/DATA/SIT1500/TRAIN\n"
          ]
        }
      ]
    },
    {
      "cell_type": "code",
      "source": [
        "import glob #glob 모듈의 glob 함수는 사용자가 제시한 조건에 맞는 파일명을 리스트 형식으로 반환한다.\n",
        "\n",
        "for filename in glob.glob(dr):\n",
        "  print(filename)\n",
        "  name_list = filename.split(\"/\")\n",
        "  print(name_list)"
      ],
      "metadata": {
        "colab": {
          "base_uri": "https://localhost:8080/"
        },
        "id": "isb8JHumVA5M",
        "outputId": "3880d78c-36d6-4326-a3cf-b7a9164eb9ef"
      },
      "execution_count": 7,
      "outputs": [
        {
          "output_type": "stream",
          "name": "stdout",
          "text": [
            "/content/gdrive/.shortcut-targets-by-id/1zaWNDIbEB7mz9mfiWjgvZ9_Vanr9-sSZ/DATA/SIT1500/TRAIN\n",
            "['', 'content', 'gdrive', '.shortcut-targets-by-id', '1zaWNDIbEB7mz9mfiWjgvZ9_Vanr9-sSZ', 'DATA', 'SIT1500', 'TRAIN']\n"
          ]
        }
      ]
    },
    {
      "cell_type": "code",
      "source": [
        "print(name_list[len(name_list) - 1])\n",
        "print(drD)\n",
        "print(name_list)\n",
        "print(name_list[len(name_list) - 2])"
      ],
      "metadata": {
        "colab": {
          "base_uri": "https://localhost:8080/"
        },
        "id": "MQiq45y9YhsB",
        "outputId": "d4e8980a-acda-4e73-8bc5-9cbc0afd6dc1"
      },
      "execution_count": 8,
      "outputs": [
        {
          "output_type": "stream",
          "name": "stdout",
          "text": [
            "TRAIN\n",
            "/content/gdrive/.shortcut-targets-by-id/1zaWNDIbEB7mz9mfiWjgvZ9_Vanr9-sSZ/DATA/SIT1500/TRAIN/*/*.jpg\n",
            "['', 'content', 'gdrive', '.shortcut-targets-by-id', '1zaWNDIbEB7mz9mfiWjgvZ9_Vanr9-sSZ', 'DATA', 'SIT1500', 'TRAIN']\n",
            "SIT1500\n"
          ]
        }
      ]
    },
    {
      "cell_type": "code",
      "source": [
        "import cv2\n",
        "import numpy as np\n",
        "import matplotlib.pyplot as plt\n",
        "\n",
        "import glob\n",
        "import os\n",
        "\n",
        "import core\n",
        "import colorsys\n",
        "import random\n",
        "\n",
        "\n",
        "def draw_bbox(file_name1, bboxes, show_label=True):\n",
        "    Msc=[0]\n",
        "  \n",
        "    try:\n",
        "        classes = class_names #classes : 딕셔너리 가능 항목 가져옴 num:str\n",
        "    except NameError:\n",
        "        classes = core.utils.read_class_names(\"./data/classes/coco.names\")\n",
        "    num_classes = len(classes)\n",
        "    image_h, image_w, _ = file_name1.shape#이미지 크기\n",
        "\n",
        "    hsv_tuples = [(1.0 * x / num_classes, 1., 1.) for x in range(num_classes)]\n",
        "    colors = list(map(lambda x: colorsys.hsv_to_rgb(*x), hsv_tuples))\n",
        "    colors = list(map(lambda x: (int(x[0] * 255), int(x[1] * 255), int(x[2] * 255)), colors))\n",
        "\n",
        "    random.seed(0)\n",
        "    random.shuffle(colors)\n",
        "    random.seed(None)\n",
        "\n",
        "    for i, bbox in enumerate(bboxes):#indexing(count, list v)\n",
        "        coor = np.array(bbox[:4], dtype=np.int32)\n",
        "        \n",
        "        fontScale = 0.5\n",
        "        score = bbox[4]\n",
        "        Msc=np.append(Msc,score)\n",
        "        class_ind = int(bbox[5])\n",
        "\n",
        "        if classes[class_ind] in \"person\" :\n",
        "          if score>=np.max(Msc):\n",
        "            bbox_color = colors[class_ind]\n",
        "            bbox_thick = int(0.5 * (image_h + image_w) / 600)\n",
        "            c1, c2 = (coor[0], coor[1]), (coor[2], coor[3]) \n",
        "            print(c1,\"/\",c2)\n",
        "            cv2.rectangle(file_name1, c1, c2, bbox_color, bbox_thick)\n",
        "            score=np.max(Msc)\n",
        "            print('%s'%classes[class_ind],\"SC\",score)\n",
        "            bbox_mess = '%s: %.2f' % (classes[class_ind], score)#출력되는 text\n",
        "            t_size = cv2.getTextSize(bbox_mess, 0, fontScale, thickness=bbox_thick//2)[0]\n",
        "\n",
        "            c1_1= (c1[0] + t_size[0], c1[1] - t_size[1] - 3)\n",
        "            PP=file_name1[c1[1]:c2[1],c1[0]:c2[0]]\n",
        "\n",
        "            cv2.rectangle(file_name1,c1, (c1[0] + t_size[0], c1[1] - t_size[1] - 3-100), bbox_color,0)  # filled#labeling2\n",
        "            #이미지S 파일,시작점(x,y),종료점(x,y)\n",
        "            PP = cv2.cvtColor(PP, cv2.COLOR_RGB2BGR) # 색상 변경 # ▽ 저장할 임의의 폴더 생성 (train안에 good, bad가 있어야 함)\n",
        "            cv2.imwrite(\"/content/gdrive/MyDrive/PROJECT/DATA0826/SIT/TRAIN/\" +name_list[len(name_list) - 2]+\"/\"+ name_list[len(name_list) - 1], PP) # 사람 부분만 이미지 추출 #자기의 tmp 폴더에 good 폴더 미리 생성 \n",
        "    return file_name1"
      ],
      "metadata": {
        "id": "qrstlraGREVh"
      },
      "execution_count": 9,
      "outputs": []
    },
    {
      "cell_type": "code",
      "source": [
        "for file_name in glob.glob(drD):  # \"현 디렉터리\"의 모든 사진들을 불러옴\n",
        "  print(file_name)\n",
        "  name_list = file_name.split(\"/\")\n",
        "  new_filename = name_list[len(name_list) - 1] # 사진 파일 이름을 new_filename에 저장\n",
        "  INPUT_SIZE = 800\n",
        "\n",
        "  image_path = file_name\n",
        "  file_name = cv2.imread(image_path)#이미지 파일 경로\n",
        "  file_name = cv2.cvtColor(file_name, cv2.COLOR_BGR2RGB)#입력 이미지,색상 변환 코드\n",
        "\n",
        "  plt.figure(figsize=(12,20))\n",
        "  plt.imshow(file_name)\n",
        "  plt.show()\n",
        "\n",
        "  #2\n",
        "  bboxes = model.predict(file_name)#keras코드에서 boundary box로 bounding 됨\n",
        "\n",
        "  #3\n",
        "  dummy = np.copy(file_name)\n",
        "  print(bboxes)\n",
        "  for box in bboxes:\n",
        "    x1, y1, x2, y2 = int(box[0]), int(box[1]), int(box[2]), int(box[3])\n",
        "    conf = box[4]\n",
        "    cls_id = int(box[5])\n",
        "    dummy = cv2.rectangle(dummy, (x1,y1), (x2,y2), (255,0,0), 2)#빨간색, 선의 두께는 2\n",
        "\n",
        "  plt.figure(figsize=(12,20))#(그래프 가로, 세로)\n",
        "  file_name = draw_bbox(file_name, bboxes)\n",
        "print(\"\\nALL DONE\")\n",
        "  "
      ],
      "metadata": {
        "id": "vQmvuKA7ZS1X"
      },
      "execution_count": null,
      "outputs": []
    },
    {
      "cell_type": "markdown",
      "source": [
        "#DEEP LEARNING(CNN)\n",
        "\n",
        "- vanilla cnn을 사용, 가장 기본적으로 사용되는 방식\n",
        "- 위에서 잘려서 저장된 stnad 이미지 : https://drive.google.com/drive/folders/1mBl2qBTOg4e7XMVVynWwQDGAX18MgUDb?usp=sharing\n",
        "- 파일을 누른 뒤 구글 드라이브에 바로가기 추가 -> 내 드라이브 -> 폴더생성(Data0829) -> 생성된 Data0829 폴더 안에 바로가기추가"
      ],
      "metadata": {
        "id": "J169Mn5lwKQ7"
      }
    },
    {
      "cell_type": "markdown",
      "source": [
        "##Module importing"
      ],
      "metadata": {
        "id": "Aogk90XlJuye"
      }
    },
    {
      "cell_type": "code",
      "source": [
        "import os\n",
        "import pandas as pd\n",
        "import matplotlib.pyplot as plt\n",
        "import numpy as np\n",
        "\n",
        "from tensorflow import keras\n",
        "from tensorflow.keras import optimizers\n",
        "from tensorflow.keras import models\n",
        "from tensorflow.keras import layers\n",
        "from tensorflow.keras import optimizers\n",
        "from tensorflow.keras import Sequential\n",
        "from tensorflow.keras.layers import GaussianNoise\n",
        "from tensorflow.keras.layers import Dropout, Flatten, Dense, BatchNormalization, Conv2D, MaxPooling2D, Input\n",
        "from tensorflow.keras import Model\n",
        "from tensorflow.keras.preprocessing.image import ImageDataGenerator\n",
        "from tensorflow.keras.preprocessing.image import load_img\n",
        "from tensorflow.keras.preprocessing.image import img_to_array\n",
        "from tensorflow.keras.callbacks import Callback\n",
        "from tensorflow.keras.regularizers import l1, l2, L1L2\n",
        "import time\n",
        "\n",
        "\n",
        "from tensorflow.keras.applications import efficientnet\n",
        "from tensorflow.keras.applications import EfficientNetB2\n",
        "import tensorflow as tf\n",
        "\n",
        "\n",
        "\n"
      ],
      "metadata": {
        "id": "MYUpPu5jwJpY"
      },
      "execution_count": 1,
      "outputs": []
    },
    {
      "cell_type": "code",
      "source": [
        "\n",
        "model = keras.Sequential()\n",
        "model.add(Input((224,224,3)))\n",
        "model.add(Conv2D(64, (3,3), padding='same'))\n",
        "model.add(Conv2D(64, (3,3), padding='same'))\n",
        "model.add(BatchNormalization())\n",
        "model.add(MaxPooling2D())\n",
        "model.add(Conv2D(128, (3,3), padding='same'))\n",
        "model.add(Conv2D(128, (3,3), padding='same'))\n",
        "model.add(BatchNormalization())\n",
        "model.add(MaxPooling2D())\n",
        "model.add(Conv2D(256, (3,3), padding='same'))\n",
        "model.add(Conv2D(256, (3,3), padding='same'))\n",
        "model.add(BatchNormalization())\n",
        "model.add(MaxPooling2D())\n",
        "model.add(Conv2D(512, (3,3), padding='same'))\n",
        "model.add(Conv2D(512, (3,3), padding='same'))\n",
        "model.add(Conv2D(512, (3,3), padding='same'))\n",
        "model.add(BatchNormalization())\n",
        "model.add(MaxPooling2D())\n",
        "model.add(Conv2D(512, (3,3), padding='same'))\n",
        "model.add(Conv2D(512, (3,3), padding='same'))\n",
        "model.add(Conv2D(512, (3,3), padding='same'))\n",
        "model.add(BatchNormalization())\n",
        "model.add(MaxPooling2D())\n",
        "model.add(Flatten())\n",
        "model.add(Dense(64, activation='relu',kernel_regularizer=l2()))\n",
        "model.add(BatchNormalization())\n",
        "model.add(Dropout(0.2))\n",
        "model.add(Dense(64, activation='relu'))\n",
        "model.add(BatchNormalization())\n",
        "model.add(Dropout(0.2))\n",
        "model.add(Dense(1, activation='sigmoid'))"
      ],
      "metadata": {
        "id": "1g4MR_hMwocy"
      },
      "execution_count": 2,
      "outputs": []
    },
    {
      "cell_type": "code",
      "source": [
        "#실시간loss그래프\n",
        "from IPython.display import clear_output\n",
        "from tensorflow.keras.callbacks import Callback\n",
        "\n",
        "class PlotLosses(Callback):\n",
        "\n",
        "  def on_train_begin(self, logs={}):\n",
        "    self.epochs = []\n",
        "    self.losses = []\n",
        "    self.val_losses = []\n",
        "    self.logs = []\n",
        "    self.fig = plt.figure()\n",
        "\n",
        "\n",
        "  def on_epoch_end(self, epoch, logs={}):\n",
        "\n",
        "    self.epochs.append(epoch)\n",
        "    self.losses.append(logs.get('loss'))\n",
        "    self.val_losses.append(logs.get('val_loss'))\n",
        "\n",
        "    clear_output(wait=True)\n",
        "    plt.plot(self.epochs, self.losses, label=\"loss\")\n",
        "    plt.plot(self.epochs, self.val_losses, label=\"val_loss\")\n",
        "    plt.legend()\n",
        "    plt.show();\n",
        "    print(\"loss = \", self.losses[-1], \", val_loss = \", self.val_losses[-1])"
      ],
      "metadata": {
        "id": "JYYYKKMX7Qz4"
      },
      "execution_count": 3,
      "outputs": []
    },
    {
      "cell_type": "code",
      "source": [
        "plot_losses = PlotLosses()"
      ],
      "metadata": {
        "id": "8wLo5Ge5KErI"
      },
      "execution_count": 4,
      "outputs": []
    },
    {
      "cell_type": "markdown",
      "source": [
        "##Learning"
      ],
      "metadata": {
        "id": "fsYxgd4JKGxH"
      }
    },
    {
      "cell_type": "code",
      "source": [
        "#다중분류\n",
        "\n",
        "from tensorflow .keras. optimizers import Adam\n",
        "optimizer = Adam(learning_rate= 0.001*0.1, decay = 0.01 ) #lr\n",
        "model.compile(loss='sparse_categorical_crossentropy', optimizer=optimizer, metrics=['acc'])\n",
        "model.summary()\n",
        "\n",
        "def normalize(image):\n",
        "  return image/255.0\n",
        "\n",
        "preprocessor = normalize\n",
        "BATCH_SIZE = 128\n",
        "\n",
        "train_data_generator = ImageDataGenerator(\n",
        "      # rotation_range=10,\n",
        "      rotation_range=4, #bad1~3,good 4개\n",
        "      width_shift_range=0.1,\n",
        "      height_shift_range=0.1,\n",
        "      horizontal_flip=True,\n",
        "      vertical_flip=False,\n",
        "      preprocessing_function=preprocessor\n",
        ").flow_from_directory(\n",
        "      \"/content/gdrive/MyDrive/DATA0829/SIT1500/TRAIN\",#학습시킬 경로\n",
        "      target_size=(224,224),\n",
        "      batch_size=BATCH_SIZE,\n",
        "      class_mode='sparse'\n",
        ")\n",
        "\n",
        "test_data_generator = ImageDataGenerator(\n",
        "      preprocessing_function=preprocessor\n",
        ").flow_from_directory(\n",
        "      \"/content/gdrive/MyDrive/DATA0829/SIT1500/TEST\", #test경로\n",
        "      target_size=(224,224),\n",
        "      batch_size=BATCH_SIZE,\n",
        "      class_mode='sparse'\n",
        ")\n",
        "\n"
      ],
      "metadata": {
        "colab": {
          "base_uri": "https://localhost:8080/"
        },
        "id": "6ngbr7ChKHRW",
        "outputId": "d549bae3-0a76-4c35-b3d8-5e648cf31449"
      },
      "execution_count": 5,
      "outputs": [
        {
          "output_type": "stream",
          "name": "stdout",
          "text": [
            "Model: \"sequential\"\n",
            "_________________________________________________________________\n",
            " Layer (type)                Output Shape              Param #   \n",
            "=================================================================\n",
            " conv2d (Conv2D)             (None, 224, 224, 64)      1792      \n",
            "                                                                 \n",
            " conv2d_1 (Conv2D)           (None, 224, 224, 64)      36928     \n",
            "                                                                 \n",
            " batch_normalization (BatchN  (None, 224, 224, 64)     256       \n",
            " ormalization)                                                   \n",
            "                                                                 \n",
            " max_pooling2d (MaxPooling2D  (None, 112, 112, 64)     0         \n",
            " )                                                               \n",
            "                                                                 \n",
            " conv2d_2 (Conv2D)           (None, 112, 112, 128)     73856     \n",
            "                                                                 \n",
            " conv2d_3 (Conv2D)           (None, 112, 112, 128)     147584    \n",
            "                                                                 \n",
            " batch_normalization_1 (Batc  (None, 112, 112, 128)    512       \n",
            " hNormalization)                                                 \n",
            "                                                                 \n",
            " max_pooling2d_1 (MaxPooling  (None, 56, 56, 128)      0         \n",
            " 2D)                                                             \n",
            "                                                                 \n",
            " conv2d_4 (Conv2D)           (None, 56, 56, 256)       295168    \n",
            "                                                                 \n",
            " conv2d_5 (Conv2D)           (None, 56, 56, 256)       590080    \n",
            "                                                                 \n",
            " batch_normalization_2 (Batc  (None, 56, 56, 256)      1024      \n",
            " hNormalization)                                                 \n",
            "                                                                 \n",
            " max_pooling2d_2 (MaxPooling  (None, 28, 28, 256)      0         \n",
            " 2D)                                                             \n",
            "                                                                 \n",
            " conv2d_6 (Conv2D)           (None, 28, 28, 512)       1180160   \n",
            "                                                                 \n",
            " conv2d_7 (Conv2D)           (None, 28, 28, 512)       2359808   \n",
            "                                                                 \n",
            " conv2d_8 (Conv2D)           (None, 28, 28, 512)       2359808   \n",
            "                                                                 \n",
            " batch_normalization_3 (Batc  (None, 28, 28, 512)      2048      \n",
            " hNormalization)                                                 \n",
            "                                                                 \n",
            " max_pooling2d_3 (MaxPooling  (None, 14, 14, 512)      0         \n",
            " 2D)                                                             \n",
            "                                                                 \n",
            " conv2d_9 (Conv2D)           (None, 14, 14, 512)       2359808   \n",
            "                                                                 \n",
            " conv2d_10 (Conv2D)          (None, 14, 14, 512)       2359808   \n",
            "                                                                 \n",
            " conv2d_11 (Conv2D)          (None, 14, 14, 512)       2359808   \n",
            "                                                                 \n",
            " batch_normalization_4 (Batc  (None, 14, 14, 512)      2048      \n",
            " hNormalization)                                                 \n",
            "                                                                 \n",
            " max_pooling2d_4 (MaxPooling  (None, 7, 7, 512)        0         \n",
            " 2D)                                                             \n",
            "                                                                 \n",
            " flatten (Flatten)           (None, 25088)             0         \n",
            "                                                                 \n",
            " dense (Dense)               (None, 64)                1605696   \n",
            "                                                                 \n",
            " batch_normalization_5 (Batc  (None, 64)               256       \n",
            " hNormalization)                                                 \n",
            "                                                                 \n",
            " dropout (Dropout)           (None, 64)                0         \n",
            "                                                                 \n",
            " dense_1 (Dense)             (None, 64)                4160      \n",
            "                                                                 \n",
            " batch_normalization_6 (Batc  (None, 64)               256       \n",
            " hNormalization)                                                 \n",
            "                                                                 \n",
            " dropout_1 (Dropout)         (None, 64)                0         \n",
            "                                                                 \n",
            " dense_2 (Dense)             (None, 1)                 65        \n",
            "                                                                 \n",
            "=================================================================\n",
            "Total params: 15,740,929\n",
            "Trainable params: 15,737,729\n",
            "Non-trainable params: 3,200\n",
            "_________________________________________________________________\n",
            "Found 1711 images belonging to 3 classes.\n",
            "Found 429 images belonging to 3 classes.\n"
          ]
        }
      ]
    },
    {
      "cell_type": "code",
      "source": [
        "from tensorflow.keras.callbacks import ModelCheckpoint\n",
        "model_check_point = ModelCheckpoint(\n",
        "    'pose_best_model.h5', \n",
        "    monitor='val_loss', \n",
        "    verbose=1, \n",
        "    save_best_only=True)\n",
        "#모델체크포인트\n",
        "\n",
        "'''\n",
        "tf.keras.callbacks.ModelCheckpoint(\n",
        "    filepath, monitor='val_loss', verbose=0, save_best_only=False,\n",
        "    save_weights_only=False, mode='auto', save_freq='epoch', options=None, **kwargs\n",
        ")\n",
        "'''\n",
        "\n"
      ],
      "metadata": {
        "colab": {
          "base_uri": "https://localhost:8080/",
          "height": 54
        },
        "id": "Mn9b1RXVKVn6",
        "outputId": "c03270d9-6779-466c-f90c-151f2ca9bcb9"
      },
      "execution_count": 6,
      "outputs": [
        {
          "output_type": "execute_result",
          "data": {
            "text/plain": [
              "\"\\ntf.keras.callbacks.ModelCheckpoint(\\n    filepath, monitor='val_loss', verbose=0, save_best_only=False,\\n    save_weights_only=False, mode='auto', save_freq='epoch', options=None, **kwargs\\n)\\n\""
            ],
            "application/vnd.google.colaboratory.intrinsic+json": {
              "type": "string"
            }
          },
          "metadata": {},
          "execution_count": 6
        }
      ]
    },
    {
      "cell_type": "code",
      "source": [
        "history = model.fit(\n",
        "      train_data_generator,\n",
        "      validation_data=test_data_generator,\n",
        "      steps_per_epoch=train_data_generator.samples/BATCH_SIZE,\n",
        "      validation_steps=test_data_generator.samples/BATCH_SIZE,      \n",
        "      epochs=100, callbacks=[model_check_point,plot_losses]\n",
        ")\n",
        "\n",
        "plt.plot(history.history['loss'], label='train_loss')\n",
        "plt.plot(history.history['val_loss'], label='val_loss')\n",
        "plt.legend()\n",
        "plt.show()\n",
        "\n",
        "test_x, test_y = next(iter(test_data_generator))\n",
        "y_ = model.predict(test_x)\n",
        "predicted = np.argmax(y_, axis=-1)\n",
        "\n",
        "plt.plot(test_y[:100], \"o\")\n",
        "plt.plot(predicted[:100], '.')\n",
        "plt.show()\n"
      ],
      "metadata": {
        "id": "ZNKwAXqZKY46"
      },
      "execution_count": null,
      "outputs": []
    }
  ]
}