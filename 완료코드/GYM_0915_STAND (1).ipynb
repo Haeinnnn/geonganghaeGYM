{
  "nbformat": 4,
  "nbformat_minor": 0,
  "metadata": {
    "colab": {
      "provenance": [],
      "collapsed_sections": [],
      "toc_visible": true
    },
    "kernelspec": {
      "name": "python3",
      "display_name": "Python 3"
    },
    "language_info": {
      "name": "python"
    }
  },
  "cells": [
    {
      "cell_type": "markdown",
      "source": [
        "#Image Import\n",
        "\n",
        "- stand1500 : https://drive.google.com/drive/folders/1YGz7J9x5LE3QKOB6-HJi_--NIH2UxZio?usp=sharing \n",
        "![image.png](data:image/png;base64,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)\n",
        "- 드라이브에 바로가기 추가 -> 내 드라이브 -> 폴더생성(DATA) -> 생성된 폴더 안에 바로가기추가"
      ],
      "metadata": {
        "id": "q0R7FUfnLDbr"
      }
    },
    {
      "cell_type": "code",
      "execution_count": 3,
      "metadata": {
        "colab": {
          "base_uri": "https://localhost:8080/"
        },
        "id": "EYYlz51GK8jc",
        "outputId": "688464e4-7019-49af-be7a-86bc1ffda765"
      },
      "outputs": [
        {
          "output_type": "stream",
          "name": "stdout",
          "text": [
            "Drive already mounted at /content/gdrive; to attempt to forcibly remount, call drive.mount(\"/content/gdrive\", force_remount=True).\n"
          ]
        }
      ],
      "source": [
        "from google.colab import drive\n",
        "drive.mount('/content/gdrive') # 드라이브 마운트"
      ]
    },
    {
      "cell_type": "code",
      "source": [
        "%cd /content/gdrive/MyDrive/DATA/STAND1500/TRAIN\n",
        "import os\n",
        "dr= os.getcwd() #현재 위치 주소\n",
        "drD=\"\"\n",
        "drD=dr+\"/*/*.jpg\""
      ],
      "metadata": {
        "colab": {
          "base_uri": "https://localhost:8080/"
        },
        "id": "xGBMc8MAN8OR",
        "outputId": "3ee2ce1b-bac6-4724-8eaa-fcadda7c3589"
      },
      "execution_count": 4,
      "outputs": [
        {
          "output_type": "stream",
          "name": "stdout",
          "text": [
            "/content/gdrive/.shortcut-targets-by-id/1YGz7J9x5LE3QKOB6-HJi_--NIH2UxZio/STAND1500/TRAIN\n"
          ]
        }
      ]
    },
    {
      "cell_type": "code",
      "source": [
        "pwd # 현위치 확인"
      ],
      "metadata": {
        "colab": {
          "base_uri": "https://localhost:8080/",
          "height": 36
        },
        "id": "UBKjuwXhOsDr",
        "outputId": "048cccd0-6ccd-4577-9db3-234133789f41"
      },
      "execution_count": 5,
      "outputs": [
        {
          "output_type": "execute_result",
          "data": {
            "text/plain": [
              "'/content/gdrive/.shortcut-targets-by-id/1YGz7J9x5LE3QKOB6-HJi_--NIH2UxZio/STAND1500/TRAIN'"
            ],
            "application/vnd.google.colaboratory.intrinsic+json": {
              "type": "string"
            }
          },
          "metadata": {},
          "execution_count": 5
        }
      ]
    },
    {
      "cell_type": "markdown",
      "source": [
        "##Loading library\n",
        "\n",
        "- YOLO 모델 : 영역을 표시하고 뿐만 아니라 인식된 사물이 어떤것인지 까지 알려주는 모델"
      ],
      "metadata": {
        "id": "wpmywO-oPmXe"
      }
    },
    {
      "cell_type": "code",
      "source": [
        "%cd /content/\n",
        "!git clone https://github.com/dhrim/darkeras-yolov4\n",
        "%cd darkeras-yolov4\n",
        "!wget -O weights/yolov3.weights https://pjreddie.com/media/files/yolov3.weights"
      ],
      "metadata": {
        "id": "Tko9t4L5PlH6",
        "colab": {
          "base_uri": "https://localhost:8080/"
        },
        "outputId": "9ef93430-67e7-43ac-8953-d186bc7070cd"
      },
      "execution_count": 6,
      "outputs": [
        {
          "output_type": "stream",
          "name": "stdout",
          "text": [
            "/content\n",
            "Cloning into 'darkeras-yolov4'...\n",
            "remote: Enumerating objects: 175, done.\u001b[K\n",
            "remote: Counting objects: 100% (36/36), done.\u001b[K\n",
            "remote: Compressing objects: 100% (13/13), done.\u001b[K\n",
            "remote: Total 175 (delta 27), reused 25 (delta 23), pack-reused 139\u001b[K\n",
            "Receiving objects: 100% (175/175), 8.08 MiB | 14.98 MiB/s, done.\n",
            "Resolving deltas: 100% (82/82), done.\n",
            "/content/darkeras-yolov4\n",
            "--2022-09-15 11:04:55--  https://pjreddie.com/media/files/yolov3.weights\n",
            "Resolving pjreddie.com (pjreddie.com)... 128.208.4.108\n",
            "Connecting to pjreddie.com (pjreddie.com)|128.208.4.108|:443... connected.\n",
            "HTTP request sent, awaiting response... 200 OK\n",
            "Length: 248007048 (237M) [application/octet-stream]\n",
            "Saving to: ‘weights/yolov3.weights’\n",
            "\n",
            "weights/yolov3.weig 100%[===================>] 236.52M  71.7MB/s    in 3.5s    \n",
            "\n",
            "2022-09-15 11:04:59 (66.7 MB/s) - ‘weights/yolov3.weights’ saved [248007048/248007048]\n",
            "\n"
          ]
        }
      ]
    },
    {
      "cell_type": "markdown",
      "source": [
        "##Model loading"
      ],
      "metadata": {
        "id": "OY8wYSGNQ_c9"
      }
    },
    {
      "cell_type": "code",
      "source": [
        "import yolov3_wrapper\n",
        "model = yolov3_wrapper.YoloV3Wrapper(\"weights/yolov3.weights\")\n",
        "model.save(\"yolov3.h5\")"
      ],
      "metadata": {
        "id": "quh50ZUMQ9BB",
        "colab": {
          "base_uri": "https://localhost:8080/"
        },
        "outputId": "3ae3de78-6926-4d29-ef45-a5cab4cee978"
      },
      "execution_count": 7,
      "outputs": [
        {
          "output_type": "stream",
          "name": "stderr",
          "text": [
            "WARNING:tensorflow:Compiled the loaded model, but the compiled metrics have yet to be built. `model.compile_metrics` will be empty until you train or evaluate the model.\n"
          ]
        }
      ]
    },
    {
      "cell_type": "markdown",
      "source": [
        "#Image Crop + Save crop data\n",
        "- 학습 속도가 더욱 빨라지도록 사람을 인식하고 해당되는 영역만 자름\n",
        "- 자른 데이터가 저장되도록 드라이브의 첫화면에 DATA0829/STAND1500/TRAIN/GOOD, BAD1, BAD2, BAD3 를 생성해줌"
      ],
      "metadata": {
        "id": "b0DD-OOfNYgT"
      }
    },
    {
      "cell_type": "code",
      "source": [
        "print(dr) # 현위치 확인"
      ],
      "metadata": {
        "colab": {
          "base_uri": "https://localhost:8080/"
        },
        "id": "krALWrsTUHcc",
        "outputId": "2fad1fe8-fd54-4156-ec6b-ac75cd6165a2"
      },
      "execution_count": 8,
      "outputs": [
        {
          "output_type": "stream",
          "name": "stdout",
          "text": [
            "/content/gdrive/.shortcut-targets-by-id/1YGz7J9x5LE3QKOB6-HJi_--NIH2UxZio/STAND1500/TRAIN\n"
          ]
        }
      ]
    },
    {
      "cell_type": "code",
      "source": [
        "import glob #glob 모듈의 glob 함수는 사용자가 제시한 조건에 맞는 파일명을 리스트 형식으로 반환한다.\n",
        "\n",
        "for filename in glob.glob(dr):\n",
        "  print(filename)\n",
        "  name_list = filename.split(\"/\")\n",
        "  print(name_list)"
      ],
      "metadata": {
        "colab": {
          "base_uri": "https://localhost:8080/"
        },
        "id": "isb8JHumVA5M",
        "outputId": "a64dfda3-8ca9-4395-c2eb-377021d71548"
      },
      "execution_count": 9,
      "outputs": [
        {
          "output_type": "stream",
          "name": "stdout",
          "text": [
            "/content/gdrive/.shortcut-targets-by-id/1YGz7J9x5LE3QKOB6-HJi_--NIH2UxZio/STAND1500/TRAIN\n",
            "['', 'content', 'gdrive', '.shortcut-targets-by-id', '1YGz7J9x5LE3QKOB6-HJi_--NIH2UxZio', 'STAND1500', 'TRAIN']\n"
          ]
        }
      ]
    },
    {
      "cell_type": "code",
      "source": [
        "print(name_list[len(name_list) - 1])\n",
        "print(drD)\n",
        "print(name_list)\n",
        "print(name_list[len(name_list) - 2])"
      ],
      "metadata": {
        "colab": {
          "base_uri": "https://localhost:8080/"
        },
        "id": "MQiq45y9YhsB",
        "outputId": "59abbc26-1a76-40cf-8049-a1285b1fbc7d"
      },
      "execution_count": 10,
      "outputs": [
        {
          "output_type": "stream",
          "name": "stdout",
          "text": [
            "TRAIN\n",
            "/content/gdrive/.shortcut-targets-by-id/1YGz7J9x5LE3QKOB6-HJi_--NIH2UxZio/STAND1500/TRAIN/*/*.jpg\n",
            "['', 'content', 'gdrive', '.shortcut-targets-by-id', '1YGz7J9x5LE3QKOB6-HJi_--NIH2UxZio', 'STAND1500', 'TRAIN']\n",
            "STAND1500\n"
          ]
        }
      ]
    },
    {
      "cell_type": "code",
      "source": [
        "import cv2\n",
        "import numpy as np\n",
        "import matplotlib.pyplot as plt\n",
        "\n",
        "import glob\n",
        "import os\n",
        "\n",
        "import core\n",
        "import colorsys\n",
        "import random\n",
        "\n",
        "\n",
        "def draw_bbox(file_name1, bboxes, show_label=True):\n",
        "    Msc=[0]\n",
        "  \n",
        "    try:\n",
        "        classes = class_names #classes : 딕셔너리 가능 항목 가져옴 num:str\n",
        "    except NameError:\n",
        "        classes = core.utils.read_class_names(\"./data/classes/coco.names\")\n",
        "    num_classes = len(classes)\n",
        "    image_h, image_w, _ = file_name1.shape#이미지 크기\n",
        "\n",
        "    hsv_tuples = [(1.0 * x / num_classes, 1., 1.) for x in range(num_classes)]\n",
        "    colors = list(map(lambda x: colorsys.hsv_to_rgb(*x), hsv_tuples))\n",
        "    colors = list(map(lambda x: (int(x[0] * 255), int(x[1] * 255), int(x[2] * 255)), colors))\n",
        "\n",
        "    random.seed(0)\n",
        "    random.shuffle(colors)\n",
        "    random.seed(None)\n",
        "\n",
        "    for i, bbox in enumerate(bboxes):#indexing(count, list v)\n",
        "        coor = np.array(bbox[:4], dtype=np.int32)\n",
        "        \n",
        "        fontScale = 0.5\n",
        "        score = bbox[4]\n",
        "        Msc=np.append(Msc,score)\n",
        "        class_ind = int(bbox[5])\n",
        "\n",
        "        if classes[class_ind] in \"person\" :\n",
        "          if score>=np.max(Msc):\n",
        "            bbox_color = colors[class_ind]\n",
        "            bbox_thick = int(0.5 * (image_h + image_w) / 600)\n",
        "            c1, c2 = (coor[0], coor[1]), (coor[2], coor[3]) \n",
        "            print(c1,\"/\",c2)\n",
        "            cv2.rectangle(file_name1, c1, c2, bbox_color, bbox_thick)\n",
        "            score=np.max(Msc)\n",
        "            print('%s'%classes[class_ind],\"SC\",score)\n",
        "            bbox_mess = '%s: %.2f' % (classes[class_ind], score)#출력되는 text\n",
        "            t_size = cv2.getTextSize(bbox_mess, 0, fontScale, thickness=bbox_thick//2)[0]\n",
        "\n",
        "            c1_1= (c1[0] + t_size[0], c1[1] - t_size[1] - 3)\n",
        "            PP=file_name1[c1[1]:c2[1],c1[0]:c2[0]]\n",
        "\n",
        "            cv2.rectangle(file_name1,c1, (c1[0] + t_size[0], c1[1] - t_size[1] - 3-100), bbox_color,0)  # filled#labeling2\n",
        "            #이미지S 파일,시작점(x,y),종료점(x,y)\n",
        "            PP = cv2.cvtColor(PP, cv2.COLOR_RGB2BGR) # 색상 변경\n",
        "            cv2.imwrite(\"/content/gdrive/MyDrive/DATA0829/STAND1500/TRAIN/\" +name_list[len(name_list) - 2]+\"/\"+ name_list[len(name_list) - 1], PP) # 사람 부분만 이미지 추출 #자기의 tmp 폴더에 good 폴더 미리 생성 \n",
        "    return file_name1"
      ],
      "metadata": {
        "id": "qrstlraGREVh"
      },
      "execution_count": 11,
      "outputs": []
    },
    {
      "cell_type": "code",
      "source": [
        "for file_name in glob.glob(drD):  # \"현 디렉터리\"의 모든 사진들을 불러옴\n",
        "  print(file_name)\n",
        "  name_list = file_name.split(\"/\")\n",
        "  new_filename = name_list[len(name_list) - 1] # 사진 파일 이름을 new_filename에 저장\n",
        "  INPUT_SIZE = 800\n",
        "\n",
        "  image_path = file_name\n",
        "  file_name = cv2.imread(image_path)#이미지 파일 경로\n",
        "  file_name = cv2.cvtColor(file_name, cv2.COLOR_BGR2RGB)#입력 이미지,색상 변환 코드\n",
        "\n",
        "  plt.figure(figsize=(12,20))\n",
        "  plt.imshow(file_name)\n",
        "  plt.show()\n",
        "\n",
        "  #2\n",
        "  bboxes = model.predict(file_name)#keras코드에서 boundary box로 bounding 됨\n",
        "\n",
        "  #3\n",
        "  dummy = np.copy(file_name)\n",
        "  print(bboxes)\n",
        "  for box in bboxes:\n",
        "    x1, y1, x2, y2 = int(box[0]), int(box[1]), int(box[2]), int(box[3])\n",
        "    conf = box[4]\n",
        "    cls_id = int(box[5])\n",
        "    dummy = cv2.rectangle(dummy, (x1,y1), (x2,y2), (255,0,0), 2)#빨간색, 선의 두께는 2\n",
        "\n",
        "  plt.figure(figsize=(12,20))#(그래프 가로, 세로)\n",
        "  file_name = draw_bbox(file_name, bboxes)\n",
        "print(\"\\nALL DONE\")\n",
        "  "
      ],
      "metadata": {
        "id": "vQmvuKA7ZS1X"
      },
      "execution_count": null,
      "outputs": []
    },
    {
      "cell_type": "markdown",
      "source": [
        "#DEEP LEARNING(CNN)\n",
        "\n",
        "- vanilla cnn을 사용, 가장 기본적으로 사용되는 방식\n",
        "- 위에서 잘린 stnad 이미지 : https://drive.google.com/drive/folders/1emfX_5RaR7MvrP_pdgOhdYFrbp3ikPhF?usp=sharing\n",
        "- 위를 실행하지 않고 CNN만 실행시키고 싶다면\n",
        "\n",
        "![image.png](data:image/png;base64,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)\n",
        "- 드라이브에 바로가기 추가 -> 내 드라이브 -> 폴더생성(DATA0829) -> 생성된 폴더 안에 바로가기추가"
      ],
      "metadata": {
        "id": "J169Mn5lwKQ7"
      }
    },
    {
      "cell_type": "markdown",
      "source": [
        "##Module importing"
      ],
      "metadata": {
        "id": "Aogk90XlJuye"
      }
    },
    {
      "cell_type": "code",
      "source": [
        "import os\n",
        "import pandas as pd\n",
        "import matplotlib.pyplot as plt\n",
        "import numpy as np\n",
        "\n",
        "from tensorflow import keras\n",
        "from tensorflow.keras import optimizers\n",
        "from tensorflow.keras import models\n",
        "from tensorflow.keras import layers\n",
        "from tensorflow.keras import optimizers\n",
        "from tensorflow.keras import Sequential\n",
        "from tensorflow.keras.layers import GaussianNoise\n",
        "from tensorflow.keras.layers import Dropout, Flatten, Dense, BatchNormalization, Conv2D, MaxPooling2D, Input\n",
        "from tensorflow.keras import Model\n",
        "from tensorflow.keras.preprocessing.image import ImageDataGenerator\n",
        "from tensorflow.keras.preprocessing.image import load_img\n",
        "from tensorflow.keras.preprocessing.image import img_to_array\n",
        "from tensorflow.keras.callbacks import Callback\n",
        "from tensorflow.keras.regularizers import l1, l2, L1L2\n",
        "import time\n",
        "\n",
        "\n",
        "from tensorflow.keras.applications import efficientnet\n",
        "from tensorflow.keras.applications import EfficientNetB2\n",
        "import tensorflow as tf\n",
        "\n",
        "\n",
        "\n"
      ],
      "metadata": {
        "id": "MYUpPu5jwJpY"
      },
      "execution_count": 25,
      "outputs": []
    },
    {
      "cell_type": "code",
      "source": [
        "\n",
        "model = keras.Sequential()\n",
        "model.add(Input((224,224,3)))\n",
        "model.add(Conv2D(64, (3,3), padding='same'))\n",
        "model.add(Conv2D(64, (3,3), padding='same'))\n",
        "model.add(BatchNormalization())\n",
        "model.add(MaxPooling2D())\n",
        "model.add(Conv2D(128, (3,3), padding='same'))\n",
        "model.add(Conv2D(128, (3,3), padding='same'))\n",
        "model.add(BatchNormalization())\n",
        "model.add(MaxPooling2D())\n",
        "model.add(Conv2D(256, (3,3), padding='same'))\n",
        "model.add(Conv2D(256, (3,3), padding='same'))\n",
        "model.add(BatchNormalization())\n",
        "model.add(MaxPooling2D())\n",
        "model.add(Conv2D(512, (3,3), padding='same'))\n",
        "model.add(Conv2D(512, (3,3), padding='same'))\n",
        "model.add(Conv2D(512, (3,3), padding='same'))\n",
        "model.add(BatchNormalization())\n",
        "model.add(MaxPooling2D())\n",
        "model.add(Conv2D(512, (3,3), padding='same'))\n",
        "model.add(Conv2D(512, (3,3), padding='same'))\n",
        "model.add(Conv2D(512, (3,3), padding='same'))\n",
        "model.add(BatchNormalization())\n",
        "model.add(MaxPooling2D())\n",
        "model.add(Flatten())\n",
        "model.add(Dense(64, activation='relu',kernel_regularizer=l2()))\n",
        "model.add(BatchNormalization())\n",
        "model.add(Dropout(0.2))\n",
        "model.add(Dense(64, activation='relu'))\n",
        "model.add(BatchNormalization())\n",
        "model.add(Dropout(0.2))\n",
        "model.add(Dense(4, activation='softmax'))"
      ],
      "metadata": {
        "id": "1g4MR_hMwocy"
      },
      "execution_count": 26,
      "outputs": []
    },
    {
      "cell_type": "code",
      "source": [
        "#실시간loss그래프\n",
        "from IPython.display import clear_output\n",
        "from tensorflow.keras.callbacks import Callback\n",
        "\n",
        "class PlotLosses(Callback):\n",
        "\n",
        "  def on_train_begin(self, logs={}):\n",
        "    self.epochs = []\n",
        "    self.losses = []\n",
        "    self.val_losses = []\n",
        "    self.logs = []\n",
        "    self.fig = plt.figure()\n",
        "\n",
        "\n",
        "  def on_epoch_end(self, epoch, logs={}):\n",
        "\n",
        "    self.epochs.append(epoch)\n",
        "    self.losses.append(logs.get('loss'))\n",
        "    self.val_losses.append(logs.get('val_loss'))\n",
        "\n",
        "    clear_output(wait=True)\n",
        "    plt.plot(self.epochs, self.losses, label=\"loss\")\n",
        "    plt.plot(self.epochs, self.val_losses, label=\"val_loss\")\n",
        "    plt.legend()\n",
        "    plt.show();\n",
        "    print(\"loss = \", self.losses[-1], \", val_loss = \", self.val_losses[-1])"
      ],
      "metadata": {
        "id": "JYYYKKMX7Qz4"
      },
      "execution_count": 27,
      "outputs": []
    },
    {
      "cell_type": "code",
      "source": [
        "plot_losses = PlotLosses()"
      ],
      "metadata": {
        "id": "8wLo5Ge5KErI"
      },
      "execution_count": 28,
      "outputs": []
    },
    {
      "cell_type": "markdown",
      "source": [
        "##Learning"
      ],
      "metadata": {
        "id": "fsYxgd4JKGxH"
      }
    },
    {
      "cell_type": "code",
      "source": [
        "#다중분류\n",
        "\n",
        "from tensorflow .keras. optimizers import Adam\n",
        "optimizer = Adam(learning_rate= 0.001*0.1, decay = 0.01 ) #lr\n",
        "model.compile(loss='sparse_categorical_crossentropy', optimizer=optimizer, metrics=['acc'])\n",
        "model.summary()\n",
        "\n",
        "def normalize(image):\n",
        "  return image/255.0\n",
        "\n",
        "preprocessor = normalize\n",
        "BATCH_SIZE = 128\n",
        "\n",
        "train_data_generator = ImageDataGenerator(\n",
        "      # rotation_range=10,\n",
        "      rotation_range=4, #bad1~3,good 4개\n",
        "      width_shift_range=0.1,\n",
        "      height_shift_range=0.1,\n",
        "      horizontal_flip=True,\n",
        "      vertical_flip=False,\n",
        "      preprocessing_function=preprocessor\n",
        ").flow_from_directory(\n",
        "      \"/content/gdrive/MyDrive/DATA0829/STAND1500/TRAIN\",#학습시킬 경로\n",
        "      target_size=(224,224),\n",
        "      batch_size=BATCH_SIZE,\n",
        "      class_mode='sparse'\n",
        ")\n",
        "\n",
        "test_data_generator = ImageDataGenerator(\n",
        "      preprocessing_function=preprocessor\n",
        ").flow_from_directory(\n",
        "      \"/content/gdrive/MyDrive/DATA0829/STAND1500/TEST\", #test경로\n",
        "      target_size=(224,224),\n",
        "      batch_size=BATCH_SIZE,\n",
        "      class_mode='sparse'\n",
        ")\n",
        "\n"
      ],
      "metadata": {
        "id": "6ngbr7ChKHRW",
        "outputId": "5a343c09-0aec-423f-eeaa-1f4f5e519810",
        "colab": {
          "base_uri": "https://localhost:8080/"
        }
      },
      "execution_count": 30,
      "outputs": [
        {
          "output_type": "stream",
          "name": "stdout",
          "text": [
            "Model: \"sequential_3\"\n",
            "_________________________________________________________________\n",
            " Layer (type)                Output Shape              Param #   \n",
            "=================================================================\n",
            " conv2d_111 (Conv2D)         (None, 224, 224, 64)      1792      \n",
            "                                                                 \n",
            " conv2d_112 (Conv2D)         (None, 224, 224, 64)      36928     \n",
            "                                                                 \n",
            " batch_normalization_93 (Bat  (None, 224, 224, 64)     256       \n",
            " chNormalization)                                                \n",
            "                                                                 \n",
            " max_pooling2d_15 (MaxPoolin  (None, 112, 112, 64)     0         \n",
            " g2D)                                                            \n",
            "                                                                 \n",
            " conv2d_113 (Conv2D)         (None, 112, 112, 128)     73856     \n",
            "                                                                 \n",
            " conv2d_114 (Conv2D)         (None, 112, 112, 128)     147584    \n",
            "                                                                 \n",
            " batch_normalization_94 (Bat  (None, 112, 112, 128)    512       \n",
            " chNormalization)                                                \n",
            "                                                                 \n",
            " max_pooling2d_16 (MaxPoolin  (None, 56, 56, 128)      0         \n",
            " g2D)                                                            \n",
            "                                                                 \n",
            " conv2d_115 (Conv2D)         (None, 56, 56, 256)       295168    \n",
            "                                                                 \n",
            " conv2d_116 (Conv2D)         (None, 56, 56, 256)       590080    \n",
            "                                                                 \n",
            " batch_normalization_95 (Bat  (None, 56, 56, 256)      1024      \n",
            " chNormalization)                                                \n",
            "                                                                 \n",
            " max_pooling2d_17 (MaxPoolin  (None, 28, 28, 256)      0         \n",
            " g2D)                                                            \n",
            "                                                                 \n",
            " conv2d_117 (Conv2D)         (None, 28, 28, 512)       1180160   \n",
            "                                                                 \n",
            " conv2d_118 (Conv2D)         (None, 28, 28, 512)       2359808   \n",
            "                                                                 \n",
            " conv2d_119 (Conv2D)         (None, 28, 28, 512)       2359808   \n",
            "                                                                 \n",
            " batch_normalization_96 (Bat  (None, 28, 28, 512)      2048      \n",
            " chNormalization)                                                \n",
            "                                                                 \n",
            " max_pooling2d_18 (MaxPoolin  (None, 14, 14, 512)      0         \n",
            " g2D)                                                            \n",
            "                                                                 \n",
            " conv2d_120 (Conv2D)         (None, 14, 14, 512)       2359808   \n",
            "                                                                 \n",
            " conv2d_121 (Conv2D)         (None, 14, 14, 512)       2359808   \n",
            "                                                                 \n",
            " conv2d_122 (Conv2D)         (None, 14, 14, 512)       2359808   \n",
            "                                                                 \n",
            " batch_normalization_97 (Bat  (None, 14, 14, 512)      2048      \n",
            " chNormalization)                                                \n",
            "                                                                 \n",
            " max_pooling2d_19 (MaxPoolin  (None, 7, 7, 512)        0         \n",
            " g2D)                                                            \n",
            "                                                                 \n",
            " flatten_3 (Flatten)         (None, 25088)             0         \n",
            "                                                                 \n",
            " dense_9 (Dense)             (None, 64)                1605696   \n",
            "                                                                 \n",
            " batch_normalization_98 (Bat  (None, 64)               256       \n",
            " chNormalization)                                                \n",
            "                                                                 \n",
            " dropout_6 (Dropout)         (None, 64)                0         \n",
            "                                                                 \n",
            " dense_10 (Dense)            (None, 64)                4160      \n",
            "                                                                 \n",
            " batch_normalization_99 (Bat  (None, 64)               256       \n",
            " chNormalization)                                                \n",
            "                                                                 \n",
            " dropout_7 (Dropout)         (None, 64)                0         \n",
            "                                                                 \n",
            " dense_11 (Dense)            (None, 4)                 260       \n",
            "                                                                 \n",
            "=================================================================\n",
            "Total params: 15,741,124\n",
            "Trainable params: 15,737,924\n",
            "Non-trainable params: 3,200\n",
            "_________________________________________________________________\n",
            "Found 2687 images belonging to 4 classes.\n",
            "Found 513 images belonging to 4 classes.\n"
          ]
        }
      ]
    },
    {
      "cell_type": "code",
      "source": [
        "from tensorflow.keras.callbacks import ModelCheckpoint\n",
        "model_check_point = ModelCheckpoint(\n",
        "    'pose_best_model.h5', \n",
        "    monitor='val_loss', \n",
        "    verbose=1, \n",
        "    save_best_only=True)\n",
        "#모델체크포인트\n",
        "\n",
        "'''\n",
        "tf.keras.callbacks.ModelCheckpoint(\n",
        "    filepath, monitor='val_loss', verbose=0, save_best_only=False,\n",
        "    save_weights_only=False, mode='auto', save_freq='epoch', options=None, **kwargs\n",
        ")\n",
        "'''\n",
        "\n"
      ],
      "metadata": {
        "id": "Mn9b1RXVKVn6",
        "outputId": "65d690d6-0877-48c3-fbfb-0e930ad77f05",
        "colab": {
          "base_uri": "https://localhost:8080/",
          "height": 54
        }
      },
      "execution_count": 31,
      "outputs": [
        {
          "output_type": "execute_result",
          "data": {
            "text/plain": [
              "\"\\ntf.keras.callbacks.ModelCheckpoint(\\n    filepath, monitor='val_loss', verbose=0, save_best_only=False,\\n    save_weights_only=False, mode='auto', save_freq='epoch', options=None, **kwargs\\n)\\n\""
            ],
            "application/vnd.google.colaboratory.intrinsic+json": {
              "type": "string"
            }
          },
          "metadata": {},
          "execution_count": 31
        }
      ]
    },
    {
      "cell_type": "code",
      "source": [
        "history = model.fit(\n",
        "      train_data_generator,\n",
        "      validation_data=test_data_generator,\n",
        "      steps_per_epoch=train_data_generator.samples/BATCH_SIZE,\n",
        "      validation_steps=test_data_generator.samples/BATCH_SIZE,      \n",
        "      epochs=250, callbacks=[model_check_point,plot_losses]\n",
        ")\n",
        "\n",
        "plt.plot(history.history['loss'], label='train_loss')\n",
        "plt.plot(history.history['val_loss'], label='val_loss')\n",
        "plt.legend()\n",
        "plt.show()\n",
        "\n",
        "test_x, test_y = next(iter(test_data_generator))\n",
        "y_ = model.predict(test_x)\n",
        "predicted = np.argmax(y_, axis=-1)\n",
        "\n",
        "plt.plot(test_y[:100], \"o\")\n",
        "plt.plot(predicted[:100], '.')\n",
        "plt.show()\n"
      ],
      "metadata": {
        "id": "ZNKwAXqZKY46"
      },
      "execution_count": null,
      "outputs": []
    }
  ]
}